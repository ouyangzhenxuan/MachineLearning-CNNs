{
 "cells": [
  {
   "cell_type": "code",
   "execution_count": 1,
   "metadata": {},
   "outputs": [
    {
     "name": "stderr",
     "output_type": "stream",
     "text": [
      "/Users/ouyang/opt/anaconda3/envs/python36/lib/python3.6/site-packages/sklearn/utils/deprecation.py:144: FutureWarning: The sklearn.datasets.base module is  deprecated in version 0.22 and will be removed in version 0.24. The corresponding classes / functions should instead be imported from sklearn.datasets. Anything that cannot be imported from sklearn.datasets is now part of the private API.\n",
      "  warnings.warn(message, FutureWarning)\n"
     ]
    }
   ],
   "source": [
    "%matplotlib inline\n",
    "import pandas as pd\n",
    "from matplotlib import pyplot as plt\n",
    "import scipy.io\n",
    "from sklearn.datasets.base import Bunch\n",
    "import numpy as np\n",
    "from sklearn.model_selection import train_test_split\n",
    "import warnings\n",
    "warnings.filterwarnings('ignore')"
   ]
  },
  {
   "cell_type": "markdown",
   "metadata": {},
   "source": [
    "## [10 points] Download the ChEMBL database or setup queries to download a subset of the database. An already processed version of the dataset is available here (thanks to Niraj Verma): https://smu.box.com/s/smqmwlef0yehpieicwxqdr99k7f9ru04"
   ]
  },
  {
   "cell_type": "code",
   "execution_count": 2,
   "metadata": {},
   "outputs": [],
   "source": [
    "f = open('./dataCHEMBL/data.csv', 'r', encoding=\"ISO-8859-1\")\n",
    "lines = f.readlines()\n",
    "f.close()"
   ]
  },
  {
   "cell_type": "code",
   "execution_count": 3,
   "metadata": {},
   "outputs": [
    {
     "data": {
      "text/plain": [
       "1065321"
      ]
     },
     "execution_count": 3,
     "metadata": {},
     "output_type": "execute_result"
    }
   ],
   "source": [
    "len(lines)"
   ]
  },
  {
   "cell_type": "code",
   "execution_count": 4,
   "metadata": {},
   "outputs": [
    {
     "name": "stdout",
     "output_type": "stream",
     "text": [
      "\"\u0000M\u0000o\u0000l\u0000e\u0000c\u0000u\u0000l\u0000e\u0000\"\u0000,\u0000\"\u0000S\u0000t\u0000a\u0000n\u0000d\u0000a\u0000r\u0000d\u0000 \u0000T\u0000y\u0000p\u0000e\u0000\"\u0000,\u0000\"\u0000S\u0000t\u0000a\u0000n\u0000d\u0000a\u0000r\u0000d\u0000 \u0000R\u0000e\u0000l\u0000a\u0000t\u0000i\u0000o\u0000n\u0000\"\u0000,\u0000\"\u0000S\u0000t\u0000a\u0000n\u0000d\u0000a\u0000r\u0000d\u0000 \u0000V\u0000a\u0000l\u0000u\u0000e\u0000\"\u0000,\u0000\"\u0000S\u0000t\u0000a\u0000n\u0000d\u0000a\u0000r\u0000d\u0000 \u0000U\u0000n\u0000i\u0000t\u0000s\u0000\"\u0000,\u0000\"\u0000p\u0000C\u0000h\u0000E\u0000M\u0000B\u0000L\u0000 \u0000V\u0000a\u0000l\u0000u\u0000e\u0000\"\u0000,\u0000\"\u0000C\u0000o\u0000m\u0000m\u0000e\u0000n\u0000t\u0000\"\u0000,\u0000\"\u0000C\u0000o\u0000m\u0000p\u0000o\u0000u\u0000n\u0000d\u0000 \u0000K\u0000e\u0000y\u0000\"\u0000,\u0000\"\u0000A\u0000s\u0000s\u0000a\u0000y\u0000\"\u0000,\u0000\"\u0000A\u0000s\u0000s\u0000a\u0000y\u0000 \u0000D\u0000e\u0000s\u0000c\u0000r\u0000i\u0000p\u0000t\u0000i\u0000o\u0000n\u0000\"\u0000,\u0000\"\u0000B\u0000A\u0000O\u0000 \u0000F\u0000o\u0000r\u0000m\u0000a\u0000t\u0000\"\u0000,\u0000\"\u0000T\u0000a\u0000r\u0000g\u0000e\u0000t\u0000\"\u0000,\u0000\"\u0000T\u0000a\u0000r\u0000g\u0000e\u0000t\u0000 \u0000P\u0000r\u0000e\u0000f\u0000.\u0000 \u0000N\u0000a\u0000m\u0000e\u0000\"\u0000,\u0000\"\u0000T\u0000a\u0000r\u0000g\u0000e\u0000t\u0000 \u0000O\u0000r\u0000g\u0000a\u0000n\u0000i\u0000s\u0000m\u0000\"\u0000,\u0000\"\u0000T\u0000a\u0000r\u0000g\u0000e\u0000t\u0000 \u0000T\u0000y\u0000p\u0000e\u0000\"\u0000,\u0000\"\u0000D\u0000o\u0000c\u0000u\u0000m\u0000e\u0000n\u0000t\u0000\"\u0000,\u0000\"\u0000S\u0000o\u0000u\u0000r\u0000c\u0000e\u0000\"\u0000,\u0000\"\u0000M\u0000a\u0000x\u0000 \u0000P\u0000h\u0000a\u0000s\u0000e\u0000\"\u0000,\u0000\"\u0000#\u0000R\u0000o\u00005\u0000 \u0000V\u0000i\u0000o\u0000l\u0000a\u0000t\u0000i\u0000o\u0000n\u0000s\u0000\"\u0000,\u0000\"\u0000M\u0000o\u0000l\u0000e\u0000c\u0000u\u0000l\u0000a\u0000r\u0000 \u0000W\u0000e\u0000i\u0000g\u0000h\u0000t\u0000\"\u0000,\u0000\"\u0000L\u0000i\u0000g\u0000a\u0000n\u0000d\u0000 \u0000E\u0000f\u0000f\u0000i\u0000c\u0000i\u0000e\u0000n\u0000c\u0000y\u0000 \u0000B\u0000E\u0000I\u0000\"\u0000,\u0000\"\u0000L\u0000i\u0000g\u0000a\u0000n\u0000d\u0000 \u0000E\u0000f\u0000f\u0000i\u0000c\u0000i\u0000e\u0000n\u0000c\u0000y\u0000 \u0000L\u0000E\u0000\"\u0000,\u0000\"\u0000L\u0000i\u0000g\u0000a\u0000n\u0000d\u0000 \u0000E\u0000f\u0000f\u0000i\u0000c\u0000i\u0000e\u0000n\u0000c\u0000y\u0000 \u0000L\u0000L\u0000E\u0000\"\u0000,\u0000\"\u0000L\u0000i\u0000g\u0000a\u0000n\u0000d\u0000 \u0000E\u0000f\u0000f\u0000i\u0000c\u0000i\u0000e\u0000n\u0000c\u0000y\u0000 \u0000S\u0000E\u0000I\u0000\"\u0000,\u0000\"\u0000A\u0000L\u0000o\u0000g\u0000P\u0000\"\u0000,\u0000\"\u0000A\u0000s\u0000s\u0000a\u0000y\u0000 \u0000O\u0000r\u0000g\u0000a\u0000n\u0000i\u0000s\u0000m\u0000\"\u0000,\u0000\"\u0000A\u0000s\u0000s\u0000a\u0000y\u0000 \u0000T\u0000i\u0000s\u0000s\u0000u\u0000e\u0000 \u0000C\u0000h\u0000E\u0000M\u0000B\u0000L\u0000 \u0000I\u0000D\u0000\"\u0000,\u0000\"\u0000A\u0000s\u0000s\u0000a\u0000y\u0000 \u0000T\u0000i\u0000s\u0000s\u0000u\u0000e\u0000 \u0000N\u0000a\u0000m\u0000e\u0000\"\u0000,\u0000\"\u0000A\u0000s\u0000s\u0000a\u0000y\u0000 \u0000C\u0000e\u0000l\u0000l\u0000 \u0000T\u0000y\u0000p\u0000e\u0000\"\u0000,\u0000\"\u0000A\u0000s\u0000s\u0000a\u0000y\u0000 \u0000S\u0000u\u0000b\u0000c\u0000e\u0000l\u0000l\u0000u\u0000l\u0000a\u0000r\u0000 \u0000F\u0000r\u0000a\u0000c\u0000t\u0000i\u0000o\u0000n\u0000\"\u0000,\u0000\"\u0000O\u0000r\u0000g\u0000a\u0000n\u0000i\u0000s\u0000m\u0000 \u0000T\u0000a\u0000x\u0000 \u0000I\u0000D\u0000\"\u0000,\u0000\"\u0000B\u0000A\u0000O\u0000 \u0000F\u0000o\u0000r\u0000m\u0000a\u0000t\u0000 \u0000I\u0000D\u0000\"\u0000,\u0000\"\u0000P\u0000u\u0000b\u0000l\u0000i\u0000s\u0000h\u0000e\u0000d\u0000 \u0000T\u0000y\u0000p\u0000e\u0000\"\u0000,\u0000\"\u0000P\u0000u\u0000b\u0000l\u0000i\u0000s\u0000h\u0000e\u0000d\u0000 \u0000R\u0000e\u0000l\u0000a\u0000t\u0000i\u0000o\u0000n\u0000\"\u0000,\u0000\"\u0000P\u0000u\u0000b\u0000l\u0000i\u0000s\u0000h\u0000e\u0000d\u0000 \u0000V\u0000a\u0000l\u0000u\u0000e\u0000\"\u0000,\u0000\"\u0000P\u0000u\u0000b\u0000l\u0000i\u0000s\u0000h\u0000e\u0000d\u0000 \u0000U\u0000n\u0000i\u0000t\u0000s\u0000\"\u0000,\u0000\"\u0000C\u0000a\u0000n\u0000o\u0000n\u0000i\u0000c\u0000a\u0000l\u0000 \u0000S\u0000m\u0000i\u0000l\u0000e\u0000s\u0000\"\u0000,\u0000\"\u0000D\u0000a\u0000t\u0000a\u0000 \u0000V\u0000a\u0000l\u0000i\u0000d\u0000i\u0000t\u0000y\u0000 \u0000C\u0000o\u0000m\u0000m\u0000e\u0000n\u0000t\u0000\"\u0000,\u0000\"\u0000D\u0000o\u0000c\u0000u\u0000m\u0000e\u0000n\u0000t\u0000 \u0000J\u0000o\u0000u\u0000r\u0000n\u0000a\u0000l\u0000\"\u0000,\u0000\"\u0000D\u0000o\u0000c\u0000u\u0000m\u0000e\u0000n\u0000t\u0000 \u0000Y\u0000e\u0000a\u0000r\u0000\"\u0000,\u0000\"\u0000S\u0000R\u0000C\u0000 \u0000I\u0000D\u0000\"\u0000,\u0000\"\u0000U\u0000O\u0000 \u0000U\u0000n\u0000i\u0000t\u0000s\u0000\"\u0000,\u0000\"\u0000P\u0000o\u0000t\u0000e\u0000n\u0000t\u0000i\u0000a\u0000l\u0000 \u0000D\u0000u\u0000p\u0000l\u0000i\u0000c\u0000a\u0000t\u0000e\u0000\"\u0000\n",
      "\n",
      "43\n"
     ]
    }
   ],
   "source": [
    "flis = [] # will have [id, ic50_val, unit, target, smiles] \n",
    "for line in lines[:1]: # first line contains the headers (therefore skiped)\n",
    "    lis = line.strip().split(',')\n",
    "    if len(lis) < 36:\n",
    "        continue\n",
    "    print(line)\n",
    "    print(len(lis))"
   ]
  },
  {
   "cell_type": "markdown",
   "metadata": {},
   "source": [
    "There are totally 43 columns for this dataset"
   ]
  },
  {
   "cell_type": "code",
   "execution_count": 5,
   "metadata": {},
   "outputs": [
    {
     "name": "stdout",
     "output_type": "stream",
     "text": [
      "\u0000\"\u0000C\u0000H\u0000E\u0000M\u0000B\u0000L\u00003\u00005\u00007\u00003\u00003\u00008\u0000\"\u0000,\u0000\"\u0000I\u0000C\u00005\u00000\u0000\"\u0000,\u0000\"\u0000>\u0000\"\u0000,\u0000\"\u00005\u00000\u00000\u00000\u00000\u0000\"\u0000,\u0000\"\u0000n\u0000M\u0000\"\u0000,\u0000\"\u0000\"\u0000,\u0000\"\u0000\"\u0000,\u0000\"\u00001\u00006\u0000 \u00002\u0000-\u0000g\u0000\"\u0000,\u0000\"\u0000C\u0000H\u0000E\u0000M\u0000B\u0000L\u00008\u00001\u00002\u00004\u00004\u00006\u0000\"\u0000,\u0000\"\u0000I\u0000n\u0000h\u0000i\u0000b\u0000i\u0000t\u0000o\u0000r\u0000y\u0000 \u0000a\u0000c\u0000t\u0000i\u0000v\u0000i\u0000t\u0000y\u0000 \u0000a\u0000g\u0000a\u0000i\u0000n\u0000s\u0000t\u0000 \u0000T\u0000r\u0000y\u0000p\u0000a\u0000n\u0000o\u0000s\u0000o\u0000m\u0000a\u0000 \u0000c\u0000r\u0000u\u0000z\u0000i\u0000 \u0000t\u0000r\u0000y\u0000p\u0000a\u0000n\u0000o\u0000t\u0000h\u0000i\u0000o\u0000n\u0000e\u0000 \u0000d\u0000i\u0000s\u0000u\u0000l\u0000f\u0000i\u0000d\u0000e\u0000 \u0000r\u0000e\u0000d\u0000u\u0000c\u0000t\u0000a\u0000s\u0000e\u0000,\u0000 \u0000a\u0000s\u0000s\u0000a\u0000y\u0000 \u0000i\u0000n\u0000 \u0000p\u0000r\u0000e\u0000s\u0000e\u0000n\u0000c\u0000e\u0000 \u0000o\u0000f\u0000 \u00005\u00007\u0000 \u0000u\u0000M\u0000 \u0000T\u0000(\u0000S\u0000)\u00002\u0000.\u0000\"\u0000,\u0000\"\u0000s\u0000i\u0000n\u0000g\u0000l\u0000e\u0000 \u0000p\u0000r\u0000o\u0000t\u0000e\u0000i\u0000n\u0000 \u0000f\u0000o\u0000r\u0000m\u0000a\u0000t\u0000\"\u0000,\u0000\"\u0000C\u0000H\u0000E\u0000M\u0000B\u0000L\u00005\u00001\u00003\u00001\u0000\"\u0000,\u0000\"\u0000T\u0000r\u0000y\u0000p\u0000a\u0000n\u0000o\u0000t\u0000h\u0000i\u0000o\u0000n\u0000e\u0000 \u0000r\u0000e\u0000d\u0000u\u0000c\u0000t\u0000a\u0000s\u0000e\u0000\"\u0000,\u0000\"\u0000T\u0000r\u0000y\u0000p\u0000a\u0000n\u0000o\u0000s\u0000o\u0000m\u0000a\u0000 \u0000c\u0000r\u0000u\u0000z\u0000i\u0000\"\u0000,\u0000\"\u0000S\u0000I\u0000N\u0000G\u0000L\u0000E\u0000 \u0000P\u0000R\u0000O\u0000T\u0000E\u0000I\u0000N\u0000\"\u0000,\u0000\"\u0000C\u0000H\u0000E\u0000M\u0000B\u0000L\u00001\u00001\u00003\u00004\u00007\u00009\u00001\u0000\"\u0000,\u0000\"\u0000S\u0000c\u0000i\u0000e\u0000n\u0000t\u0000i\u0000f\u0000i\u0000c\u0000 \u0000L\u0000i\u0000t\u0000e\u0000r\u0000a\u0000t\u0000u\u0000r\u0000e\u0000\"\u0000,\u0000\"\u00000\u0000\"\u0000,\u0000\"\u00000\u0000\"\u0000,\u0000\"\u00003\u00002\u00006\u0000.\u00004\u0000\"\u0000,\u0000\"\u0000\"\u0000,\u0000\"\u0000\"\u0000,\u0000\"\u0000\"\u0000,\u0000\"\u0000\"\u0000,\u0000\"\u00001\u0000.\u00009\u00004\u0000\"\u0000,\u0000\"\u0000T\u0000r\u0000y\u0000p\u0000a\u0000n\u0000o\u0000s\u0000o\u0000m\u0000a\u0000 \u0000c\u0000r\u0000u\u0000z\u0000i\u0000\"\u0000,\u0000\"\u0000\"\u0000,\u0000\"\u0000\"\u0000,\u0000\"\u0000\"\u0000,\u0000\"\u0000\"\u0000,\u0000\"\u00005\u00006\u00009\u00003\u0000\"\u0000,\u0000\"\u0000B\u0000A\u0000O\u0000_\u00000\u00000\u00000\u00000\u00003\u00005\u00007\u0000\"\u0000,\u0000\"\u0000\"\u0000,\u0000\"\u0000\"\u0000,\u0000\"\u0000\"\u0000,\u0000\"\u0000\"\u0000,\u0000\"\u0000C\u0000N\u00001\u0000C\u0000C\u0000N\u0000(\u0000C\u0000C\u00001\u0000)\u0000C\u0000(\u0000=\u0000O\u0000)\u0000C\u0000C\u0000C\u00002\u0000=\u0000C\u0000(\u0000C\u0000)\u0000C\u0000(\u0000=\u0000O\u0000)\u0000c\u00003\u0000c\u0000c\u0000c\u0000c\u0000c\u00003\u0000C\u00002\u0000=\u0000O\u0000\"\u0000,\u0000\"\u0000\"\u0000,\u0000\"\u0000J\u0000.\u0000 \u0000M\u0000e\u0000d\u0000.\u0000 \u0000C\u0000h\u0000e\u0000m\u0000.\u0000\"\u0000,\u0000\"\u00002\u00000\u00000\u00001\u0000\"\u0000,\u0000\"\u00001\u0000\"\u0000,\u0000\"\u0000U\u0000O\u0000_\u00000\u00000\u00000\u00000\u00000\u00006\u00005\u0000\"\u0000,\u0000\"\u0000F\u0000a\u0000l\u0000s\u0000e\u0000\"\u0000\n",
      "\n",
      "44\n"
     ]
    }
   ],
   "source": [
    "for line in lines[1:]: # first line contains the headers (therefore skiped)\n",
    "    lis = line.strip().split(',')\n",
    "    if len(lis) != 43:\n",
    "        print(line)\n",
    "        print(len(lis))\n",
    "        break"
   ]
  },
  {
   "cell_type": "code",
   "execution_count": 6,
   "metadata": {},
   "outputs": [
    {
     "data": {
      "text/plain": [
       "295467"
      ]
     },
     "execution_count": 6,
     "metadata": {},
     "output_type": "execute_result"
    }
   ],
   "source": [
    "bad_column_count = 0\n",
    "for line in lines[1:]: # first line contains the headers (therefore skiped)\n",
    "    lis = line.strip().split(',')\n",
    "    if len(lis) != 43:\n",
    "        bad_column_count += 1\n",
    "\n",
    "bad_column_count"
   ]
  },
  {
   "cell_type": "markdown",
   "metadata": {},
   "source": [
    "Although we have more than 1 million lines of records, it will be a great lost if we throw away about 300k records."
   ]
  },
  {
   "cell_type": "markdown",
   "metadata": {},
   "source": [
    "We can see this sentence:\n",
    "\n",
    "Inhibitory activity against Trypanosoma cruzi trypanothione disulfide reductase, assay in presence of 57 uM T(S)2.\n",
    "\n",
    "which also contains a ',' inside. That's the reason the len(lis) is not 43 but 44 because we use ',' to split the whole line. Therefore, we need to use some other character to replace the ',' in the original lines and use that character to split.\n",
    "\n",
    "We use '?' to replace ','."
   ]
  },
  {
   "cell_type": "code",
   "execution_count": 7,
   "metadata": {},
   "outputs": [
    {
     "name": "stdout",
     "output_type": "stream",
     "text": [
      "['Molecule', 'Standard Type', 'Standard Relation', 'Standard Value', 'Standard Units', 'pChEMBL Value', 'Comment', 'Compound Key', 'Assay', 'Assay Description', 'BAO Format', 'Target', 'Target Pref. Name', 'Target Organism', 'Target Type', 'Document', 'Source', 'Max Phase', '#Ro5 Violations', 'Molecular Weight', 'Ligand Efficiency BEI', 'Ligand Efficiency LE', 'Ligand Efficiency LLE', 'Ligand Efficiency SEI', 'ALogP', 'Assay Organism', 'Assay Tissue ChEMBL ID', 'Assay Tissue Name', 'Assay Cell Type', 'Assay Subcellular Fraction', 'Organism Tax ID', 'BAO Format ID', 'Published Type', 'Published Relation', 'Published Value', 'Published Units', 'Canonical Smiles', 'Data Validity Comment', 'Document Journal', 'Document Year', 'SRC ID', 'UO Units', 'Potential Duplicate']\n",
      "43\n",
      "\n",
      "\n",
      "Molecule\n",
      "Standard Value\n",
      "Standard Units\n",
      "Assay\n",
      "Canonical Smiles\n"
     ]
    }
   ],
   "source": [
    "# First get the column names\n",
    "column_line = lines[0]\n",
    "text = ''\n",
    "for t in column_line:\n",
    "    text += t\n",
    "text = text.replace('\\x00', '')\n",
    "text = text.strip()\n",
    "text = text.replace('\"', '')\n",
    "\n",
    "column_names = text.split(',')\n",
    "print(column_names)\n",
    "print(len(column_names))\n",
    "\n",
    "print('\\n')\n",
    "print(column_names[0])\n",
    "print(column_names[3])\n",
    "print(column_names[4])\n",
    "print(column_names[8])\n",
    "print(column_names[36])"
   ]
  },
  {
   "cell_type": "code",
   "execution_count": 8,
   "metadata": {},
   "outputs": [
    {
     "name": "stdout",
     "output_type": "stream",
     "text": [
      "44\n",
      "6\n"
     ]
    }
   ],
   "source": [
    "# Then handle the rest of lines\n",
    "for index, line in enumerate(lines[1:]):\n",
    "    lis = line.strip().split(',')\n",
    "    if len(lis) != 43:\n",
    "        print(len(lis))\n",
    "        print(index+1)\n",
    "        break"
   ]
  },
  {
   "cell_type": "markdown",
   "metadata": {},
   "source": [
    "For here, we found an example of one line that cause the error of '44' columns, which is at the 6th line."
   ]
  },
  {
   "cell_type": "code",
   "execution_count": 9,
   "metadata": {},
   "outputs": [
    {
     "name": "stdout",
     "output_type": "stream",
     "text": [
      "['CHEMBL357338', 'IC50', '>', '50000', 'nM', '', '', '16 2-g', 'CHEMBL812446', 'Inhibitory activity against Trypanosoma cruzi trypanothione disulfide reductase, assay in presence of 57 uM T(S)2.', 'single protein format', 'CHEMBL5131', 'Trypanothione reductase', 'Trypanosoma cruzi', 'SINGLE PROTEIN', 'CHEMBL1134791', 'Scientific Literature', '0', '0', '326.4', '', '', '', '', '1.94', 'Trypanosoma cruzi', '', '', '', '', '5693', 'BAO_0000357', '', '', '', '', 'CN1CCN(CC1)C(=O)CCC2=C(C)C(=O)c3ccccc3C2=O', '', 'J. Med. Chem.', '2001', '1', 'UO_0000065', 'False']\n",
      "43\n"
     ]
    }
   ],
   "source": [
    "bad_example = lines[6]\n",
    "bad_example = bad_example.replace('\\x00', '')\n",
    "bad_example = bad_example.strip()\n",
    "bad_example = bad_example.replace('\",\"', '\"?\"')\n",
    "bad_list = bad_example.replace('\"', '')\n",
    "\n",
    "bad_list = bad_list.split('?')\n",
    "print(bad_list)\n",
    "print(len(bad_list))"
   ]
  },
  {
   "cell_type": "markdown",
   "metadata": {},
   "source": [
    "### The code below is running slow, can skip it"
   ]
  },
  {
   "cell_type": "markdown",
   "metadata": {},
   "source": [
    "### -----------------"
   ]
  },
  {
   "cell_type": "code",
   "execution_count": 10,
   "metadata": {},
   "outputs": [
    {
     "name": "stdout",
     "output_type": "stream",
     "text": [
      "949755\n"
     ]
    }
   ],
   "source": [
    "# After the testing above, the method works! \n",
    "# Then we can apply it to the whole lines of data\n",
    "\n",
    "molecule = []\n",
    "ic50_value = []\n",
    "units = []\n",
    "assay = []\n",
    "smiles = []\n",
    "bad_examples = []\n",
    "\n",
    "for line in lines[1:]:\n",
    "    text = ''\n",
    "    for t in line:\n",
    "        text += t\n",
    "        \n",
    "    text = text.replace('\\x00', '')\n",
    "    text = text.strip()\n",
    "    text = text.replace('\",\"', '\"?\"')\n",
    "    text = text.replace('\"', '')\n",
    "    text = text.split('?')\n",
    "    \n",
    "    if len(text) != 43:\n",
    "        bad_examples.append(text)\n",
    "        continue\n",
    "    \n",
    "    if len(text) == 43:\n",
    "        if text[3] != '':\n",
    "            molecule.append(text[0])\n",
    "            ic50_value.append(float(text[3]))\n",
    "            units.append(text[4])\n",
    "            assay.append(text[8])\n",
    "            smiles.append(text[36])\n",
    "\n",
    "print(len(ic50_value))"
   ]
  },
  {
   "cell_type": "code",
   "execution_count": 11,
   "metadata": {},
   "outputs": [],
   "source": [
    "data_dict = {'molecule':molecule, 'ic50':ic50_value, 'units':units, 'smiles':smiles, 'target':assay}\n",
    "data = pd.DataFrame(data=data_dict)"
   ]
  },
  {
   "cell_type": "code",
   "execution_count": 12,
   "metadata": {},
   "outputs": [],
   "source": [
    "data.to_csv('./data_all.csv')"
   ]
  },
  {
   "cell_type": "code",
   "execution_count": 13,
   "metadata": {},
   "outputs": [
    {
     "data": {
      "text/html": [
       "<div>\n",
       "<style scoped>\n",
       "    .dataframe tbody tr th:only-of-type {\n",
       "        vertical-align: middle;\n",
       "    }\n",
       "\n",
       "    .dataframe tbody tr th {\n",
       "        vertical-align: top;\n",
       "    }\n",
       "\n",
       "    .dataframe thead th {\n",
       "        text-align: right;\n",
       "    }\n",
       "</style>\n",
       "<table border=\"1\" class=\"dataframe\">\n",
       "  <thead>\n",
       "    <tr style=\"text-align: right;\">\n",
       "      <th></th>\n",
       "      <th>molecule</th>\n",
       "      <th>ic50</th>\n",
       "      <th>units</th>\n",
       "      <th>smiles</th>\n",
       "      <th>target</th>\n",
       "    </tr>\n",
       "  </thead>\n",
       "  <tbody>\n",
       "    <tr>\n",
       "      <th>0</th>\n",
       "      <td>CHEMBL17430</td>\n",
       "      <td>11600.0</td>\n",
       "      <td>nM</td>\n",
       "      <td>Nc1nc(N)c2c(CSc3ccc(Cl)c(Cl)c3)c[nH]c2n1</td>\n",
       "      <td>CHEMBL664913</td>\n",
       "    </tr>\n",
       "    <tr>\n",
       "      <th>1</th>\n",
       "      <td>CHEMBL119370</td>\n",
       "      <td>9000.0</td>\n",
       "      <td>nM</td>\n",
       "      <td>NC(=S)\\N=N\\c1c(O)[nH]c2ccc(I)cc12</td>\n",
       "      <td>CHEMBL812106</td>\n",
       "    </tr>\n",
       "    <tr>\n",
       "      <th>2</th>\n",
       "      <td>CHEMBL239370</td>\n",
       "      <td>17900.0</td>\n",
       "      <td>nM</td>\n",
       "      <td>[Cl-].C[N+](C)(CCCN1c2ccccc2Sc3ccc(Cl)cc13)Cc4...</td>\n",
       "      <td>CHEMBL811877</td>\n",
       "    </tr>\n",
       "    <tr>\n",
       "      <th>3</th>\n",
       "      <td>CHEMBL61415</td>\n",
       "      <td>4200.0</td>\n",
       "      <td>nM</td>\n",
       "      <td>COc1cc(OC)cc(c1)N(C)Cc2c[nH]c3nc(N)nc(O)c23</td>\n",
       "      <td>CHEMBL664920</td>\n",
       "    </tr>\n",
       "    <tr>\n",
       "      <th>4</th>\n",
       "      <td>CHEMBL22</td>\n",
       "      <td>2700.0</td>\n",
       "      <td>nM</td>\n",
       "      <td>COc1cc(Cc2cnc(N)nc2N)cc(OC)c1OC</td>\n",
       "      <td>CHEMBL664913</td>\n",
       "    </tr>\n",
       "    <tr>\n",
       "      <th>5</th>\n",
       "      <td>CHEMBL357338</td>\n",
       "      <td>50000.0</td>\n",
       "      <td>nM</td>\n",
       "      <td>CN1CCN(CC1)C(=O)CCC2=C(C)C(=O)c3ccccc3C2=O</td>\n",
       "      <td>CHEMBL812446</td>\n",
       "    </tr>\n",
       "    <tr>\n",
       "      <th>6</th>\n",
       "      <td>CHEMBL116614</td>\n",
       "      <td>83.0</td>\n",
       "      <td>nM</td>\n",
       "      <td>Cc1c(CN(C=O)c2ccc(Cl)c(Cl)c2)cnc3nc(N)nc(N)c13</td>\n",
       "      <td>CHEMBL665696</td>\n",
       "    </tr>\n",
       "    <tr>\n",
       "      <th>7</th>\n",
       "      <td>CHEMBL119345</td>\n",
       "      <td>15000.0</td>\n",
       "      <td>nM</td>\n",
       "      <td>Cc1ccc2[nH]c(O)c(\\N=N\\C(=N)S)c2c1</td>\n",
       "      <td>CHEMBL805131</td>\n",
       "    </tr>\n",
       "    <tr>\n",
       "      <th>8</th>\n",
       "      <td>CHEMBL54399</td>\n",
       "      <td>20.0</td>\n",
       "      <td>nM</td>\n",
       "      <td>CN(Cc1ccc2nc(N)nc(N)c2n1)c3cccc(Cl)c3</td>\n",
       "      <td>CHEMBL665702</td>\n",
       "    </tr>\n",
       "    <tr>\n",
       "      <th>9</th>\n",
       "      <td>CHEMBL1673327</td>\n",
       "      <td>10000.0</td>\n",
       "      <td>nM</td>\n",
       "      <td>COC(OC)c1ccc(C#N)c(SCC(=O)c2ccc(Cl)cc2)n1</td>\n",
       "      <td>CHEMBL1677388</td>\n",
       "    </tr>\n",
       "  </tbody>\n",
       "</table>\n",
       "</div>"
      ],
      "text/plain": [
       "        molecule     ic50 units  \\\n",
       "0    CHEMBL17430  11600.0    nM   \n",
       "1   CHEMBL119370   9000.0    nM   \n",
       "2   CHEMBL239370  17900.0    nM   \n",
       "3    CHEMBL61415   4200.0    nM   \n",
       "4       CHEMBL22   2700.0    nM   \n",
       "5   CHEMBL357338  50000.0    nM   \n",
       "6   CHEMBL116614     83.0    nM   \n",
       "7   CHEMBL119345  15000.0    nM   \n",
       "8    CHEMBL54399     20.0    nM   \n",
       "9  CHEMBL1673327  10000.0    nM   \n",
       "\n",
       "                                              smiles         target  \n",
       "0           Nc1nc(N)c2c(CSc3ccc(Cl)c(Cl)c3)c[nH]c2n1   CHEMBL664913  \n",
       "1                  NC(=S)\\N=N\\c1c(O)[nH]c2ccc(I)cc12   CHEMBL812106  \n",
       "2  [Cl-].C[N+](C)(CCCN1c2ccccc2Sc3ccc(Cl)cc13)Cc4...   CHEMBL811877  \n",
       "3        COc1cc(OC)cc(c1)N(C)Cc2c[nH]c3nc(N)nc(O)c23   CHEMBL664920  \n",
       "4                    COc1cc(Cc2cnc(N)nc2N)cc(OC)c1OC   CHEMBL664913  \n",
       "5         CN1CCN(CC1)C(=O)CCC2=C(C)C(=O)c3ccccc3C2=O   CHEMBL812446  \n",
       "6     Cc1c(CN(C=O)c2ccc(Cl)c(Cl)c2)cnc3nc(N)nc(N)c13   CHEMBL665696  \n",
       "7                  Cc1ccc2[nH]c(O)c(\\N=N\\C(=N)S)c2c1   CHEMBL805131  \n",
       "8              CN(Cc1ccc2nc(N)nc(N)c2n1)c3cccc(Cl)c3   CHEMBL665702  \n",
       "9          COC(OC)c1ccc(C#N)c(SCC(=O)c2ccc(Cl)cc2)n1  CHEMBL1677388  "
      ]
     },
     "execution_count": 13,
     "metadata": {},
     "output_type": "execute_result"
    }
   ],
   "source": [
    "data[:10]"
   ]
  },
  {
   "cell_type": "markdown",
   "metadata": {},
   "source": [
    "### ---------------------------"
   ]
  },
  {
   "cell_type": "markdown",
   "metadata": {},
   "source": [
    "## [10 points] Filter the database to the top 100 targets in the database. You will need a definition of \"top\" such as the targets with the most assays. From these top 100 targets, save the ligands that have an assay result for each of the targets. "
   ]
  },
  {
   "cell_type": "code",
   "execution_count": 38,
   "metadata": {},
   "outputs": [
    {
     "data": {
      "text/html": [
       "<div>\n",
       "<style scoped>\n",
       "    .dataframe tbody tr th:only-of-type {\n",
       "        vertical-align: middle;\n",
       "    }\n",
       "\n",
       "    .dataframe tbody tr th {\n",
       "        vertical-align: top;\n",
       "    }\n",
       "\n",
       "    .dataframe thead th {\n",
       "        text-align: right;\n",
       "    }\n",
       "</style>\n",
       "<table border=\"1\" class=\"dataframe\">\n",
       "  <thead>\n",
       "    <tr style=\"text-align: right;\">\n",
       "      <th></th>\n",
       "      <th>molecule</th>\n",
       "      <th>ic50</th>\n",
       "      <th>units</th>\n",
       "      <th>smiles</th>\n",
       "      <th>target</th>\n",
       "    </tr>\n",
       "  </thead>\n",
       "  <tbody>\n",
       "    <tr>\n",
       "      <th>0</th>\n",
       "      <td>CHEMBL17430</td>\n",
       "      <td>11600.0</td>\n",
       "      <td>nM</td>\n",
       "      <td>Nc1nc(N)c2c(CSc3ccc(Cl)c(Cl)c3)c[nH]c2n1</td>\n",
       "      <td>CHEMBL664913</td>\n",
       "    </tr>\n",
       "    <tr>\n",
       "      <th>1</th>\n",
       "      <td>CHEMBL119370</td>\n",
       "      <td>9000.0</td>\n",
       "      <td>nM</td>\n",
       "      <td>NC(=S)\\N=N\\c1c(O)[nH]c2ccc(I)cc12</td>\n",
       "      <td>CHEMBL812106</td>\n",
       "    </tr>\n",
       "    <tr>\n",
       "      <th>2</th>\n",
       "      <td>CHEMBL239370</td>\n",
       "      <td>17900.0</td>\n",
       "      <td>nM</td>\n",
       "      <td>[Cl-].C[N+](C)(CCCN1c2ccccc2Sc3ccc(Cl)cc13)Cc4...</td>\n",
       "      <td>CHEMBL811877</td>\n",
       "    </tr>\n",
       "    <tr>\n",
       "      <th>3</th>\n",
       "      <td>CHEMBL61415</td>\n",
       "      <td>4200.0</td>\n",
       "      <td>nM</td>\n",
       "      <td>COc1cc(OC)cc(c1)N(C)Cc2c[nH]c3nc(N)nc(O)c23</td>\n",
       "      <td>CHEMBL664920</td>\n",
       "    </tr>\n",
       "    <tr>\n",
       "      <th>4</th>\n",
       "      <td>CHEMBL22</td>\n",
       "      <td>2700.0</td>\n",
       "      <td>nM</td>\n",
       "      <td>COc1cc(Cc2cnc(N)nc2N)cc(OC)c1OC</td>\n",
       "      <td>CHEMBL664913</td>\n",
       "    </tr>\n",
       "  </tbody>\n",
       "</table>\n",
       "</div>"
      ],
      "text/plain": [
       "       molecule     ic50 units  \\\n",
       "0   CHEMBL17430  11600.0    nM   \n",
       "1  CHEMBL119370   9000.0    nM   \n",
       "2  CHEMBL239370  17900.0    nM   \n",
       "3   CHEMBL61415   4200.0    nM   \n",
       "4      CHEMBL22   2700.0    nM   \n",
       "\n",
       "                                              smiles        target  \n",
       "0           Nc1nc(N)c2c(CSc3ccc(Cl)c(Cl)c3)c[nH]c2n1  CHEMBL664913  \n",
       "1                  NC(=S)\\N=N\\c1c(O)[nH]c2ccc(I)cc12  CHEMBL812106  \n",
       "2  [Cl-].C[N+](C)(CCCN1c2ccccc2Sc3ccc(Cl)cc13)Cc4...  CHEMBL811877  \n",
       "3        COc1cc(OC)cc(c1)N(C)Cc2c[nH]c3nc(N)nc(O)c23  CHEMBL664920  \n",
       "4                    COc1cc(Cc2cnc(N)nc2N)cc(OC)c1OC  CHEMBL664913  "
      ]
     },
     "execution_count": 38,
     "metadata": {},
     "output_type": "execute_result"
    }
   ],
   "source": [
    "data = pd.read_csv('./data_all.csv')\n",
    "data = data.drop(columns=[data.columns[0]], axis=1)\n",
    "data.head()"
   ]
  },
  {
   "cell_type": "code",
   "execution_count": 39,
   "metadata": {
    "scrolled": true
   },
   "outputs": [
    {
     "data": {
      "text/plain": [
       "CHEMBL2114881    2057\n",
       "CHEMBL2114714    1381\n",
       "CHEMBL1738239    1210\n",
       "CHEMBL1614190    1205\n",
       "CHEMBL1963941    1186\n",
       "                 ... \n",
       "CHEMBL3761681       1\n",
       "CHEMBL2184774       1\n",
       "CHEMBL1262357       1\n",
       "CHEMBL4005779       1\n",
       "CHEMBL3744272       1\n",
       "Name: target, Length: 77472, dtype: int64"
      ]
     },
     "execution_count": 39,
     "metadata": {},
     "output_type": "execute_result"
    }
   ],
   "source": [
    "data['target'].value_counts()"
   ]
  },
  {
   "cell_type": "code",
   "execution_count": 40,
   "metadata": {},
   "outputs": [
    {
     "data": {
      "text/plain": [
       "Index(['CHEMBL2114881', 'CHEMBL2114714', 'CHEMBL1738239'], dtype='object')"
      ]
     },
     "execution_count": 40,
     "metadata": {},
     "output_type": "execute_result"
    }
   ],
   "source": [
    "# At first we tried get top 100 targets, but there are not enough data after preprocessing\n",
    "# get top 500 targets with the most assay frequency\n",
    "top500_count = data['target'].value_counts()[:500]\n",
    "index_top500 = top500_count.index\n",
    "index_top500[:3]"
   ]
  },
  {
   "cell_type": "code",
   "execution_count": 41,
   "metadata": {
    "scrolled": true
   },
   "outputs": [
    {
     "data": {
      "text/html": [
       "<div>\n",
       "<style scoped>\n",
       "    .dataframe tbody tr th:only-of-type {\n",
       "        vertical-align: middle;\n",
       "    }\n",
       "\n",
       "    .dataframe tbody tr th {\n",
       "        vertical-align: top;\n",
       "    }\n",
       "\n",
       "    .dataframe thead th {\n",
       "        text-align: right;\n",
       "    }\n",
       "</style>\n",
       "<table border=\"1\" class=\"dataframe\">\n",
       "  <thead>\n",
       "    <tr style=\"text-align: right;\">\n",
       "      <th></th>\n",
       "      <th>molecule</th>\n",
       "      <th>ic50</th>\n",
       "      <th>units</th>\n",
       "      <th>smiles</th>\n",
       "      <th>target</th>\n",
       "    </tr>\n",
       "  </thead>\n",
       "  <tbody>\n",
       "    <tr>\n",
       "      <th>78</th>\n",
       "      <td>CHEMBL278261</td>\n",
       "      <td>870.00</td>\n",
       "      <td>nM</td>\n",
       "      <td>CN(Cc1c[nH]c2nc(N)nc(N)c12)c3cccc4ccccc34</td>\n",
       "      <td>CHEMBL828662</td>\n",
       "    </tr>\n",
       "    <tr>\n",
       "      <th>79</th>\n",
       "      <td>CHEMBL142081</td>\n",
       "      <td>57.94</td>\n",
       "      <td>nM</td>\n",
       "      <td>COc1ccccc1Sc2ccc3nc(N)nc(N)c3n2</td>\n",
       "      <td>CHEMBL830839</td>\n",
       "    </tr>\n",
       "    <tr>\n",
       "      <th>80</th>\n",
       "      <td>CHEMBL121319</td>\n",
       "      <td>97.00</td>\n",
       "      <td>nM</td>\n",
       "      <td>Nc1nc(N)c2CC(CNc3cc(Cl)ccc3Cl)CCc2n1</td>\n",
       "      <td>CHEMBL828662</td>\n",
       "    </tr>\n",
       "    <tr>\n",
       "      <th>81</th>\n",
       "      <td>CHEMBL121319</td>\n",
       "      <td>97.01</td>\n",
       "      <td>nM</td>\n",
       "      <td>Nc1nc(N)c2CC(CNc3cc(Cl)ccc3Cl)CCc2n1</td>\n",
       "      <td>CHEMBL830839</td>\n",
       "    </tr>\n",
       "    <tr>\n",
       "      <th>83</th>\n",
       "      <td>CHEMBL299174</td>\n",
       "      <td>14.00</td>\n",
       "      <td>nM</td>\n",
       "      <td>COc1ccc(N(C)Cc2ccc3nc(N)nc(N)c3n2)c(OC)c1</td>\n",
       "      <td>CHEMBL828662</td>\n",
       "    </tr>\n",
       "  </tbody>\n",
       "</table>\n",
       "</div>"
      ],
      "text/plain": [
       "        molecule    ic50 units                                     smiles  \\\n",
       "78  CHEMBL278261  870.00    nM  CN(Cc1c[nH]c2nc(N)nc(N)c12)c3cccc4ccccc34   \n",
       "79  CHEMBL142081   57.94    nM            COc1ccccc1Sc2ccc3nc(N)nc(N)c3n2   \n",
       "80  CHEMBL121319   97.00    nM       Nc1nc(N)c2CC(CNc3cc(Cl)ccc3Cl)CCc2n1   \n",
       "81  CHEMBL121319   97.01    nM       Nc1nc(N)c2CC(CNc3cc(Cl)ccc3Cl)CCc2n1   \n",
       "83  CHEMBL299174   14.00    nM  COc1ccc(N(C)Cc2ccc3nc(N)nc(N)c3n2)c(OC)c1   \n",
       "\n",
       "          target  \n",
       "78  CHEMBL828662  \n",
       "79  CHEMBL830839  \n",
       "80  CHEMBL828662  \n",
       "81  CHEMBL830839  \n",
       "83  CHEMBL828662  "
      ]
     },
     "execution_count": 41,
     "metadata": {},
     "output_type": "execute_result"
    }
   ],
   "source": [
    "data_top500 = data[data['target'].isin(index_top500)]\n",
    "data_top500.head()"
   ]
  },
  {
   "cell_type": "code",
   "execution_count": 42,
   "metadata": {},
   "outputs": [],
   "source": [
    "# data_top500.to_csv('./df_top500.csv')"
   ]
  },
  {
   "cell_type": "markdown",
   "metadata": {},
   "source": [
    "### Read the saved file can save some time"
   ]
  },
  {
   "cell_type": "code",
   "execution_count": 45,
   "metadata": {},
   "outputs": [
    {
     "data": {
      "text/html": [
       "<div>\n",
       "<style scoped>\n",
       "    .dataframe tbody tr th:only-of-type {\n",
       "        vertical-align: middle;\n",
       "    }\n",
       "\n",
       "    .dataframe tbody tr th {\n",
       "        vertical-align: top;\n",
       "    }\n",
       "\n",
       "    .dataframe thead th {\n",
       "        text-align: right;\n",
       "    }\n",
       "</style>\n",
       "<table border=\"1\" class=\"dataframe\">\n",
       "  <thead>\n",
       "    <tr style=\"text-align: right;\">\n",
       "      <th></th>\n",
       "      <th>molecule</th>\n",
       "      <th>ic50</th>\n",
       "      <th>units</th>\n",
       "      <th>smiles</th>\n",
       "      <th>target</th>\n",
       "    </tr>\n",
       "  </thead>\n",
       "  <tbody>\n",
       "    <tr>\n",
       "      <th>0</th>\n",
       "      <td>CHEMBL278261</td>\n",
       "      <td>870.00</td>\n",
       "      <td>nM</td>\n",
       "      <td>CN(Cc1c[nH]c2nc(N)nc(N)c12)c3cccc4ccccc34</td>\n",
       "      <td>CHEMBL828662</td>\n",
       "    </tr>\n",
       "    <tr>\n",
       "      <th>1</th>\n",
       "      <td>CHEMBL142081</td>\n",
       "      <td>57.94</td>\n",
       "      <td>nM</td>\n",
       "      <td>COc1ccccc1Sc2ccc3nc(N)nc(N)c3n2</td>\n",
       "      <td>CHEMBL830839</td>\n",
       "    </tr>\n",
       "    <tr>\n",
       "      <th>2</th>\n",
       "      <td>CHEMBL121319</td>\n",
       "      <td>97.00</td>\n",
       "      <td>nM</td>\n",
       "      <td>Nc1nc(N)c2CC(CNc3cc(Cl)ccc3Cl)CCc2n1</td>\n",
       "      <td>CHEMBL828662</td>\n",
       "    </tr>\n",
       "    <tr>\n",
       "      <th>3</th>\n",
       "      <td>CHEMBL121319</td>\n",
       "      <td>97.01</td>\n",
       "      <td>nM</td>\n",
       "      <td>Nc1nc(N)c2CC(CNc3cc(Cl)ccc3Cl)CCc2n1</td>\n",
       "      <td>CHEMBL830839</td>\n",
       "    </tr>\n",
       "    <tr>\n",
       "      <th>4</th>\n",
       "      <td>CHEMBL299174</td>\n",
       "      <td>14.00</td>\n",
       "      <td>nM</td>\n",
       "      <td>COc1ccc(N(C)Cc2ccc3nc(N)nc(N)c3n2)c(OC)c1</td>\n",
       "      <td>CHEMBL828662</td>\n",
       "    </tr>\n",
       "  </tbody>\n",
       "</table>\n",
       "</div>"
      ],
      "text/plain": [
       "       molecule    ic50 units                                     smiles  \\\n",
       "0  CHEMBL278261  870.00    nM  CN(Cc1c[nH]c2nc(N)nc(N)c12)c3cccc4ccccc34   \n",
       "1  CHEMBL142081   57.94    nM            COc1ccccc1Sc2ccc3nc(N)nc(N)c3n2   \n",
       "2  CHEMBL121319   97.00    nM       Nc1nc(N)c2CC(CNc3cc(Cl)ccc3Cl)CCc2n1   \n",
       "3  CHEMBL121319   97.01    nM       Nc1nc(N)c2CC(CNc3cc(Cl)ccc3Cl)CCc2n1   \n",
       "4  CHEMBL299174   14.00    nM  COc1ccc(N(C)Cc2ccc3nc(N)nc(N)c3n2)c(OC)c1   \n",
       "\n",
       "         target  \n",
       "0  CHEMBL828662  \n",
       "1  CHEMBL830839  \n",
       "2  CHEMBL828662  \n",
       "3  CHEMBL830839  \n",
       "4  CHEMBL828662  "
      ]
     },
     "execution_count": 45,
     "metadata": {},
     "output_type": "execute_result"
    }
   ],
   "source": [
    "data_top500 = pd.read_csv('./df_top500.csv')\n",
    "data_top500 = data_top500.drop(columns=[data_top500.columns[0]], axis=1)\n",
    "data_top500.head()"
   ]
  },
  {
   "cell_type": "code",
   "execution_count": 46,
   "metadata": {},
   "outputs": [
    {
     "name": "stdout",
     "output_type": "stream",
     "text": [
      "molecule      0\n",
      "ic50          0\n",
      "units         0\n",
      "smiles      352\n",
      "target        0\n",
      "dtype: int64 \n",
      "\n",
      "The length of data before dropping dirty data:  176752\n",
      "The length of data after dropping dirty data:  176400\n"
     ]
    }
   ],
   "source": [
    "# check dirty data and drop it\n",
    "dropped_data = data_top500.copy()\n",
    "print(dropped_data.isna().sum(), '\\n')\n",
    "print(\"The length of data before dropping dirty data: \", len(dropped_data))\n",
    "dropped_data = dropped_data.dropna()\n",
    "print(\"The length of data after dropping dirty data: \", len(dropped_data))"
   ]
  },
  {
   "cell_type": "markdown",
   "metadata": {},
   "source": [
    "## [5 points] Binarize the binding affinity for each ligand in the assay. That is, convert the continuous measure of binding to binary. You should use the column 'IC50' for this calculation. Anything below 300 nM should be considered as an active binding. Anything above 10 uM should be considered non-binding (inactive). "
   ]
  },
  {
   "cell_type": "code",
   "execution_count": 47,
   "metadata": {},
   "outputs": [
    {
     "data": {
      "text/plain": [
       "nM    176400\n",
       "Name: units, dtype: int64"
      ]
     },
     "execution_count": 47,
     "metadata": {},
     "output_type": "execute_result"
    }
   ],
   "source": [
    "# make sure the unit are all nM\n",
    "data_top500_dropped = dropped_data.copy()\n",
    "nm_count = data_top500_dropped['units'].value_counts()\n",
    "nm_count"
   ]
  },
  {
   "cell_type": "code",
   "execution_count": 48,
   "metadata": {},
   "outputs": [
    {
     "name": "stdout",
     "output_type": "stream",
     "text": [
      "Rows before dropping: 176400\n",
      "Rows after dropping: 176400\n"
     ]
    }
   ],
   "source": [
    "# We first need to filter out the records with ic50 value less than 300 uM or bigger than 10000 uM\n",
    "df = data_top500_dropped.copy()\n",
    "print(\"Rows before dropping: {}\".format(len(df)))\n",
    "drop_index = df[((df.ic50>300) & (df.ic50<10000))].index\n",
    "df.drop(drop_index)\n",
    "print(\"Rows after dropping: {}\".format(len(df)))"
   ]
  },
  {
   "cell_type": "code",
   "execution_count": 49,
   "metadata": {},
   "outputs": [
    {
     "name": "stdout",
     "output_type": "stream",
     "text": [
      "Dataset length:  176400\n",
      "0    105940\n",
      "1     70460\n",
      "Name: active, dtype: int64\n"
     ]
    },
    {
     "data": {
      "text/html": [
       "<div>\n",
       "<style scoped>\n",
       "    .dataframe tbody tr th:only-of-type {\n",
       "        vertical-align: middle;\n",
       "    }\n",
       "\n",
       "    .dataframe tbody tr th {\n",
       "        vertical-align: top;\n",
       "    }\n",
       "\n",
       "    .dataframe thead th {\n",
       "        text-align: right;\n",
       "    }\n",
       "</style>\n",
       "<table border=\"1\" class=\"dataframe\">\n",
       "  <thead>\n",
       "    <tr style=\"text-align: right;\">\n",
       "      <th></th>\n",
       "      <th>molecule</th>\n",
       "      <th>ic50</th>\n",
       "      <th>units</th>\n",
       "      <th>smiles</th>\n",
       "      <th>target</th>\n",
       "      <th>active</th>\n",
       "    </tr>\n",
       "  </thead>\n",
       "  <tbody>\n",
       "    <tr>\n",
       "      <th>0</th>\n",
       "      <td>CHEMBL278261</td>\n",
       "      <td>870.00</td>\n",
       "      <td>nM</td>\n",
       "      <td>CN(Cc1c[nH]c2nc(N)nc(N)c12)c3cccc4ccccc34</td>\n",
       "      <td>CHEMBL828662</td>\n",
       "      <td>0</td>\n",
       "    </tr>\n",
       "    <tr>\n",
       "      <th>1</th>\n",
       "      <td>CHEMBL142081</td>\n",
       "      <td>57.94</td>\n",
       "      <td>nM</td>\n",
       "      <td>COc1ccccc1Sc2ccc3nc(N)nc(N)c3n2</td>\n",
       "      <td>CHEMBL830839</td>\n",
       "      <td>1</td>\n",
       "    </tr>\n",
       "    <tr>\n",
       "      <th>2</th>\n",
       "      <td>CHEMBL121319</td>\n",
       "      <td>97.00</td>\n",
       "      <td>nM</td>\n",
       "      <td>Nc1nc(N)c2CC(CNc3cc(Cl)ccc3Cl)CCc2n1</td>\n",
       "      <td>CHEMBL828662</td>\n",
       "      <td>1</td>\n",
       "    </tr>\n",
       "    <tr>\n",
       "      <th>3</th>\n",
       "      <td>CHEMBL121319</td>\n",
       "      <td>97.01</td>\n",
       "      <td>nM</td>\n",
       "      <td>Nc1nc(N)c2CC(CNc3cc(Cl)ccc3Cl)CCc2n1</td>\n",
       "      <td>CHEMBL830839</td>\n",
       "      <td>1</td>\n",
       "    </tr>\n",
       "    <tr>\n",
       "      <th>4</th>\n",
       "      <td>CHEMBL299174</td>\n",
       "      <td>14.00</td>\n",
       "      <td>nM</td>\n",
       "      <td>COc1ccc(N(C)Cc2ccc3nc(N)nc(N)c3n2)c(OC)c1</td>\n",
       "      <td>CHEMBL828662</td>\n",
       "      <td>1</td>\n",
       "    </tr>\n",
       "  </tbody>\n",
       "</table>\n",
       "</div>"
      ],
      "text/plain": [
       "       molecule    ic50 units                                     smiles  \\\n",
       "0  CHEMBL278261  870.00    nM  CN(Cc1c[nH]c2nc(N)nc(N)c12)c3cccc4ccccc34   \n",
       "1  CHEMBL142081   57.94    nM            COc1ccccc1Sc2ccc3nc(N)nc(N)c3n2   \n",
       "2  CHEMBL121319   97.00    nM       Nc1nc(N)c2CC(CNc3cc(Cl)ccc3Cl)CCc2n1   \n",
       "3  CHEMBL121319   97.01    nM       Nc1nc(N)c2CC(CNc3cc(Cl)ccc3Cl)CCc2n1   \n",
       "4  CHEMBL299174   14.00    nM  COc1ccc(N(C)Cc2ccc3nc(N)nc(N)c3n2)c(OC)c1   \n",
       "\n",
       "         target  active  \n",
       "0  CHEMBL828662       0  \n",
       "1  CHEMBL830839       1  \n",
       "2  CHEMBL828662       1  \n",
       "3  CHEMBL830839       1  \n",
       "4  CHEMBL828662       1  "
      ]
     },
     "execution_count": 49,
     "metadata": {},
     "output_type": "execute_result"
    }
   ],
   "source": [
    "# Binarize the binding affinity\n",
    "# 1 - active, 0 - inactive\n",
    "df['active'] = np.where(df.ic50<=300, 1, 0)\n",
    "print(\"Dataset length: \", len(df))\n",
    "print(df['active'].value_counts())\n",
    "df.iloc[:5]"
   ]
  },
  {
   "cell_type": "code",
   "execution_count": 65,
   "metadata": {},
   "outputs": [
    {
     "data": {
      "text/plain": [
       "numpy.int64"
      ]
     },
     "execution_count": 65,
     "metadata": {},
     "output_type": "execute_result"
    }
   ],
   "source": [
    "type(df['active'].iloc[0])"
   ]
  },
  {
   "cell_type": "code",
   "execution_count": 67,
   "metadata": {},
   "outputs": [],
   "source": [
    "# There might be some targets whose 'active' list are all ones or zeros\n",
    "# or the ratio of ones or zeros are too small\n",
    "# Which is imbalanced and do harm to learning process\n",
    "# We need to get rid of these data\n",
    "df_balance = df.copy()\n",
    "\n",
    "counts_dict = dict()\n",
    "for key in index_top500:\n",
    "    counts_dict[key] = {'1':0, '0':0, 'ratio':0}\n",
    "    \n",
    "for i in range(len(df_balance)):\n",
    "    if df_balance['active'].iloc[i] == 1:\n",
    "        counts_dict[df_balance['target'].iloc[i]]['1'] += 1\n",
    "    else:\n",
    "        counts_dict[df_balance['target'].iloc[i]]['0'] += 1\n",
    "\n",
    "for key in counts_dict.keys():\n",
    "    counts_dict[key]['ratio'] = counts_dict[key]['1'] / (counts_dict[key]['1']+counts_dict[key]['0'])"
   ]
  },
  {
   "cell_type": "code",
   "execution_count": 113,
   "metadata": {},
   "outputs": [
    {
     "name": "stdout",
     "output_type": "stream",
     "text": [
      "0.0\n",
      "0.0\n",
      "0.0\n",
      "0.0008361204013377926\n",
      "0.0\n",
      "0.0\n",
      "0.0\n",
      "0.0\n",
      "0.8888888888888888\n",
      "0.47984267453294\n",
      "0.0009900990099009901\n",
      "0.0\n",
      "0.0\n",
      "0.00791295746785361\n",
      "0.009891196834817012\n",
      "0.0010111223458038423\n",
      "0.0425531914893617\n",
      "0.047872340425531915\n",
      "0.012276785714285714\n",
      "0.0\n",
      "0.9\n",
      "0.76375\n",
      "0.017676767676767676\n",
      "0.017676767676767676\n",
      "0.017676767676767676\n",
      "0.6394293125810635\n",
      "0.7559366754617414\n",
      "0.7683089214380826\n",
      "0.0\n",
      "0.902834008097166\n",
      "0.5800273597811217\n",
      "0.8248275862068966\n",
      "0.0\n",
      "0.0014204545454545455\n",
      "0.0\n",
      "0.0014204545454545455\n",
      "0.9957142857142857\n",
      "0.002881844380403458\n",
      "0.4676470588235294\n",
      "0.0\n",
      "0.7421289355322339\n",
      "0.9775112443778111\n",
      "0.26957831325301207\n",
      "0.9547511312217195\n",
      "0.96\n",
      "0.02157164869029276\n",
      "0.0077279752704791345\n",
      "0.03400309119010819\n",
      "0.00463678516228748\n",
      "0.017001545595054096\n",
      "0.00463678516228748\n",
      "0.5170278637770898\n",
      "1.0\n",
      "0.009448818897637795\n",
      "0.5889763779527559\n",
      "0.7381703470031545\n",
      "0.0\n",
      "0.8676236044657097\n",
      "0.9552715654952076\n",
      "0.9598715890850722\n",
      "0.025682182985553772\n",
      "0.7207062600321027\n",
      "0.0016129032258064516\n",
      "0.9549114331723028\n",
      "0.0\n",
      "0.0\n",
      "0.7550335570469798\n",
      "0.9144295302013423\n",
      "1.0\n",
      "0.9865771812080537\n",
      "0.7860780984719864\n",
      "0.0\n",
      "0.0\n",
      "0.0\n",
      "0.0\n",
      "0.5145797598627787\n",
      "0.0\n",
      "0.7674825174825175\n",
      "0.8106194690265487\n",
      "0.0018656716417910447\n",
      "0.0\n",
      "0.1001890359168242\n",
      "0.3946869070208729\n",
      "0.5692599620493358\n",
      "0.9653846153846154\n",
      "0.43023255813953487\n",
      "0.0\n",
      "0.5636007827788649\n",
      "0.4031620553359684\n",
      "0.7188118811881188\n",
      "0.18687872763419483\n",
      "0.4093686354378819\n",
      "0.5816326530612245\n",
      "0.6494845360824743\n",
      "0.07010309278350516\n",
      "0.9190871369294605\n",
      "0.012605042016806723\n",
      "0.9138655462184874\n",
      "0.008583690987124463\n",
      "0.907563025210084\n",
      "0.004201680672268907\n",
      "0.0\n",
      "0.5831578947368421\n",
      "0.5204301075268817\n",
      "0.7096774193548387\n",
      "0.0\n",
      "0.0\n",
      "0.38913043478260867\n",
      "0.8543478260869565\n",
      "0.24782608695652175\n",
      "0.9869565217391304\n",
      "0.0\n",
      "0.6775599128540305\n",
      "0.9366812227074236\n",
      "0.002197802197802198\n",
      "0.6488888888888888\n",
      "0.7037861915367484\n",
      "0.9420935412026726\n",
      "0.0\n",
      "0.0\n",
      "0.0\n",
      "0.8211009174311926\n",
      "0.8206896551724138\n",
      "0.027649769585253458\n",
      "0.9487179487179487\n",
      "0.6170212765957447\n",
      "0.0\n",
      "0.7064439140811456\n",
      "0.5995203836930456\n",
      "0.021686746987951807\n",
      "0.7223587223587223\n",
      "0.7437810945273632\n",
      "0.0\n",
      "0.0\n",
      "0.0\n",
      "0.0\n",
      "0.0\n",
      "0.9775\n",
      "0.0\n",
      "0.0\n",
      "0.45112781954887216\n",
      "0.0025252525252525255\n",
      "0.007575757575757576\n",
      "0.0025252525252525255\n",
      "1.0\n",
      "1.0\n",
      "0.0\n",
      "0.5569948186528497\n",
      "0.0\n",
      "0.4727272727272727\n",
      "0.2838541666666667\n",
      "0.981675392670157\n",
      "0.0\n",
      "0.9921052631578947\n",
      "0.44591029023746703\n",
      "0.783641160949868\n",
      "0.8941798941798942\n",
      "0.4718498659517426\n",
      "0.7956989247311828\n",
      "0.0\n",
      "0.904891304347826\n",
      "0.8493150684931506\n",
      "0.0\n",
      "0.29395604395604397\n",
      "0.7300275482093664\n",
      "0.0\n",
      "0.7416666666666667\n",
      "0.37988826815642457\n",
      "0.9832402234636871\n",
      "0.6050420168067226\n",
      "0.9915730337078652\n",
      "0.6629213483146067\n",
      "0.9915730337078652\n",
      "0.0\n",
      "0.0\n",
      "1.0\n",
      "0.10028653295128939\n",
      "0.1867816091954023\n",
      "0.7507246376811594\n",
      "0.8895348837209303\n",
      "0.02040816326530612\n",
      "0.09011627906976744\n",
      "0.0058309037900874635\n",
      "0.3819241982507289\n",
      "0.9558823529411765\n",
      "0.0\n",
      "0.772189349112426\n",
      "0.0\n",
      "0.8579881656804734\n",
      "0.28402366863905326\n",
      "0.05637982195845697\n",
      "0.7267267267267268\n",
      "0.5945945945945946\n",
      "0.8878787878787879\n",
      "1.0\n",
      "0.7553516819571865\n",
      "0.6116207951070336\n",
      "0.72\n",
      "0.7630769230769231\n",
      "0.9813664596273292\n",
      "0.0\n",
      "0.978125\n",
      "0.0\n",
      "0.49056603773584906\n",
      "0.006329113924050633\n",
      "0.5791139240506329\n",
      "0.879746835443038\n",
      "0.8037974683544303\n",
      "0.9015873015873016\n",
      "0.4426751592356688\n",
      "0.9936102236421726\n",
      "0.6950819672131148\n",
      "0.38688524590163936\n",
      "0.05592105263157895\n",
      "0.056105610561056105\n",
      "0.8118811881188119\n",
      "0.38870431893687707\n",
      "1.0\n",
      "0.9433333333333334\n",
      "0.697986577181208\n",
      "0.8619528619528619\n",
      "0.40540540540540543\n",
      "0.7364864864864865\n",
      "0.003389830508474576\n",
      "0.9761904761904762\n",
      "0.9657534246575342\n",
      "0.7945205479452054\n",
      "0.6575342465753424\n",
      "0.0\n",
      "0.0\n",
      "0.13448275862068965\n",
      "0.017241379310344827\n",
      "0.017241379310344827\n",
      "0.3737024221453287\n",
      "0.6027874564459931\n",
      "1.0\n",
      "0.0\n",
      "0.0\n",
      "0.0\n",
      "0.9714285714285714\n",
      "0.007142857142857143\n",
      "0.0\n",
      "0.46715328467153283\n",
      "0.04744525547445255\n",
      "0.0\n",
      "0.9743589743589743\n",
      "0.0\n",
      "0.9325842696629213\n",
      "0.0\n",
      "0.0\n",
      "0.0\n",
      "0.9736842105263158\n",
      "0.650375939849624\n",
      "0.9736842105263158\n",
      "0.8549618320610687\n",
      "0.8352490421455939\n",
      "0.689922480620155\n",
      "0.872093023255814\n",
      "0.688715953307393\n",
      "0.03937007874015748\n",
      "0.0\n",
      "0.0\n",
      "0.0\n",
      "0.9442231075697212\n",
      "0.016\n",
      "0.5\n",
      "0.5\n",
      "0.98\n",
      "0.964\n",
      "0.020080321285140562\n",
      "0.11646586345381527\n",
      "0.012048192771084338\n",
      "0.004032258064516129\n",
      "0.979757085020243\n",
      "0.0\n",
      "0.08906882591093117\n",
      "1.0\n",
      "0.8040816326530612\n",
      "0.7950819672131147\n",
      "1.0\n",
      "0.9590163934426229\n",
      "0.588477366255144\n",
      "0.4897119341563786\n",
      "0.008264462809917356\n",
      "0.9090909090909091\n",
      "0.9917355371900827\n",
      "0.0\n",
      "0.7261410788381742\n",
      "0.0\n",
      "0.004166666666666667\n",
      "0.0\n",
      "0.0\n",
      "0.6708333333333333\n",
      "0.24583333333333332\n",
      "0.025\n",
      "0.0\n",
      "0.029288702928870293\n",
      "0.8493723849372385\n",
      "0.9581589958158996\n",
      "0.02510460251046025\n",
      "0.0\n",
      "0.08898305084745763\n",
      "0.1906779661016949\n",
      "0.7754237288135594\n",
      "0.9617021276595744\n",
      "0.0\n",
      "0.00425531914893617\n",
      "0.0\n",
      "0.0\n",
      "0.0\n",
      "0.0\n",
      "0.034482758620689655\n",
      "0.0\n",
      "0.0\n",
      "0.4199134199134199\n",
      "1.0\n",
      "0.0391304347826087\n",
      "0.6578947368421053\n",
      "0.8552631578947368\n",
      "0.0\n",
      "0.6194690265486725\n",
      "0.48672566371681414\n",
      "0.004424778761061947\n",
      "0.04017857142857143\n",
      "0.05803571428571429\n",
      "0.8699551569506726\n",
      "0.013513513513513514\n",
      "0.00904977375565611\n",
      "0.0\n",
      "0.21621621621621623\n",
      "0.8963963963963963\n",
      "0.9864253393665159\n",
      "0.5318181818181819\n",
      "0.9360730593607306\n",
      "0.6940639269406392\n",
      "0.7752293577981652\n",
      "0.0\n",
      "0.06912442396313365\n",
      "0.07834101382488479\n",
      "0.0\n",
      "1.0\n",
      "1.0\n",
      "0.0\n",
      "0.023474178403755867\n",
      "0.009433962264150943\n",
      "0.0\n",
      "1.0\n",
      "0.0\n",
      "0.5047169811320755\n",
      "0.9575471698113207\n",
      "0.7819905213270142\n",
      "1.0\n",
      "0.004739336492890996\n",
      "0.995260663507109\n",
      "1.0\n",
      "0.909952606635071\n",
      "1.0\n",
      "0.0\n",
      "0.719047619047619\n",
      "0.430622009569378\n",
      "0.25\n",
      "0.7211538461538461\n",
      "0.6634615384615384\n",
      "0.5288461538461539\n",
      "0.40384615384615385\n",
      "0.4375\n",
      "0.9323671497584541\n",
      "0.16019417475728157\n",
      "0.16019417475728157\n",
      "0.775609756097561\n",
      "0.975609756097561\n",
      "0.20098039215686275\n",
      "0.20588235294117646\n",
      "0.9950738916256158\n",
      "0.6551724137931034\n",
      "0.9408866995073891\n",
      "0.916256157635468\n",
      "0.009900990099009901\n",
      "0.8960396039603961\n",
      "0.9900990099009901\n",
      "0.05970149253731343\n",
      "0.8009950248756219\n",
      "0.5373134328358209\n",
      "0.255\n",
      "0.51\n",
      "0.965\n",
      "0.0\n",
      "0.7638190954773869\n",
      "0.9949494949494949\n",
      "0.3333333333333333\n",
      "0.9695431472081218\n",
      "0.9847715736040609\n",
      "1.0\n",
      "0.9086294416243654\n",
      "0.9897959183673469\n",
      "0.0\n",
      "0.0\n",
      "0.8704663212435233\n",
      "0.0\n",
      "0.0\n",
      "0.8489583333333334\n",
      "0.0\n",
      "0.0\n",
      "0.28191489361702127\n",
      "1.0\n",
      "0.8556149732620321\n",
      "0.6075268817204301\n",
      "0.9735099337748344\n",
      "0.7081081081081081\n",
      "0.03314917127071823\n",
      "0.0918918918918919\n",
      "0.2648648648648649\n",
      "1.0\n",
      "0.0\n",
      "0.11956521739130435\n",
      "0.6086956521739131\n",
      "0.0\n",
      "0.005434782608695652\n",
      "0.016666666666666666\n",
      "0.5737704918032787\n",
      "0.7759562841530054\n",
      "0.07650273224043716\n",
      "0.0\n",
      "0.35359116022099446\n",
      "0.9558011049723757\n",
      "0.7458563535911602\n",
      "0.8895027624309392\n",
      "0.0056179775280898875\n",
      "0.574585635359116\n",
      "0.6353591160220995\n",
      "0.9050279329608939\n",
      "0.8212290502793296\n",
      "0.24022346368715083\n",
      "0.41899441340782123\n",
      "0.21787709497206703\n",
      "0.6983240223463687\n",
      "0.0\n",
      "0.0\n",
      "0.7344632768361582\n",
      "0.3559322033898305\n",
      "0.0\n",
      "0.6101694915254238\n",
      "0.3559322033898305\n",
      "0.6101694915254238\n",
      "0.0\n",
      "0.7344632768361582\n",
      "0.14124293785310735\n",
      "0.8863636363636364\n",
      "1.0\n",
      "0.9657142857142857\n",
      "0.011494252873563218\n",
      "0.9942528735632183\n",
      "0.9195402298850575\n",
      "1.0\n",
      "0.4046242774566474\n",
      "0.884393063583815\n",
      "0.7283236994219653\n",
      "0.19186046511627908\n",
      "0.27325581395348836\n",
      "0.5116279069767442\n",
      "0.7794117647058824\n",
      "0.14035087719298245\n",
      "0.30994152046783624\n",
      "0.0\n",
      "0.5497076023391813\n",
      "0.1695906432748538\n",
      "0.9058823529411765\n",
      "0.7941176470588235\n",
      "0.7588235294117647\n",
      "1.0\n",
      "0.9176470588235294\n",
      "0.1\n",
      "0.1242603550295858\n",
      "0.8461538461538461\n",
      "0.23668639053254437\n",
      "0.9112426035502958\n",
      "0.9166666666666666\n",
      "0.0\n",
      "0.023952095808383235\n",
      "0.0\n",
      "0.0\n",
      "0.963855421686747\n",
      "0.006060606060606061\n",
      "0.0\n",
      "0.40963855421686746\n",
      "0.012121212121212121\n",
      "0.5575757575757576\n",
      "0.006060606060606061\n",
      "0.8242424242424242\n",
      "0.43636363636363634\n",
      "0.9573170731707317\n",
      "0.896969696969697\n",
      "0.036585365853658534\n",
      "0.11585365853658537\n",
      "0.9512195121951219\n",
      "0.17073170731707318\n",
      "0.8159509202453987\n",
      "0.03067484662576687\n",
      "0.5493827160493827\n",
      "0.8888888888888888\n"
     ]
    }
   ],
   "source": [
    "for key in counts_dict.keys():\n",
    "    print(counts_dict[key]['ratio'])"
   ]
  },
  {
   "cell_type": "code",
   "execution_count": 116,
   "metadata": {},
   "outputs": [
    {
     "name": "stdout",
     "output_type": "stream",
     "text": [
      "Before removing imbalanced data, target amounts are:  500\n",
      "After removing imbalanced data, target amounts are:  134\n"
     ]
    }
   ],
   "source": [
    "filtered_index = list(index_top500.copy())\n",
    "\n",
    "print('Before removing imbalanced data, target amounts are: ',len(filtered_index))\n",
    "\n",
    "for key in counts_dict.keys():\n",
    "    if (counts_dict[key]['ratio'] < 0.3) or (counts_dict[key]['ratio'] > 0.8):\n",
    "        filtered_index.remove(key)\n",
    "\n",
    "print('After removing imbalanced data, target amounts are: ',len(filtered_index))"
   ]
  },
  {
   "cell_type": "code",
   "execution_count": 117,
   "metadata": {},
   "outputs": [
    {
     "name": "stdout",
     "output_type": "stream",
     "text": [
      "(44923, 6)\n"
     ]
    },
    {
     "data": {
      "text/html": [
       "<div>\n",
       "<style scoped>\n",
       "    .dataframe tbody tr th:only-of-type {\n",
       "        vertical-align: middle;\n",
       "    }\n",
       "\n",
       "    .dataframe tbody tr th {\n",
       "        vertical-align: top;\n",
       "    }\n",
       "\n",
       "    .dataframe thead th {\n",
       "        text-align: right;\n",
       "    }\n",
       "</style>\n",
       "<table border=\"1\" class=\"dataframe\">\n",
       "  <thead>\n",
       "    <tr style=\"text-align: right;\">\n",
       "      <th></th>\n",
       "      <th>molecule</th>\n",
       "      <th>ic50</th>\n",
       "      <th>units</th>\n",
       "      <th>smiles</th>\n",
       "      <th>target</th>\n",
       "      <th>active</th>\n",
       "    </tr>\n",
       "  </thead>\n",
       "  <tbody>\n",
       "    <tr>\n",
       "      <th>0</th>\n",
       "      <td>CHEMBL278261</td>\n",
       "      <td>870.00</td>\n",
       "      <td>nM</td>\n",
       "      <td>CN(Cc1c[nH]c2nc(N)nc(N)c12)c3cccc4ccccc34</td>\n",
       "      <td>CHEMBL828662</td>\n",
       "      <td>0</td>\n",
       "    </tr>\n",
       "    <tr>\n",
       "      <th>1</th>\n",
       "      <td>CHEMBL142081</td>\n",
       "      <td>57.94</td>\n",
       "      <td>nM</td>\n",
       "      <td>COc1ccccc1Sc2ccc3nc(N)nc(N)c3n2</td>\n",
       "      <td>CHEMBL830839</td>\n",
       "      <td>1</td>\n",
       "    </tr>\n",
       "    <tr>\n",
       "      <th>2</th>\n",
       "      <td>CHEMBL121319</td>\n",
       "      <td>97.00</td>\n",
       "      <td>nM</td>\n",
       "      <td>Nc1nc(N)c2CC(CNc3cc(Cl)ccc3Cl)CCc2n1</td>\n",
       "      <td>CHEMBL828662</td>\n",
       "      <td>1</td>\n",
       "    </tr>\n",
       "    <tr>\n",
       "      <th>3</th>\n",
       "      <td>CHEMBL121319</td>\n",
       "      <td>97.01</td>\n",
       "      <td>nM</td>\n",
       "      <td>Nc1nc(N)c2CC(CNc3cc(Cl)ccc3Cl)CCc2n1</td>\n",
       "      <td>CHEMBL830839</td>\n",
       "      <td>1</td>\n",
       "    </tr>\n",
       "    <tr>\n",
       "      <th>4</th>\n",
       "      <td>CHEMBL299174</td>\n",
       "      <td>14.00</td>\n",
       "      <td>nM</td>\n",
       "      <td>COc1ccc(N(C)Cc2ccc3nc(N)nc(N)c3n2)c(OC)c1</td>\n",
       "      <td>CHEMBL828662</td>\n",
       "      <td>1</td>\n",
       "    </tr>\n",
       "  </tbody>\n",
       "</table>\n",
       "</div>"
      ],
      "text/plain": [
       "       molecule    ic50 units                                     smiles  \\\n",
       "0  CHEMBL278261  870.00    nM  CN(Cc1c[nH]c2nc(N)nc(N)c12)c3cccc4ccccc34   \n",
       "1  CHEMBL142081   57.94    nM            COc1ccccc1Sc2ccc3nc(N)nc(N)c3n2   \n",
       "2  CHEMBL121319   97.00    nM       Nc1nc(N)c2CC(CNc3cc(Cl)ccc3Cl)CCc2n1   \n",
       "3  CHEMBL121319   97.01    nM       Nc1nc(N)c2CC(CNc3cc(Cl)ccc3Cl)CCc2n1   \n",
       "4  CHEMBL299174   14.00    nM  COc1ccc(N(C)Cc2ccc3nc(N)nc(N)c3n2)c(OC)c1   \n",
       "\n",
       "         target  active  \n",
       "0  CHEMBL828662       0  \n",
       "1  CHEMBL830839       1  \n",
       "2  CHEMBL828662       1  \n",
       "3  CHEMBL830839       1  \n",
       "4  CHEMBL828662       1  "
      ]
     },
     "execution_count": 117,
     "metadata": {},
     "output_type": "execute_result"
    }
   ],
   "source": [
    "df_filter_balance = df_balance[df_balance['target'].isin(filtered_index)]\n",
    "print(df_filter_balance.shape)\n",
    "df_filter_balance.head()"
   ]
  },
  {
   "cell_type": "markdown",
   "metadata": {},
   "source": [
    "## [10 points] Featurize each ligand using RDKit (https://www.rdkit.org (Links to an external site.)). This will convert the ligand representation into a binary vector of features. Mention any hyper parameters you use."
   ]
  },
  {
   "cell_type": "code",
   "execution_count": 118,
   "metadata": {},
   "outputs": [],
   "source": [
    "from rdkit import Chem\n",
    "from rdkit.Chem import AllChem\n",
    "import rdkit\n",
    "from rdkit.Chem.AtomPairs import Pairs"
   ]
  },
  {
   "cell_type": "code",
   "execution_count": 119,
   "metadata": {},
   "outputs": [
    {
     "name": "stdout",
     "output_type": "stream",
     "text": [
      "/Users/ouyang/opt/anaconda3/envs/python36/bin/python\n",
      "3.6.10 |Anaconda, Inc.| (default, Mar 23 2020, 17:45:12) \n",
      "[GCC 4.2.1 Compatible Clang 4.0.1 (tags/RELEASE_401/final)]\n",
      "sys.version_info(major=3, minor=6, micro=10, releaselevel='final', serial=0)\n"
     ]
    }
   ],
   "source": [
    "import sys\n",
    "print(sys.executable)\n",
    "print(sys.version)\n",
    "print(sys.version_info)"
   ]
  },
  {
   "cell_type": "code",
   "execution_count": 120,
   "metadata": {},
   "outputs": [],
   "source": [
    "m1 = Chem.MolFromSmiles(df['smiles'].iloc[0])\n",
    "m2 = Chem.MolFromSmiles(df['smiles'].iloc[1])\n",
    "m3 = Chem.MolFromSmiles(df['smiles'].iloc[2])\n",
    "m4 = Chem.MolFromSmiles(df['smiles'].iloc[3])\n",
    "m5 = Chem.MolFromSmiles(df['smiles'].iloc[4])\n",
    "mols = [m1, m2, m3, m4, m5]"
   ]
  },
  {
   "cell_type": "code",
   "execution_count": 121,
   "metadata": {},
   "outputs": [
    {
     "name": "stdout",
     "output_type": "stream",
     "text": [
      "[[0 0 0 ... 0 0 0]\n",
      " [0 0 0 ... 0 0 0]\n",
      " [0 0 0 ... 0 0 0]\n",
      " [0 0 0 ... 0 0 0]\n",
      " [0 0 0 ... 0 0 0]]\n",
      "(5, 2048)\n"
     ]
    }
   ],
   "source": [
    "# refer: https://www.rdkit.org/docs/Cookbook.html\n",
    "# generate fingeprints: Morgan fingerprint with radius 2\n",
    "fps = [AllChem.GetMorganFingerprintAsBitVect(m, 2) for m in mols]\n",
    "# convert the RDKit explicit vectors into numpy arrays\n",
    "np_fps = np.asarray(fps)\n",
    "\n",
    "print(np_fps)\n",
    "print(np_fps.shape)"
   ]
  },
  {
   "cell_type": "code",
   "execution_count": 122,
   "metadata": {},
   "outputs": [
    {
     "name": "stdout",
     "output_type": "stream",
     "text": [
      "00000000000000010000000000000000010001000010100000000000000010011000000000000100100000000010000001000000000000000000000000000000100000000001000000010000000000000000000000000001000000000000000000000000000000000000001010000000000000000000000000000000000000000000000000001000000000000000000000000010000000000000000000000001010001000000010001100001100000000000100000001000010000000010000000000000000000000001000001000010000000000100000001010000000000001000000000000000000000000000000000100000000000000000000000010000\n"
     ]
    }
   ],
   "source": [
    "# the default bits are 2048, we can make it to 512\n",
    "# but we still don't know how the bits number will impact the result\n",
    "m = AllChem.GetMorganFingerprintAsBitVect(m1, radius=2, nBits=512)\n",
    "bits = m.ToBitString()\n",
    "print(bits)"
   ]
  },
  {
   "cell_type": "code",
   "execution_count": 123,
   "metadata": {},
   "outputs": [
    {
     "name": "stdout",
     "output_type": "stream",
     "text": [
      "8388608\n"
     ]
    }
   ],
   "source": [
    "m = Pairs.GetAtomPairFingerprintAsBitVect(m1)\n",
    "print(len(m.ToBitString()))"
   ]
  },
  {
   "cell_type": "markdown",
   "metadata": {},
   "source": [
    "The result of *Pairs.GetAtomPairFingerprintAsBitVect(m1)* is too too big... And we have no idea about what this result means. So we don't use it."
   ]
  },
  {
   "cell_type": "code",
   "execution_count": 124,
   "metadata": {},
   "outputs": [
    {
     "name": "stdout",
     "output_type": "stream",
     "text": [
      "10000000000000001100110011101000000011000000111000000000111000001110100011100000111010001110110000001110000010000000000011101000000011000000000011000000111011000000100000000000100010001000111011110000111010000000000000001110111111000000000011101111111011111000110000000000100011000000111011100000110010000000000000000000111011101100111100001000110011001100000011000000100000001000100011000000110000001100110011001110100000001000100010001000000011000000111111001110100000001110000010001110100000001110110011111110\n",
      "\n"
     ]
    }
   ],
   "source": [
    "m = AllChem.GetHashedAtomPairFingerprintAsBitVect(m1, nBits=512)\n",
    "print(m.ToBitString())\n",
    "print()"
   ]
  },
  {
   "cell_type": "markdown",
   "metadata": {},
   "source": [
    "The GetMorganFingerprintAsBitVect( ) and GetHashedAtomPairFingerprintAsBitVect( ) look great and might be helpful to the learning task."
   ]
  },
  {
   "cell_type": "code",
   "execution_count": 125,
   "metadata": {},
   "outputs": [
    {
     "name": "stdout",
     "output_type": "stream",
     "text": [
      "2019.09.3\n"
     ]
    }
   ],
   "source": [
    "print(rdkit.__version__)"
   ]
  },
  {
   "cell_type": "markdown",
   "metadata": {},
   "source": [
    "### For this part, we are going to use MorganFingerprint as feature and ic50 as classification task. And the AtomFingerprint will be used in the exceptional part"
   ]
  },
  {
   "cell_type": "code",
   "execution_count": 126,
   "metadata": {},
   "outputs": [],
   "source": [
    "# convert smiles to MorganFingerprint np array\n",
    "def smilesToMorganFingerprint_asarray(smile, nBits=512):\n",
    "    try:\n",
    "        mol = Chem.MolFromSmiles(smile)\n",
    "        m = AllChem.GetMorganFingerprintAsBitVect(mol, radius=2, nBits=nBits)\n",
    "    except ValueError:\n",
    "        print(\"Can't get MorganFingerPrint becauses of some errors: \", smile)\n",
    "    \n",
    "    bits = m.ToBitString()\n",
    "    return np.asarray([int(i) for i in m])\n",
    "\n",
    "# convert smiles to AtomFingerprint np array\n",
    "def smilesToAtomFingerprint_asarray(smile, nBits=512):\n",
    "    try:\n",
    "        mol = Chem.MolFromSmiles(smile)\n",
    "        m = AllChem.GetHashedAtomPairFingerprintAsBitVect(mol=mol, nBits=nBits)\n",
    "    except ValueError:\n",
    "        print(\"Can't get MorganFingerPrint becauses of some errors: \", smile)\n",
    "    \n",
    "    bits = m.ToBitString()\n",
    "    return np.asarray([int(i) for i in m])"
   ]
  },
  {
   "cell_type": "code",
   "execution_count": 127,
   "metadata": {},
   "outputs": [
    {
     "name": "stdout",
     "output_type": "stream",
     "text": [
      "512\n",
      "512\n"
     ]
    }
   ],
   "source": [
    "print(len(smilesToMorganFingerprint_asarray(df_filter_balance['smiles'].iloc[0], 512)))\n",
    "print(len(smilesToAtomFingerprint_asarray(df_filter_balance['smiles'].iloc[0], 512)))"
   ]
  },
  {
   "cell_type": "code",
   "execution_count": 128,
   "metadata": {},
   "outputs": [
    {
     "data": {
      "text/html": [
       "<div>\n",
       "<style scoped>\n",
       "    .dataframe tbody tr th:only-of-type {\n",
       "        vertical-align: middle;\n",
       "    }\n",
       "\n",
       "    .dataframe tbody tr th {\n",
       "        vertical-align: top;\n",
       "    }\n",
       "\n",
       "    .dataframe thead th {\n",
       "        text-align: right;\n",
       "    }\n",
       "</style>\n",
       "<table border=\"1\" class=\"dataframe\">\n",
       "  <thead>\n",
       "    <tr style=\"text-align: right;\">\n",
       "      <th></th>\n",
       "      <th>molecule</th>\n",
       "      <th>ic50</th>\n",
       "      <th>units</th>\n",
       "      <th>smiles</th>\n",
       "      <th>target</th>\n",
       "      <th>active</th>\n",
       "    </tr>\n",
       "  </thead>\n",
       "  <tbody>\n",
       "    <tr>\n",
       "      <th>0</th>\n",
       "      <td>CHEMBL278261</td>\n",
       "      <td>870.00</td>\n",
       "      <td>nM</td>\n",
       "      <td>CN(Cc1c[nH]c2nc(N)nc(N)c12)c3cccc4ccccc34</td>\n",
       "      <td>CHEMBL828662</td>\n",
       "      <td>0</td>\n",
       "    </tr>\n",
       "    <tr>\n",
       "      <th>1</th>\n",
       "      <td>CHEMBL142081</td>\n",
       "      <td>57.94</td>\n",
       "      <td>nM</td>\n",
       "      <td>COc1ccccc1Sc2ccc3nc(N)nc(N)c3n2</td>\n",
       "      <td>CHEMBL830839</td>\n",
       "      <td>1</td>\n",
       "    </tr>\n",
       "    <tr>\n",
       "      <th>2</th>\n",
       "      <td>CHEMBL121319</td>\n",
       "      <td>97.00</td>\n",
       "      <td>nM</td>\n",
       "      <td>Nc1nc(N)c2CC(CNc3cc(Cl)ccc3Cl)CCc2n1</td>\n",
       "      <td>CHEMBL828662</td>\n",
       "      <td>1</td>\n",
       "    </tr>\n",
       "    <tr>\n",
       "      <th>3</th>\n",
       "      <td>CHEMBL121319</td>\n",
       "      <td>97.01</td>\n",
       "      <td>nM</td>\n",
       "      <td>Nc1nc(N)c2CC(CNc3cc(Cl)ccc3Cl)CCc2n1</td>\n",
       "      <td>CHEMBL830839</td>\n",
       "      <td>1</td>\n",
       "    </tr>\n",
       "    <tr>\n",
       "      <th>4</th>\n",
       "      <td>CHEMBL299174</td>\n",
       "      <td>14.00</td>\n",
       "      <td>nM</td>\n",
       "      <td>COc1ccc(N(C)Cc2ccc3nc(N)nc(N)c3n2)c(OC)c1</td>\n",
       "      <td>CHEMBL828662</td>\n",
       "      <td>1</td>\n",
       "    </tr>\n",
       "  </tbody>\n",
       "</table>\n",
       "</div>"
      ],
      "text/plain": [
       "       molecule    ic50 units                                     smiles  \\\n",
       "0  CHEMBL278261  870.00    nM  CN(Cc1c[nH]c2nc(N)nc(N)c12)c3cccc4ccccc34   \n",
       "1  CHEMBL142081   57.94    nM            COc1ccccc1Sc2ccc3nc(N)nc(N)c3n2   \n",
       "2  CHEMBL121319   97.00    nM       Nc1nc(N)c2CC(CNc3cc(Cl)ccc3Cl)CCc2n1   \n",
       "3  CHEMBL121319   97.01    nM       Nc1nc(N)c2CC(CNc3cc(Cl)ccc3Cl)CCc2n1   \n",
       "4  CHEMBL299174   14.00    nM  COc1ccc(N(C)Cc2ccc3nc(N)nc(N)c3n2)c(OC)c1   \n",
       "\n",
       "         target  active  \n",
       "0  CHEMBL828662       0  \n",
       "1  CHEMBL830839       1  \n",
       "2  CHEMBL828662       1  \n",
       "3  CHEMBL830839       1  \n",
       "4  CHEMBL828662       1  "
      ]
     },
     "execution_count": 128,
     "metadata": {},
     "output_type": "execute_result"
    }
   ],
   "source": [
    "df_filter_balance.head()"
   ]
  },
  {
   "cell_type": "code",
   "execution_count": 129,
   "metadata": {},
   "outputs": [
    {
     "data": {
      "text/plain": [
       "1    27334\n",
       "0    17589\n",
       "Name: active, dtype: int64"
      ]
     },
     "execution_count": 129,
     "metadata": {},
     "output_type": "execute_result"
    }
   ],
   "source": [
    "df_filter_balance['active'].value_counts()"
   ]
  },
  {
   "cell_type": "markdown",
   "metadata": {},
   "source": [
    "The 0 and 1 proportion is quite normal."
   ]
  },
  {
   "cell_type": "code",
   "execution_count": 130,
   "metadata": {},
   "outputs": [],
   "source": [
    "# prepare and initialize data before training model\n",
    "# df_filter_balance is the already filtered-data with filtered-top500 target\n",
    "tasks = dict()\n",
    "for single_target in df_filter_balance['target']:\n",
    "    # tasks[single_target][0]: MorganFingerPrint\n",
    "    # tasks[single_target][1]: AtomFingerPrint\n",
    "    # tasks[single_target][2]: df_filter_balance['active'], which is the predicted target\n",
    "    tasks[single_target] = [[], [], []]\n",
    "    \n",
    "# put data into the dictionary    \n",
    "for i in range(len(df_filter_balance)):\n",
    "    mf_array = smilesToMorganFingerprint_asarray(df_filter_balance.iloc[i]['smiles'])\n",
    "    af_array = smilesToAtomFingerprint_asarray(df_filter_balance.iloc[i]['smiles'])\n",
    "    active_value = df_filter_balance.iloc[i]['active']\n",
    "    key = df_filter_balance.iloc[i]['target']\n",
    "    tasks[key][0].append(mf_array)\n",
    "    tasks[key][1].append(af_array)\n",
    "    tasks[key][2].append(active_value)\n",
    "\n",
    "# convert data to numpy array for training preparation\n",
    "for key in tasks.keys():\n",
    "    tasks[key][0] = np.array(tasks[key][0])\n",
    "    tasks[key][1] = np.array(tasks[key][1])\n",
    "    tasks[key][2] = np.array(tasks[key][2])"
   ]
  },
  {
   "cell_type": "code",
   "execution_count": 131,
   "metadata": {},
   "outputs": [
    {
     "name": "stdout",
     "output_type": "stream",
     "text": [
      "dict_keys(['CHEMBL828662', 'CHEMBL830839', 'CHEMBL1243974', 'CHEMBL1243972', 'CHEMBL763870', 'CHEMBL830838', 'CHEMBL830957', 'CHEMBL830842', 'CHEMBL829401', 'CHEMBL1119333', 'CHEMBL1006579', 'CHEMBL3431932', 'CHEMBL2038596', 'CHEMBL2038597', 'CHEMBL1243970', 'CHEMBL1243973', 'CHEMBL1243967', 'CHEMBL3706327', 'CHEMBL3707962', 'CHEMBL3707950', 'CHEMBL3705261', 'CHEMBL3707951', 'CHEMBL3707783', 'CHEMBL3705917', 'CHEMBL3706272', 'CHEMBL3888429', 'CHEMBL3888209', 'CHEMBL3888181', 'CHEMBL3888461', 'CHEMBL3888103', 'CHEMBL3887033', 'CHEMBL3705790', 'CHEMBL3706356', 'CHEMBL3705585', 'CHEMBL3705357', 'CHEMBL3706088', 'CHEMBL3705047', 'CHEMBL3705123', 'CHEMBL3706152', 'CHEMBL3705844', 'CHEMBL3705282', 'CHEMBL3705869', 'CHEMBL3705924', 'CHEMBL3705963', 'CHEMBL3705791', 'CHEMBL3887679', 'CHEMBL3887886', 'CHEMBL3888194', 'CHEMBL3705927', 'CHEMBL3887812', 'CHEMBL3887759', 'CHEMBL3705698', 'CHEMBL3705827', 'CHEMBL2328568', 'CHEMBL3888178', 'CHEMBL3706306', 'CHEMBL3887700', 'CHEMBL3887866', 'CHEMBL3888445', 'CHEMBL3888530', 'CHEMBL3887749', 'CHEMBL3888378', 'CHEMBL3887093', 'CHEMBL3705868', 'CHEMBL3705362', 'CHEMBL3705510', 'CHEMBL3887848', 'CHEMBL3887678', 'CHEMBL3887893', 'CHEMBL3887887', 'CHEMBL3888488', 'CHEMBL3706316', 'CHEMBL3887963', 'CHEMBL3887318', 'CHEMBL3705637', 'CHEMBL3888749', 'CHEMBL1826790', 'CHEMBL3706360', 'CHEMBL3705420', 'CHEMBL3887074', 'CHEMBL3562142', 'CHEMBL3721052', 'CHEMBL3734214', 'CHEMBL3734252', 'CHEMBL3734213', 'CHEMBL3705858', 'CHEMBL3705513', 'CHEMBL3705519', 'CHEMBL3705899', 'CHEMBL3706381', 'CHEMBL3734174', 'CHEMBL3734165', 'CHEMBL3887896', 'CHEMBL3887999', 'CHEMBL3887692', 'CHEMBL3887403', 'CHEMBL3887333', 'CHEMBL3888094', 'CHEMBL3705299', 'CHEMBL3830608', 'CHEMBL3888176', 'CHEMBL3882760', 'CHEMBL3883065', 'CHEMBL3883087', 'CHEMBL3882755', 'CHEMBL3882756', 'CHEMBL3881499', 'CHEMBL3881393', 'CHEMBL3883118', 'CHEMBL3883117', 'CHEMBL3883069', 'CHEMBL3887334', 'CHEMBL3882759', 'CHEMBL3880341', 'CHEMBL3880344', 'CHEMBL3880113', 'CHEMBL3887111', 'CHEMBL3880342', 'CHEMBL3888352', 'CHEMBL3888980', 'CHEMBL3887188', 'CHEMBL3889082', 'CHEMBL3889212', 'CHEMBL3889241', 'CHEMBL3889137', 'CHEMBL3889083', 'CHEMBL3887297', 'CHEMBL3887430', 'CHEMBL3889138', 'CHEMBL3889240', 'CHEMBL3887323', 'CHEMBL3705577', 'CHEMBL3887325', 'CHEMBL3888827'])\n"
     ]
    }
   ],
   "source": [
    "print(tasks.keys())"
   ]
  },
  {
   "cell_type": "code",
   "execution_count": 132,
   "metadata": {},
   "outputs": [
    {
     "name": "stdout",
     "output_type": "stream",
     "text": [
      "task, MorganFingerprint.shape, AtomFingerprint.shape, active_value.shape:\n",
      "CHEMBL828662 (177, 512) (177, 512) (177,)\n",
      "CHEMBL830839 (177, 512) (177, 512) (177,)\n",
      "CHEMBL1243974 (171, 512) (171, 512) (171,)\n",
      "CHEMBL1243972 (171, 512) (171, 512) (171,)\n",
      "CHEMBL763870 (305, 512) (305, 512) (305,)\n",
      "CHEMBL830838 (177, 512) (177, 512) (177,)\n",
      "CHEMBL830957 (177, 512) (177, 512) (177,)\n",
      "CHEMBL830842 (177, 512) (177, 512) (177,)\n",
      "CHEMBL829401 (177, 512) (177, 512) (177,)\n",
      "CHEMBL1119333 (417, 512) (417, 512) (417,)\n",
      "CHEMBL1006579 (338, 512) (338, 512) (338,)\n"
     ]
    }
   ],
   "source": [
    "# some statistic data for the task\n",
    "print(\"task, MorganFingerprint.shape, AtomFingerprint.shape, active_value.shape:\")\n",
    "for index, item in enumerate(tasks.items()):\n",
    "    print(item[0], item[1][0].shape, item[1][1].shape, item[1][2].shape)\n",
    "    if index == 10:\n",
    "        break"
   ]
  },
  {
   "cell_type": "markdown",
   "metadata": {},
   "source": [
    "## Multi-task Model"
   ]
  },
  {
   "cell_type": "markdown",
   "metadata": {},
   "source": [
    "## [20 points] Train a multi-task model (one model for each target). Use an 80/20 split for each target."
   ]
  },
  {
   "cell_type": "code",
   "execution_count": 133,
   "metadata": {},
   "outputs": [],
   "source": [
    "from tensorflow.keras.layers import Input, Dense\n",
    "from tensorflow.keras.models import Model\n",
    "import tensorflow as tf\n",
    "from sklearn.model_selection import train_test_split\n",
    "\n",
    "X_train = dict()\n",
    "y_train = dict()\n",
    "X_test = dict()\n",
    "y_test = dict()\n",
    "\n",
    "for x in tasks.keys():\n",
    "    X_train[x], X_test[x], y_train[x], y_test[x] = train_test_split(tasks[x][0],\n",
    "                                                   tasks[x][2],\n",
    "                                                   test_size=0.2, random_state=42)\n",
    "        "
   ]
  },
  {
   "cell_type": "code",
   "execution_count": 134,
   "metadata": {},
   "outputs": [],
   "source": [
    "inputs = Input(shape=(512,))\n",
    "shared_mlp = Dense(64, activation='relu')(inputs)\n",
    "shared_mlp = Dense(64, activation='relu')(shared_mlp)\n",
    "\n",
    "# make a dictionary of models for each task\n",
    "models_mtl = dict()\n",
    "\n",
    "for x in tasks.keys():\n",
    "    personal_layer = Dense(10, activation='relu')(shared_mlp)\n",
    "    output_layer = Dense(1, activation='sigmoid')(personal_layer)\n",
    "    model = Model(inputs=inputs, outputs=output_layer)\n",
    "    model.compile(optimizer='sgd', loss='binary_crossentropy')\n",
    "    models_mtl[x] = model"
   ]
  },
  {
   "cell_type": "code",
   "execution_count": 135,
   "metadata": {},
   "outputs": [
    {
     "name": "stdout",
     "output_type": "stream",
     "text": [
      "_________________________________________________________________\n",
      "Layer (type)                 Output Shape              Param #   \n",
      "=================================================================\n",
      "input_2 (InputLayer)         (None, 512)               0         \n",
      "_________________________________________________________________\n",
      "dense_744 (Dense)            (None, 64)                32832     \n",
      "_________________________________________________________________\n",
      "dense_745 (Dense)            (None, 64)                4160      \n",
      "_________________________________________________________________\n",
      "dense_746 (Dense)            (None, 10)                650       \n",
      "_________________________________________________________________\n",
      "dense_747 (Dense)            (None, 1)                 11        \n",
      "=================================================================\n",
      "Total params: 37,653\n",
      "Trainable params: 37,653\n",
      "Non-trainable params: 0\n",
      "_________________________________________________________________\n"
     ]
    }
   ],
   "source": [
    "models_mtl['CHEMBL828662'].summary()"
   ]
  },
  {
   "cell_type": "code",
   "execution_count": 136,
   "metadata": {
    "scrolled": true
   },
   "outputs": [
    {
     "name": "stderr",
     "output_type": "stream",
     "text": [
      "\r",
      "  0%|          | 0/134 [00:00<?, ?it/s]"
     ]
    },
    {
     "name": "stdout",
     "output_type": "stream",
     "text": [
      "Epoch  0\n",
      "Epoch 1/1\n",
      "141/141 [==============================] - 19s 135ms/step - loss: 0.7484\n"
     ]
    },
    {
     "name": "stderr",
     "output_type": "stream",
     "text": [
      "\r",
      "  1%|          | 1/134 [00:19<43:49, 19.77s/it]"
     ]
    },
    {
     "name": "stdout",
     "output_type": "stream",
     "text": [
      "Epoch 1/1\n",
      "141/141 [==============================] - 7s 51ms/step - loss: 0.6704\n"
     ]
    },
    {
     "name": "stderr",
     "output_type": "stream",
     "text": [
      "\r",
      "  1%|▏         | 2/134 [00:27<35:38, 16.20s/it]"
     ]
    },
    {
     "name": "stdout",
     "output_type": "stream",
     "text": [
      "Epoch 1/1\n",
      "136/136 [==============================] - 7s 53ms/step - loss: 0.7033\n"
     ]
    },
    {
     "name": "stderr",
     "output_type": "stream",
     "text": [
      "\r",
      "  2%|▏         | 3/134 [00:35<29:57, 13.72s/it]"
     ]
    },
    {
     "name": "stdout",
     "output_type": "stream",
     "text": [
      "Epoch 1/1\n",
      "136/136 [==============================] - 7s 53ms/step - loss: 0.6968\n"
     ]
    },
    {
     "name": "stderr",
     "output_type": "stream",
     "text": [
      "\r",
      "  3%|▎         | 4/134 [00:43<25:59, 11.99s/it]"
     ]
    },
    {
     "name": "stdout",
     "output_type": "stream",
     "text": [
      "Epoch 1/1\n",
      "244/244 [==============================] - 7s 30ms/step - loss: 0.7281\n"
     ]
    },
    {
     "name": "stderr",
     "output_type": "stream",
     "text": [
      "\r",
      "  4%|▎         | 5/134 [00:51<23:17, 10.84s/it]"
     ]
    },
    {
     "name": "stdout",
     "output_type": "stream",
     "text": [
      "Epoch 1/1\n",
      "141/141 [==============================] - 7s 51ms/step - loss: 0.6990\n"
     ]
    },
    {
     "name": "stderr",
     "output_type": "stream",
     "text": [
      "\r",
      "  4%|▍         | 6/134 [00:59<21:17,  9.98s/it]"
     ]
    },
    {
     "name": "stdout",
     "output_type": "stream",
     "text": [
      "Epoch 1/1\n",
      "141/141 [==============================] - 7s 53ms/step - loss: 0.7542\n"
     ]
    },
    {
     "name": "stderr",
     "output_type": "stream",
     "text": [
      "\r",
      "  5%|▌         | 7/134 [01:07<19:59,  9.45s/it]"
     ]
    },
    {
     "name": "stdout",
     "output_type": "stream",
     "text": [
      "Epoch 1/1\n",
      "141/141 [==============================] - 7s 52ms/step - loss: 0.7049\n"
     ]
    },
    {
     "name": "stderr",
     "output_type": "stream",
     "text": [
      "\r",
      "  6%|▌         | 8/134 [01:16<19:02,  9.07s/it]"
     ]
    },
    {
     "name": "stdout",
     "output_type": "stream",
     "text": [
      "Epoch 1/1\n",
      "141/141 [==============================] - 7s 53ms/step - loss: 0.7070\n"
     ]
    },
    {
     "name": "stderr",
     "output_type": "stream",
     "text": [
      "\r",
      "  7%|▋         | 9/134 [01:24<18:24,  8.83s/it]"
     ]
    },
    {
     "name": "stdout",
     "output_type": "stream",
     "text": [
      "Epoch 1/1\n",
      "333/333 [==============================] - 7s 23ms/step - loss: 0.7147\n"
     ]
    },
    {
     "name": "stderr",
     "output_type": "stream",
     "text": [
      "\r",
      "  7%|▋         | 10/134 [01:32<17:56,  8.68s/it]"
     ]
    },
    {
     "name": "stdout",
     "output_type": "stream",
     "text": [
      "Epoch 1/1\n",
      "270/270 [==============================] - 8s 28ms/step - loss: 0.6341\n"
     ]
    },
    {
     "name": "stderr",
     "output_type": "stream",
     "text": [
      "\r",
      "  8%|▊         | 11/134 [01:41<17:37,  8.60s/it]"
     ]
    },
    {
     "name": "stdout",
     "output_type": "stream",
     "text": [
      "Epoch 1/1\n",
      "367/367 [==============================] - 8s 21ms/step - loss: 0.6270\n"
     ]
    },
    {
     "name": "stderr",
     "output_type": "stream",
     "text": [
      "\r",
      "  9%|▉         | 12/134 [01:49<17:20,  8.53s/it]"
     ]
    },
    {
     "name": "stdout",
     "output_type": "stream",
     "text": [
      "Epoch 1/1\n",
      "166/166 [==============================] - 8s 46ms/step - loss: 0.7549\n"
     ]
    },
    {
     "name": "stderr",
     "output_type": "stream",
     "text": [
      "\r",
      " 10%|▉         | 13/134 [01:57<17:09,  8.51s/it]"
     ]
    },
    {
     "name": "stdout",
     "output_type": "stream",
     "text": [
      "Epoch 1/1\n",
      "166/166 [==============================] - 8s 47ms/step - loss: 0.7042\n"
     ]
    },
    {
     "name": "stderr",
     "output_type": "stream",
     "text": [
      "\r",
      " 10%|█         | 14/134 [02:06<17:06,  8.55s/it]"
     ]
    },
    {
     "name": "stdout",
     "output_type": "stream",
     "text": [
      "Epoch 1/1\n",
      "166/166 [==============================] - 8s 46ms/step - loss: 0.6895\n"
     ]
    },
    {
     "name": "stderr",
     "output_type": "stream",
     "text": [
      "\r",
      " 11%|█         | 15/134 [02:15<17:03,  8.60s/it]"
     ]
    },
    {
     "name": "stdout",
     "output_type": "stream",
     "text": [
      "Epoch 1/1\n",
      "137/137 [==============================] - 8s 56ms/step - loss: 0.7132\n"
     ]
    },
    {
     "name": "stderr",
     "output_type": "stream",
     "text": [
      "\r",
      " 12%|█▏        | 16/134 [02:23<16:54,  8.60s/it]"
     ]
    },
    {
     "name": "stdout",
     "output_type": "stream",
     "text": [
      "Epoch 1/1\n",
      "167/167 [==============================] - 8s 46ms/step - loss: 0.7673\n"
     ]
    },
    {
     "name": "stderr",
     "output_type": "stream",
     "text": [
      "\r",
      " 13%|█▎        | 17/134 [02:32<16:45,  8.59s/it]"
     ]
    },
    {
     "name": "stdout",
     "output_type": "stream",
     "text": [
      "Epoch 1/1\n",
      "507/507 [==============================] - 8s 15ms/step - loss: 0.6883\n"
     ]
    },
    {
     "name": "stderr",
     "output_type": "stream",
     "text": [
      "\r",
      " 13%|█▎        | 18/134 [02:41<16:43,  8.65s/it]"
     ]
    },
    {
     "name": "stdout",
     "output_type": "stream",
     "text": [
      "Epoch 1/1\n",
      "276/276 [==============================] - 8s 28ms/step - loss: 0.6223\n"
     ]
    },
    {
     "name": "stderr",
     "output_type": "stream",
     "text": [
      "\r",
      " 14%|█▍        | 19/134 [02:49<16:39,  8.69s/it]"
     ]
    },
    {
     "name": "stdout",
     "output_type": "stream",
     "text": [
      "Epoch 1/1\n",
      "290/290 [==============================] - 8s 27ms/step - loss: 0.6507\n"
     ]
    },
    {
     "name": "stderr",
     "output_type": "stream",
     "text": [
      "\r",
      " 15%|█▍        | 20/134 [02:58<16:35,  8.73s/it]"
     ]
    },
    {
     "name": "stdout",
     "output_type": "stream",
     "text": [
      "Epoch 1/1\n",
      "206/206 [==============================] - 8s 38ms/step - loss: 0.6338\n"
     ]
    },
    {
     "name": "stderr",
     "output_type": "stream",
     "text": [
      "\r",
      " 16%|█▌        | 21/134 [03:07<16:30,  8.77s/it]"
     ]
    },
    {
     "name": "stdout",
     "output_type": "stream",
     "text": [
      "Epoch 1/1\n",
      "254/254 [==============================] - 8s 31ms/step - loss: 0.6867\n"
     ]
    },
    {
     "name": "stderr",
     "output_type": "stream",
     "text": [
      "\r",
      " 16%|█▋        | 22/134 [03:16<16:26,  8.81s/it]"
     ]
    },
    {
     "name": "stdout",
     "output_type": "stream",
     "text": [
      "Epoch 1/1\n",
      "129/129 [==============================] - 8s 63ms/step - loss: 0.6608\n"
     ]
    },
    {
     "name": "stderr",
     "output_type": "stream",
     "text": [
      "\r",
      " 17%|█▋        | 23/134 [03:25<16:25,  8.88s/it]"
     ]
    },
    {
     "name": "stdout",
     "output_type": "stream",
     "text": [
      "Epoch 1/1\n",
      "166/166 [==============================] - 8s 49ms/step - loss: 0.7422\n"
     ]
    },
    {
     "name": "stderr",
     "output_type": "stream",
     "text": [
      "\r",
      " 18%|█▊        | 24/134 [03:34<16:22,  8.93s/it]"
     ]
    },
    {
     "name": "stdout",
     "output_type": "stream",
     "text": [
      "Epoch 1/1\n",
      "146/146 [==============================] - 8s 55ms/step - loss: 0.6895\n"
     ]
    },
    {
     "name": "stderr",
     "output_type": "stream",
     "text": [
      "\r",
      " 19%|█▊        | 25/134 [03:43<16:14,  8.94s/it]"
     ]
    },
    {
     "name": "stdout",
     "output_type": "stream",
     "text": [
      "Epoch 1/1\n",
      "533/533 [==============================] - 8s 15ms/step - loss: 0.6125\n"
     ]
    },
    {
     "name": "stderr",
     "output_type": "stream",
     "text": [
      "\r",
      " 19%|█▉        | 26/134 [03:52<16:12,  9.00s/it]"
     ]
    },
    {
     "name": "stdout",
     "output_type": "stream",
     "text": [
      "Epoch 1/1\n",
      "298/298 [==============================] - 9s 30ms/step - loss: 0.7147\n"
     ]
    },
    {
     "name": "stderr",
     "output_type": "stream",
     "text": [
      "\r",
      " 20%|██        | 27/134 [04:02<16:37,  9.33s/it]"
     ]
    },
    {
     "name": "stdout",
     "output_type": "stream",
     "text": [
      "Epoch 1/1\n",
      "175/175 [==============================] - 8s 45ms/step - loss: 0.7858\n"
     ]
    },
    {
     "name": "stderr",
     "output_type": "stream",
     "text": [
      "\r",
      " 21%|██        | 28/134 [04:11<16:17,  9.22s/it]"
     ]
    },
    {
     "name": "stdout",
     "output_type": "stream",
     "text": [
      "Epoch 1/1\n",
      "144/144 [==============================] - 8s 57ms/step - loss: 0.6906\n"
     ]
    },
    {
     "name": "stderr",
     "output_type": "stream",
     "text": [
      "\r",
      " 22%|██▏       | 29/134 [04:21<16:06,  9.20s/it]"
     ]
    },
    {
     "name": "stdout",
     "output_type": "stream",
     "text": [
      "Epoch 1/1\n",
      "146/146 [==============================] - 8s 56ms/step - loss: 0.6808\n"
     ]
    },
    {
     "name": "stderr",
     "output_type": "stream",
     "text": [
      "\r",
      " 22%|██▏       | 30/134 [04:30<15:56,  9.20s/it]"
     ]
    },
    {
     "name": "stdout",
     "output_type": "stream",
     "text": [
      "Epoch 1/1\n",
      "408/408 [==============================] - 8s 20ms/step - loss: 0.6905\n"
     ]
    },
    {
     "name": "stderr",
     "output_type": "stream",
     "text": [
      "\r",
      " 23%|██▎       | 31/134 [04:39<15:48,  9.21s/it]"
     ]
    },
    {
     "name": "stdout",
     "output_type": "stream",
     "text": [
      "Epoch 1/1\n",
      "392/392 [==============================] - 9s 23ms/step - loss: 0.7261\n"
     ]
    },
    {
     "name": "stderr",
     "output_type": "stream",
     "text": [
      "\r",
      " 24%|██▍       | 32/134 [04:49<16:02,  9.44s/it]"
     ]
    },
    {
     "name": "stdout",
     "output_type": "stream",
     "text": [
      "Epoch 1/1\n",
      "252/252 [==============================] - 8s 33ms/step - loss: 0.6807\n"
     ]
    },
    {
     "name": "stderr",
     "output_type": "stream",
     "text": [
      "\r",
      " 25%|██▍       | 33/134 [04:58<15:54,  9.45s/it]"
     ]
    },
    {
     "name": "stdout",
     "output_type": "stream",
     "text": [
      "Epoch 1/1\n",
      "148/148 [==============================] - 8s 56ms/step - loss: 0.7367\n"
     ]
    },
    {
     "name": "stderr",
     "output_type": "stream",
     "text": [
      "\r",
      " 25%|██▌       | 34/134 [05:08<15:45,  9.45s/it]"
     ]
    },
    {
     "name": "stdout",
     "output_type": "stream",
     "text": [
      "Epoch 1/1\n",
      "471/471 [==============================] - 8s 18ms/step - loss: 0.7091\n"
     ]
    },
    {
     "name": "stderr",
     "output_type": "stream",
     "text": [
      "\r",
      " 26%|██▌       | 35/134 [05:17<15:39,  9.49s/it]"
     ]
    },
    {
     "name": "stdout",
     "output_type": "stream",
     "text": [
      "Epoch 1/1\n",
      "476/476 [==============================] - 9s 18ms/step - loss: 0.6117\n"
     ]
    },
    {
     "name": "stderr",
     "output_type": "stream",
     "text": [
      "\r",
      " 27%|██▋       | 36/134 [05:27<15:35,  9.55s/it]"
     ]
    },
    {
     "name": "stdout",
     "output_type": "stream",
     "text": [
      "Epoch 1/1\n",
      "231/231 [==============================] - 8s 36ms/step - loss: 0.6659\n"
     ]
    },
    {
     "name": "stderr",
     "output_type": "stream",
     "text": [
      "\r",
      " 28%|██▊       | 37/134 [05:37<15:26,  9.55s/it]"
     ]
    },
    {
     "name": "stdout",
     "output_type": "stream",
     "text": [
      "Epoch 1/1\n",
      "600/600 [==============================] - 9s 14ms/step - loss: 0.6155\n"
     ]
    },
    {
     "name": "stderr",
     "output_type": "stream",
     "text": [
      "\r",
      " 28%|██▊       | 38/134 [05:46<15:19,  9.58s/it]"
     ]
    },
    {
     "name": "stdout",
     "output_type": "stream",
     "text": [
      "Epoch 1/1\n",
      "288/288 [==============================] - 8s 29ms/step - loss: 0.7846\n"
     ]
    },
    {
     "name": "stderr",
     "output_type": "stream",
     "text": [
      "\r",
      " 29%|██▉       | 39/134 [05:56<15:10,  9.58s/it]"
     ]
    },
    {
     "name": "stdout",
     "output_type": "stream",
     "text": [
      "Epoch 1/1\n",
      "240/240 [==============================] - 9s 36ms/step - loss: 0.6701\n"
     ]
    },
    {
     "name": "stderr",
     "output_type": "stream",
     "text": [
      "\r",
      " 30%|██▉       | 40/134 [06:06<15:04,  9.62s/it]"
     ]
    },
    {
     "name": "stdout",
     "output_type": "stream",
     "text": [
      "Epoch 1/1\n",
      "261/261 [==============================] - 9s 33ms/step - loss: 0.6956\n"
     ]
    },
    {
     "name": "stderr",
     "output_type": "stream",
     "text": [
      "\r",
      " 31%|███       | 41/134 [06:16<15:29,  9.99s/it]"
     ]
    },
    {
     "name": "stdout",
     "output_type": "stream",
     "text": [
      "Epoch 1/1\n",
      "544/544 [==============================] - 9s 16ms/step - loss: 0.7278\n"
     ]
    },
    {
     "name": "stderr",
     "output_type": "stream",
     "text": [
      "\r",
      " 31%|███▏      | 42/134 [06:26<15:14,  9.94s/it]"
     ]
    },
    {
     "name": "stdout",
     "output_type": "stream",
     "text": [
      "Epoch 1/1\n",
      "266/266 [==============================] - 9s 33ms/step - loss: 0.7237\n"
     ]
    },
    {
     "name": "stderr",
     "output_type": "stream",
     "text": [
      "\r",
      " 32%|███▏      | 43/134 [06:36<15:02,  9.92s/it]"
     ]
    },
    {
     "name": "stdout",
     "output_type": "stream",
     "text": [
      "Epoch 1/1\n",
      "132/132 [==============================] - 9s 66ms/step - loss: 0.6837\n"
     ]
    },
    {
     "name": "stderr",
     "output_type": "stream",
     "text": [
      "\r",
      " 33%|███▎      | 44/134 [06:46<14:51,  9.90s/it]"
     ]
    },
    {
     "name": "stdout",
     "output_type": "stream",
     "text": [
      "Epoch 1/1\n",
      "303/303 [==============================] - 9s 29ms/step - loss: 0.6927\n"
     ]
    },
    {
     "name": "stderr",
     "output_type": "stream",
     "text": [
      "\r",
      " 34%|███▎      | 45/134 [06:56<14:40,  9.90s/it]"
     ]
    },
    {
     "name": "stdout",
     "output_type": "stream",
     "text": [
      "Epoch 1/1\n",
      "303/303 [==============================] - 9s 29ms/step - loss: 0.6389\n"
     ]
    },
    {
     "name": "stderr",
     "output_type": "stream",
     "text": [
      "\r",
      " 34%|███▍      | 46/134 [07:06<14:32,  9.92s/it]"
     ]
    },
    {
     "name": "stdout",
     "output_type": "stream",
     "text": [
      "Epoch 1/1\n",
      "372/372 [==============================] - 9s 24ms/step - loss: 0.6841\n"
     ]
    },
    {
     "name": "stderr",
     "output_type": "stream",
     "text": [
      "\r",
      " 35%|███▌      | 47/134 [07:16<14:29, 10.00s/it]"
     ]
    },
    {
     "name": "stdout",
     "output_type": "stream",
     "text": [
      "Epoch 1/1\n",
      "606/606 [==============================] - 9s 15ms/step - loss: 0.6978\n"
     ]
    },
    {
     "name": "stderr",
     "output_type": "stream",
     "text": [
      "\r",
      " 36%|███▌      | 48/134 [07:26<14:25, 10.07s/it]"
     ]
    },
    {
     "name": "stdout",
     "output_type": "stream",
     "text": [
      "Epoch 1/1\n",
      "388/388 [==============================] - 9s 23ms/step - loss: 0.6572\n"
     ]
    },
    {
     "name": "stderr",
     "output_type": "stream",
     "text": [
      "\r",
      " 37%|███▋      | 49/134 [07:36<14:18, 10.10s/it]"
     ]
    },
    {
     "name": "stdout",
     "output_type": "stream",
     "text": [
      "Epoch 1/1\n",
      "160/160 [==============================] - 9s 55ms/step - loss: 0.7014\n"
     ]
    },
    {
     "name": "stderr",
     "output_type": "stream",
     "text": [
      "\r",
      " 37%|███▋      | 50/134 [07:47<14:10, 10.12s/it]"
     ]
    },
    {
     "name": "stdout",
     "output_type": "stream",
     "text": [
      "Epoch 1/1\n",
      "368/368 [==============================] - 9s 24ms/step - loss: 0.6775\n"
     ]
    },
    {
     "name": "stderr",
     "output_type": "stream",
     "text": [
      "\r",
      " 38%|███▊      | 51/134 [07:57<14:02, 10.15s/it]"
     ]
    },
    {
     "name": "stdout",
     "output_type": "stream",
     "text": [
      "Epoch 1/1\n",
      "229/229 [==============================] - 9s 39ms/step - loss: 0.7244\n"
     ]
    },
    {
     "name": "stderr",
     "output_type": "stream",
     "text": [
      "\r",
      " 39%|███▉      | 52/134 [08:07<13:57, 10.21s/it]"
     ]
    },
    {
     "name": "stdout",
     "output_type": "stream",
     "text": [
      "Epoch 1/1\n",
      "144/144 [==============================] - 9s 62ms/step - loss: 0.6125\n"
     ]
    },
    {
     "name": "stderr",
     "output_type": "stream",
     "text": [
      "\r",
      " 40%|███▉      | 53/134 [08:17<13:49, 10.24s/it]"
     ]
    },
    {
     "name": "stdout",
     "output_type": "stream",
     "text": [
      "Epoch 1/1\n",
      "813/813 [==============================] - 9s 11ms/step - loss: 0.6557\n"
     ]
    },
    {
     "name": "stderr",
     "output_type": "stream",
     "text": [
      "\r",
      " 40%|████      | 54/134 [08:28<13:44, 10.31s/it]"
     ]
    },
    {
     "name": "stdout",
     "output_type": "stream",
     "text": [
      "Epoch 1/1\n",
      "192/192 [==============================] - 9s 49ms/step - loss: 0.6333\n"
     ]
    },
    {
     "name": "stderr",
     "output_type": "stream",
     "text": [
      "\r",
      " 41%|████      | 55/134 [08:39<13:46, 10.46s/it]"
     ]
    },
    {
     "name": "stdout",
     "output_type": "stream",
     "text": [
      "Epoch 1/1\n",
      "194/194 [==============================] - 9s 48ms/step - loss: 0.6982\n"
     ]
    },
    {
     "name": "stderr",
     "output_type": "stream",
     "text": [
      "\r",
      " 42%|████▏     | 56/134 [08:49<13:41, 10.53s/it]"
     ]
    },
    {
     "name": "stdout",
     "output_type": "stream",
     "text": [
      "Epoch 1/1\n",
      "144/144 [==============================] - 9s 64ms/step - loss: 0.6367\n"
     ]
    },
    {
     "name": "stderr",
     "output_type": "stream",
     "text": [
      "\r",
      " 43%|████▎     | 57/134 [09:00<13:31, 10.54s/it]"
     ]
    },
    {
     "name": "stdout",
     "output_type": "stream",
     "text": [
      "Epoch 1/1\n",
      "244/244 [==============================] - 9s 38ms/step - loss: 0.6674\n"
     ]
    },
    {
     "name": "stderr",
     "output_type": "stream",
     "text": [
      "\r",
      " 43%|████▎     | 58/134 [09:11<13:24, 10.59s/it]"
     ]
    },
    {
     "name": "stdout",
     "output_type": "stream",
     "text": [
      "Epoch 1/1\n",
      "412/412 [==============================] - 9s 23ms/step - loss: 0.6892\n"
     ]
    },
    {
     "name": "stderr",
     "output_type": "stream",
     "text": [
      "\r",
      " 44%|████▍     | 59/134 [09:21<13:17, 10.64s/it]"
     ]
    },
    {
     "name": "stdout",
     "output_type": "stream",
     "text": [
      "Epoch 1/1\n",
      "182/182 [==============================] - 9s 51ms/step - loss: 0.6307\n"
     ]
    },
    {
     "name": "stderr",
     "output_type": "stream",
     "text": [
      "\r",
      " 45%|████▍     | 60/134 [09:32<13:07, 10.64s/it]"
     ]
    },
    {
     "name": "stdout",
     "output_type": "stream",
     "text": [
      "Epoch 1/1\n",
      "168/168 [==============================] - 10s 60ms/step - loss: 0.6975\n"
     ]
    },
    {
     "name": "stderr",
     "output_type": "stream",
     "text": [
      "\r",
      " 46%|████▌     | 61/134 [09:44<13:15, 10.90s/it]"
     ]
    },
    {
     "name": "stdout",
     "output_type": "stream",
     "text": [
      "Epoch 1/1\n",
      "238/238 [==============================] - 9s 39ms/step - loss: 0.6428\n"
     ]
    },
    {
     "name": "stderr",
     "output_type": "stream",
     "text": [
      "\r",
      " 46%|████▋     | 62/134 [09:55<13:07, 10.94s/it]"
     ]
    },
    {
     "name": "stdout",
     "output_type": "stream",
     "text": [
      "Epoch 1/1\n",
      "184/184 [==============================] - 9s 51ms/step - loss: 0.7776\n"
     ]
    },
    {
     "name": "stderr",
     "output_type": "stream",
     "text": [
      "\r",
      " 47%|████▋     | 63/134 [10:05<12:54, 10.91s/it]"
     ]
    },
    {
     "name": "stdout",
     "output_type": "stream",
     "text": [
      "Epoch 1/1\n",
      "380/380 [==============================] - 9s 25ms/step - loss: 0.6844\n"
     ]
    },
    {
     "name": "stderr",
     "output_type": "stream",
     "text": [
      "\r",
      " 48%|████▊     | 64/134 [10:16<12:43, 10.91s/it]"
     ]
    },
    {
     "name": "stdout",
     "output_type": "stream",
     "text": [
      "Epoch 1/1\n",
      "584/584 [==============================] - 9s 16ms/step - loss: 0.6866\n"
     ]
    },
    {
     "name": "stderr",
     "output_type": "stream",
     "text": [
      "\r",
      " 49%|████▊     | 65/134 [10:27<12:34, 10.93s/it]"
     ]
    },
    {
     "name": "stdout",
     "output_type": "stream",
     "text": [
      "Epoch 1/1\n",
      "148/148 [==============================] - 9s 64ms/step - loss: 0.7185\n"
     ]
    },
    {
     "name": "stderr",
     "output_type": "stream",
     "text": [
      "\r",
      " 49%|████▉     | 66/134 [10:38<12:24, 10.94s/it]"
     ]
    },
    {
     "name": "stdout",
     "output_type": "stream",
     "text": [
      "Epoch 1/1\n",
      "233/233 [==============================] - 10s 42ms/step - loss: 0.6663\n"
     ]
    },
    {
     "name": "stderr",
     "output_type": "stream",
     "text": [
      "\r",
      " 50%|█████     | 67/134 [10:50<12:17, 11.01s/it]"
     ]
    },
    {
     "name": "stdout",
     "output_type": "stream",
     "text": [
      "Epoch 1/1\n",
      "136/136 [==============================] - 9s 69ms/step - loss: 0.5445\n"
     ]
    },
    {
     "name": "stderr",
     "output_type": "stream",
     "text": [
      "\r",
      " 51%|█████     | 68/134 [11:00<12:05, 11.00s/it]"
     ]
    },
    {
     "name": "stdout",
     "output_type": "stream",
     "text": [
      "Epoch 1/1\n",
      "284/284 [==============================] - 10s 34ms/step - loss: 0.6894\n"
     ]
    },
    {
     "name": "stderr",
     "output_type": "stream",
     "text": [
      "\r",
      " 51%|█████▏    | 69/134 [11:12<11:56, 11.03s/it]"
     ]
    },
    {
     "name": "stdout",
     "output_type": "stream",
     "text": [
      "Epoch 1/1\n",
      "372/372 [==============================] - 10s 26ms/step - loss: 0.6292\n"
     ]
    },
    {
     "name": "stderr",
     "output_type": "stream",
     "text": [
      "\r",
      " 52%|█████▏    | 70/134 [11:23<11:47, 11.06s/it]"
     ]
    },
    {
     "name": "stdout",
     "output_type": "stream",
     "text": [
      "Epoch 1/1\n",
      "176/176 [==============================] - 10s 55ms/step - loss: 0.6941\n"
     ]
    },
    {
     "name": "stderr",
     "output_type": "stream",
     "text": [
      "\r",
      " 53%|█████▎    | 71/134 [11:34<11:38, 11.09s/it]"
     ]
    },
    {
     "name": "stdout",
     "output_type": "stream",
     "text": [
      "Epoch 1/1\n",
      "338/338 [==============================] - 10s 28ms/step - loss: 0.6807\n"
     ]
    },
    {
     "name": "stderr",
     "output_type": "stream",
     "text": [
      "\r",
      " 54%|█████▎    | 72/134 [11:45<11:29, 11.12s/it]"
     ]
    },
    {
     "name": "stdout",
     "output_type": "stream",
     "text": [
      "Epoch 1/1\n",
      "143/143 [==============================] - 10s 67ms/step - loss: 0.7126\n"
     ]
    },
    {
     "name": "stderr",
     "output_type": "stream",
     "text": [
      "\r",
      " 54%|█████▍    | 73/134 [11:56<11:18, 11.13s/it]"
     ]
    },
    {
     "name": "stdout",
     "output_type": "stream",
     "text": [
      "Epoch 1/1\n",
      "260/260 [==============================] - 10s 37ms/step - loss: 0.7046\n"
     ]
    },
    {
     "name": "stderr",
     "output_type": "stream",
     "text": [
      "\r",
      " 55%|█████▌    | 74/134 [12:08<11:11, 11.19s/it]"
     ]
    },
    {
     "name": "stdout",
     "output_type": "stream",
     "text": [
      "Epoch 1/1\n",
      "132/132 [==============================] - 10s 74ms/step - loss: 0.7273\n"
     ]
    },
    {
     "name": "stderr",
     "output_type": "stream",
     "text": [
      "\r",
      " 56%|█████▌    | 75/134 [12:19<11:04, 11.26s/it]"
     ]
    },
    {
     "name": "stdout",
     "output_type": "stream",
     "text": [
      "Epoch 1/1\n",
      "162/162 [==============================] - 10s 60ms/step - loss: 0.8262\n"
     ]
    },
    {
     "name": "stderr",
     "output_type": "stream",
     "text": [
      "\r",
      " 57%|█████▋    | 76/134 [12:30<10:55, 11.30s/it]"
     ]
    },
    {
     "name": "stdout",
     "output_type": "stream",
     "text": [
      "Epoch 1/1\n",
      "359/359 [==============================] - 10s 27ms/step - loss: 0.6468\n"
     ]
    },
    {
     "name": "stderr",
     "output_type": "stream",
     "text": [
      "\r",
      " 57%|█████▋    | 77/134 [12:42<10:45, 11.32s/it]"
     ]
    },
    {
     "name": "stdout",
     "output_type": "stream",
     "text": [
      "Epoch 1/1\n",
      "138/138 [==============================] - 10s 71ms/step - loss: 0.6756\n"
     ]
    },
    {
     "name": "stderr",
     "output_type": "stream",
     "text": [
      "\r",
      " 58%|█████▊    | 78/134 [12:53<10:36, 11.36s/it]"
     ]
    },
    {
     "name": "stdout",
     "output_type": "stream",
     "text": [
      "Epoch 1/1\n",
      "138/138 [==============================] - 10s 72ms/step - loss: 0.7153\n"
     ]
    },
    {
     "name": "stderr",
     "output_type": "stream",
     "text": [
      "\r",
      " 59%|█████▉    | 79/134 [13:05<10:28, 11.42s/it]"
     ]
    },
    {
     "name": "stdout",
     "output_type": "stream",
     "text": [
      "Epoch 1/1\n",
      "212/212 [==============================] - 10s 46ms/step - loss: 0.6873\n"
     ]
    },
    {
     "name": "stderr",
     "output_type": "stream",
     "text": [
      "\r",
      " 60%|█████▉    | 80/134 [13:16<10:18, 11.45s/it]"
     ]
    },
    {
     "name": "stdout",
     "output_type": "stream",
     "text": [
      "Epoch 1/1\n",
      "144/144 [==============================] - 10s 69ms/step - loss: 0.7001\n"
     ]
    },
    {
     "name": "stderr",
     "output_type": "stream",
     "text": [
      "\r",
      " 60%|██████    | 81/134 [13:28<10:10, 11.51s/it]"
     ]
    },
    {
     "name": "stdout",
     "output_type": "stream",
     "text": [
      "Epoch 1/1\n",
      "180/180 [==============================] - 10s 55ms/step - loss: 0.7424\n"
     ]
    },
    {
     "name": "stderr",
     "output_type": "stream",
     "text": [
      "\r",
      " 61%|██████    | 82/134 [13:40<10:01, 11.56s/it]"
     ]
    },
    {
     "name": "stdout",
     "output_type": "stream",
     "text": [
      "Epoch 1/1\n",
      "404/404 [==============================] - 10s 25ms/step - loss: 0.6501\n"
     ]
    },
    {
     "name": "stderr",
     "output_type": "stream",
     "text": [
      "\r",
      " 62%|██████▏   | 83/134 [13:51<09:51, 11.60s/it]"
     ]
    },
    {
     "name": "stdout",
     "output_type": "stream",
     "text": [
      "Epoch 1/1\n",
      "285/285 [==============================] - 10s 35ms/step - loss: 0.7169\n"
     ]
    },
    {
     "name": "stderr",
     "output_type": "stream",
     "text": [
      "\r",
      " 63%|██████▎   | 84/134 [14:03<09:41, 11.63s/it]"
     ]
    },
    {
     "name": "stdout",
     "output_type": "stream",
     "text": [
      "Epoch 1/1\n",
      "466/466 [==============================] - 10s 21ms/step - loss: 0.7086\n"
     ]
    },
    {
     "name": "stderr",
     "output_type": "stream",
     "text": [
      "\r",
      " 63%|██████▎   | 85/134 [14:15<09:31, 11.66s/it]"
     ]
    },
    {
     "name": "stdout",
     "output_type": "stream",
     "text": [
      "Epoch 1/1\n",
      "392/392 [==============================] - 10s 26ms/step - loss: 0.6856\n"
     ]
    },
    {
     "name": "stderr",
     "output_type": "stream",
     "text": [
      "\r",
      " 64%|██████▍   | 86/134 [14:27<09:22, 11.71s/it]"
     ]
    },
    {
     "name": "stdout",
     "output_type": "stream",
     "text": [
      "Epoch 1/1\n",
      "233/233 [==============================] - 10s 43ms/step - loss: 0.6728\n"
     ]
    },
    {
     "name": "stderr",
     "output_type": "stream",
     "text": [
      "\r",
      " 65%|██████▍   | 87/134 [14:38<09:11, 11.73s/it]"
     ]
    },
    {
     "name": "stdout",
     "output_type": "stream",
     "text": [
      "Epoch 1/1\n",
      "286/286 [==============================] - 11s 38ms/step - loss: 0.6641\n"
     ]
    },
    {
     "name": "stderr",
     "output_type": "stream",
     "text": [
      "\r",
      " 66%|██████▌   | 88/134 [14:51<09:11, 11.99s/it]"
     ]
    },
    {
     "name": "stdout",
     "output_type": "stream",
     "text": [
      "Epoch 1/1\n",
      "616/616 [==============================] - 10s 17ms/step - loss: 0.6516\n"
     ]
    },
    {
     "name": "stderr",
     "output_type": "stream",
     "text": [
      "\r",
      " 66%|██████▋   | 89/134 [15:03<08:59, 11.99s/it]"
     ]
    },
    {
     "name": "stdout",
     "output_type": "stream",
     "text": [
      "Epoch 1/1\n",
      "147/147 [==============================] - 10s 69ms/step - loss: 0.6786\n"
     ]
    },
    {
     "name": "stderr",
     "output_type": "stream",
     "text": [
      "\r",
      " 67%|██████▋   | 90/134 [15:15<08:47, 11.99s/it]"
     ]
    },
    {
     "name": "stdout",
     "output_type": "stream",
     "text": [
      "Epoch 1/1\n",
      "321/321 [==============================] - 10s 32ms/step - loss: 0.5603\n"
     ]
    },
    {
     "name": "stderr",
     "output_type": "stream",
     "text": [
      "\r",
      " 68%|██████▊   | 91/134 [15:27<08:36, 12.00s/it]"
     ]
    },
    {
     "name": "stdout",
     "output_type": "stream",
     "text": [
      "Epoch 1/1\n",
      "274/274 [==============================] - 10s 37ms/step - loss: 0.6656\n"
     ]
    },
    {
     "name": "stderr",
     "output_type": "stream",
     "text": [
      "\r",
      " 69%|██████▊   | 92/134 [15:39<08:24, 12.01s/it]"
     ]
    },
    {
     "name": "stdout",
     "output_type": "stream",
     "text": [
      "Epoch 1/1\n",
      "132/132 [==============================] - 10s 77ms/step - loss: 0.6920\n"
     ]
    },
    {
     "name": "stderr",
     "output_type": "stream",
     "text": [
      "\r",
      " 69%|██████▉   | 93/134 [15:51<08:11, 12.00s/it]"
     ]
    },
    {
     "name": "stdout",
     "output_type": "stream",
     "text": [
      "Epoch 1/1\n",
      "169/169 [==============================] - 10s 62ms/step - loss: 0.6944\n"
     ]
    },
    {
     "name": "stderr",
     "output_type": "stream",
     "text": [
      "\r",
      " 70%|███████   | 94/134 [16:03<08:06, 12.16s/it]"
     ]
    },
    {
     "name": "stdout",
     "output_type": "stream",
     "text": [
      "Epoch 1/1\n",
      "159/159 [==============================] - 10s 64ms/step - loss: 0.6260\n"
     ]
    },
    {
     "name": "stderr",
     "output_type": "stream",
     "text": [
      "\r",
      " 71%|███████   | 95/134 [16:16<07:52, 12.13s/it]"
     ]
    },
    {
     "name": "stdout",
     "output_type": "stream",
     "text": [
      "Epoch 1/1\n",
      "160/160 [==============================] - 10s 63ms/step - loss: 0.7127\n"
     ]
    },
    {
     "name": "stderr",
     "output_type": "stream",
     "text": [
      "\r",
      " 72%|███████▏  | 96/134 [16:28<07:38, 12.08s/it]"
     ]
    },
    {
     "name": "stdout",
     "output_type": "stream",
     "text": [
      "Epoch 1/1\n",
      "404/404 [==============================] - 10s 25ms/step - loss: 0.7063\n"
     ]
    },
    {
     "name": "stderr",
     "output_type": "stream",
     "text": [
      "\r",
      " 72%|███████▏  | 97/134 [16:40<07:26, 12.08s/it]"
     ]
    },
    {
     "name": "stdout",
     "output_type": "stream",
     "text": [
      "Epoch 1/1\n",
      "251/251 [==============================] - 10s 41ms/step - loss: 0.6882\n"
     ]
    },
    {
     "name": "stderr",
     "output_type": "stream",
     "text": [
      "\r",
      " 73%|███████▎  | 98/134 [16:52<07:15, 12.11s/it]"
     ]
    },
    {
     "name": "stdout",
     "output_type": "stream",
     "text": [
      "Epoch 1/1\n",
      "168/168 [==============================] - 10s 61ms/step - loss: 0.5901\n"
     ]
    },
    {
     "name": "stderr",
     "output_type": "stream",
     "text": [
      "\r",
      " 74%|███████▍  | 99/134 [17:04<07:02, 12.07s/it]"
     ]
    },
    {
     "name": "stdout",
     "output_type": "stream",
     "text": [
      "Epoch 1/1\n",
      "136/136 [==============================] - 10s 77ms/step - loss: 0.7160\n"
     ]
    },
    {
     "name": "stderr",
     "output_type": "stream",
     "text": [
      "\r",
      " 75%|███████▍  | 100/134 [17:16<06:52, 12.13s/it]"
     ]
    },
    {
     "name": "stdout",
     "output_type": "stream",
     "text": [
      "Epoch 1/1\n",
      "192/192 [==============================] - 10s 53ms/step - loss: 0.6371\n"
     ]
    },
    {
     "name": "stderr",
     "output_type": "stream",
     "text": [
      "\r",
      " 75%|███████▌  | 101/134 [17:28<06:39, 12.10s/it]"
     ]
    },
    {
     "name": "stdout",
     "output_type": "stream",
     "text": [
      "Epoch 1/1\n",
      "200/200 [==============================] - 10s 52ms/step - loss: 0.7254\n"
     ]
    },
    {
     "name": "stderr",
     "output_type": "stream",
     "text": [
      "\r",
      " 76%|███████▌  | 102/134 [17:40<06:29, 12.16s/it]"
     ]
    },
    {
     "name": "stdout",
     "output_type": "stream",
     "text": [
      "Epoch 1/1\n",
      "260/260 [==============================] - 10s 40ms/step - loss: 0.7573\n"
     ]
    },
    {
     "name": "stderr",
     "output_type": "stream",
     "text": [
      "\r",
      " 77%|███████▋  | 103/134 [17:53<06:17, 12.18s/it]"
     ]
    },
    {
     "name": "stdout",
     "output_type": "stream",
     "text": [
      "Epoch 1/1\n",
      "205/205 [==============================] - 10s 51ms/step - loss: 0.7367\n"
     ]
    },
    {
     "name": "stderr",
     "output_type": "stream",
     "text": [
      "\r",
      " 78%|███████▊  | 104/134 [18:05<06:08, 12.27s/it]"
     ]
    },
    {
     "name": "stdout",
     "output_type": "stream",
     "text": [
      "Epoch 1/1\n",
      "421/421 [==============================] - 10s 25ms/step - loss: 0.6961\n"
     ]
    },
    {
     "name": "stderr",
     "output_type": "stream",
     "text": [
      "\r",
      " 78%|███████▊  | 105/134 [18:17<05:55, 12.27s/it]"
     ]
    },
    {
     "name": "stdout",
     "output_type": "stream",
     "text": [
      "Epoch 1/1\n",
      "421/421 [==============================] - 11s 25ms/step - loss: 0.6797\n"
     ]
    },
    {
     "name": "stderr",
     "output_type": "stream",
     "text": [
      "\r",
      " 79%|███████▉  | 106/134 [18:30<05:45, 12.34s/it]"
     ]
    },
    {
     "name": "stdout",
     "output_type": "stream",
     "text": [
      "Epoch 1/1\n",
      "640/640 [==============================] - 11s 17ms/step - loss: 0.5346\n"
     ]
    },
    {
     "name": "stderr",
     "output_type": "stream",
     "text": [
      "\r",
      " 80%|███████▉  | 107/134 [18:43<05:39, 12.56s/it]"
     ]
    },
    {
     "name": "stdout",
     "output_type": "stream",
     "text": [
      "Epoch 1/1\n",
      "143/143 [==============================] - 11s 78ms/step - loss: 0.7554\n"
     ]
    },
    {
     "name": "stderr",
     "output_type": "stream",
     "text": [
      "\r",
      " 81%|████████  | 108/134 [18:56<05:31, 12.76s/it]"
     ]
    },
    {
     "name": "stdout",
     "output_type": "stream",
     "text": [
      "Epoch 1/1\n",
      "335/335 [==============================] - 11s 32ms/step - loss: 0.6961\n"
     ]
    },
    {
     "name": "stderr",
     "output_type": "stream",
     "text": [
      "\r",
      " 81%|████████▏ | 109/134 [19:09<05:19, 12.76s/it]"
     ]
    },
    {
     "name": "stdout",
     "output_type": "stream",
     "text": [
      "Epoch 1/1\n",
      "325/325 [==============================] - 13s 40ms/step - loss: 0.6771\n"
     ]
    },
    {
     "name": "stderr",
     "output_type": "stream",
     "text": [
      "\r",
      " 82%|████████▏ | 110/134 [19:24<05:21, 13.39s/it]"
     ]
    },
    {
     "name": "stdout",
     "output_type": "stream",
     "text": [
      "Epoch 1/1\n",
      "261/261 [==============================] - 12s 44ms/step - loss: 0.7768\n"
     ]
    },
    {
     "name": "stderr",
     "output_type": "stream",
     "text": [
      "\r",
      " 83%|████████▎ | 111/134 [19:38<05:12, 13.57s/it]"
     ]
    },
    {
     "name": "stdout",
     "output_type": "stream",
     "text": [
      "Epoch 1/1\n",
      "180/180 [==============================] - 13s 71ms/step - loss: 0.7178\n"
     ]
    },
    {
     "name": "stderr",
     "output_type": "stream",
     "text": [
      "\r",
      " 84%|████████▎ | 112/134 [19:53<05:06, 13.93s/it]"
     ]
    },
    {
     "name": "stdout",
     "output_type": "stream",
     "text": [
      "Epoch 1/1\n",
      "200/200 [==============================] - 11s 55ms/step - loss: 0.6947\n"
     ]
    },
    {
     "name": "stderr",
     "output_type": "stream",
     "text": [
      "\r",
      " 84%|████████▍ | 113/134 [20:06<04:48, 13.74s/it]"
     ]
    },
    {
     "name": "stdout",
     "output_type": "stream",
     "text": [
      "Epoch 1/1\n",
      "498/498 [==============================] - 11s 22ms/step - loss: 0.6138\n"
     ]
    },
    {
     "name": "stderr",
     "output_type": "stream",
     "text": [
      "\r",
      " 85%|████████▌ | 114/134 [20:19<04:32, 13.60s/it]"
     ]
    },
    {
     "name": "stdout",
     "output_type": "stream",
     "text": [
      "Epoch 1/1\n",
      "508/508 [==============================] - 11s 22ms/step - loss: 0.7082\n"
     ]
    },
    {
     "name": "stderr",
     "output_type": "stream",
     "text": [
      "\r",
      " 86%|████████▌ | 115/134 [20:32<04:17, 13.53s/it]"
     ]
    },
    {
     "name": "stdout",
     "output_type": "stream",
     "text": [
      "Epoch 1/1\n",
      "219/219 [==============================] - 11s 51ms/step - loss: 0.7476\n"
     ]
    },
    {
     "name": "stderr",
     "output_type": "stream",
     "text": [
      "\r",
      " 87%|████████▋ | 116/134 [20:46<04:02, 13.46s/it]"
     ]
    },
    {
     "name": "stdout",
     "output_type": "stream",
     "text": [
      "Epoch 1/1\n",
      "188/188 [==============================] - 11s 59ms/step - loss: 0.6610\n"
     ]
    },
    {
     "name": "stderr",
     "output_type": "stream",
     "text": [
      "\r",
      " 87%|████████▋ | 117/134 [20:59<03:47, 13.38s/it]"
     ]
    },
    {
     "name": "stdout",
     "output_type": "stream",
     "text": [
      "Epoch 1/1\n",
      "516/516 [==============================] - 11s 22ms/step - loss: 0.7041\n"
     ]
    },
    {
     "name": "stderr",
     "output_type": "stream",
     "text": [
      "\r",
      " 88%|████████▊ | 118/134 [21:14<03:41, 13.82s/it]"
     ]
    },
    {
     "name": "stdout",
     "output_type": "stream",
     "text": [
      "Epoch 1/1\n",
      "194/194 [==============================] - 11s 58ms/step - loss: 0.7066\n"
     ]
    },
    {
     "name": "stderr",
     "output_type": "stream",
     "text": [
      "\r",
      " 89%|████████▉ | 119/134 [21:27<03:25, 13.71s/it]"
     ]
    },
    {
     "name": "stdout",
     "output_type": "stream",
     "text": [
      "Epoch 1/1\n",
      "308/308 [==============================] - 11s 37ms/step - loss: 0.6998\n"
     ]
    },
    {
     "name": "stderr",
     "output_type": "stream",
     "text": [
      "\r",
      " 90%|████████▉ | 120/134 [21:41<03:10, 13.63s/it]"
     ]
    },
    {
     "name": "stdout",
     "output_type": "stream",
     "text": [
      "Epoch 1/1\n",
      "308/308 [==============================] - 11s 36ms/step - loss: 0.7052\n"
     ]
    },
    {
     "name": "stderr",
     "output_type": "stream",
     "text": [
      "\r",
      " 90%|█████████ | 121/134 [21:54<02:56, 13.54s/it]"
     ]
    },
    {
     "name": "stdout",
     "output_type": "stream",
     "text": [
      "Epoch 1/1\n",
      "360/360 [==============================] - 11s 31ms/step - loss: 0.6352\n"
     ]
    },
    {
     "name": "stderr",
     "output_type": "stream",
     "text": [
      "\r",
      " 91%|█████████ | 122/134 [22:08<02:42, 13.54s/it]"
     ]
    },
    {
     "name": "stdout",
     "output_type": "stream",
     "text": [
      "Epoch 1/1\n",
      "457/457 [==============================] - 11s 25ms/step - loss: 0.7416\n"
     ]
    },
    {
     "name": "stderr",
     "output_type": "stream",
     "text": [
      "\r",
      " 92%|█████████▏| 123/134 [22:21<02:28, 13.53s/it]"
     ]
    },
    {
     "name": "stdout",
     "output_type": "stream",
     "text": [
      "Epoch 1/1\n",
      "236/236 [==============================] - 11s 48ms/step - loss: 0.6861\n"
     ]
    },
    {
     "name": "stderr",
     "output_type": "stream",
     "text": [
      "\r",
      " 93%|█████████▎| 124/134 [22:35<02:15, 13.58s/it]"
     ]
    },
    {
     "name": "stdout",
     "output_type": "stream",
     "text": [
      "Epoch 1/1\n",
      "164/164 [==============================] - 11s 69ms/step - loss: 0.6044\n"
     ]
    },
    {
     "name": "stderr",
     "output_type": "stream",
     "text": [
      "\r",
      " 93%|█████████▎| 125/134 [22:48<02:02, 13.60s/it]"
     ]
    },
    {
     "name": "stdout",
     "output_type": "stream",
     "text": [
      "Epoch 1/1\n",
      "266/266 [==============================] - 11s 42ms/step - loss: 0.6881\n"
     ]
    },
    {
     "name": "stderr",
     "output_type": "stream",
     "text": [
      "\r",
      " 94%|█████████▍| 126/134 [23:02<01:48, 13.58s/it]"
     ]
    },
    {
     "name": "stdout",
     "output_type": "stream",
     "text": [
      "Epoch 1/1\n",
      "297/297 [==============================] - 11s 39ms/step - loss: 0.5657\n"
     ]
    },
    {
     "name": "stderr",
     "output_type": "stream",
     "text": [
      "\r",
      " 95%|█████████▍| 127/134 [23:16<01:35, 13.64s/it]"
     ]
    },
    {
     "name": "stdout",
     "output_type": "stream",
     "text": [
      "Epoch 1/1\n",
      "319/319 [==============================] - 11s 36ms/step - loss: 0.7117\n"
     ]
    },
    {
     "name": "stderr",
     "output_type": "stream",
     "text": [
      "\r",
      " 96%|█████████▌| 128/134 [23:29<01:21, 13.64s/it]"
     ]
    },
    {
     "name": "stdout",
     "output_type": "stream",
     "text": [
      "Epoch 1/1\n",
      "174/174 [==============================] - 12s 68ms/step - loss: 0.6602\n"
     ]
    },
    {
     "name": "stderr",
     "output_type": "stream",
     "text": [
      "\r",
      " 96%|█████████▋| 129/134 [23:44<01:08, 13.79s/it]"
     ]
    },
    {
     "name": "stdout",
     "output_type": "stream",
     "text": [
      "Epoch 1/1\n",
      "236/236 [==============================] - 12s 49ms/step - loss: 0.7058\n"
     ]
    },
    {
     "name": "stderr",
     "output_type": "stream",
     "text": [
      "\r",
      " 97%|█████████▋| 130/134 [23:57<00:55, 13.82s/it]"
     ]
    },
    {
     "name": "stdout",
     "output_type": "stream",
     "text": [
      "Epoch 1/1\n",
      "166/166 [==============================] - 11s 69ms/step - loss: 0.6591\n"
     ]
    },
    {
     "name": "stderr",
     "output_type": "stream",
     "text": [
      "\r",
      " 98%|█████████▊| 131/134 [24:11<00:41, 13.82s/it]"
     ]
    },
    {
     "name": "stdout",
     "output_type": "stream",
     "text": [
      "Epoch 1/1\n",
      "195/195 [==============================] - 12s 60ms/step - loss: 0.7023\n"
     ]
    },
    {
     "name": "stderr",
     "output_type": "stream",
     "text": [
      "\r",
      " 99%|█████████▊| 132/134 [24:25<00:27, 13.88s/it]"
     ]
    },
    {
     "name": "stdout",
     "output_type": "stream",
     "text": [
      "Epoch 1/1\n",
      "158/158 [==============================] - 12s 74ms/step - loss: 0.7022\n"
     ]
    },
    {
     "name": "stderr",
     "output_type": "stream",
     "text": [
      "\r",
      " 99%|█████████▉| 133/134 [24:39<00:13, 13.93s/it]"
     ]
    },
    {
     "name": "stdout",
     "output_type": "stream",
     "text": [
      "Epoch 1/1\n",
      "54/54 [==============================] - 12s 220ms/step - loss: 0.5950\n"
     ]
    },
    {
     "name": "stderr",
     "output_type": "stream",
     "text": [
      "100%|██████████| 134/134 [24:54<00:00, 11.15s/it]\n",
      "  0%|          | 0/134 [00:00<?, ?it/s]"
     ]
    },
    {
     "name": "stdout",
     "output_type": "stream",
     "text": [
      "Epoch  1\n",
      "Epoch 1/1\n",
      "141/141 [==============================] - 0s 213us/step - loss: 0.6842\n",
      "Epoch 1/1\n",
      "141/141 [==============================] - 0s 212us/step - loss: 0.6595\n",
      "Epoch 1/1\n",
      "136/136 [==============================] - 0s 212us/step - loss: 0.6985\n",
      "Epoch 1/1\n",
      "136/136 [==============================] - 0s 220us/step - loss: 0.6906\n"
     ]
    },
    {
     "name": "stderr",
     "output_type": "stream",
     "text": [
      "\r",
      "  3%|▎         | 4/134 [00:00<00:04, 31.64it/s]"
     ]
    },
    {
     "name": "stdout",
     "output_type": "stream",
     "text": [
      "Epoch 1/1\n",
      "244/244 [==============================] - 0s 194us/step - loss: 0.7023\n",
      "Epoch 1/1\n",
      "141/141 [==============================] - 0s 201us/step - loss: 0.7089\n",
      "Epoch 1/1\n",
      "141/141 [==============================] - 0s 215us/step - loss: 0.7406\n"
     ]
    },
    {
     "name": "stderr",
     "output_type": "stream",
     "text": [
      "\r",
      "  5%|▌         | 7/134 [00:00<00:04, 30.19it/s]"
     ]
    },
    {
     "name": "stdout",
     "output_type": "stream",
     "text": [
      "Epoch 1/1\n",
      "141/141 [==============================] - 0s 219us/step - loss: 0.6906\n",
      "Epoch 1/1\n",
      "141/141 [==============================] - 0s 207us/step - loss: 0.7220\n",
      "Epoch 1/1\n",
      "333/333 [==============================] - 0s 195us/step - loss: 0.6902\n"
     ]
    },
    {
     "name": "stderr",
     "output_type": "stream",
     "text": [
      "\r",
      "  7%|▋         | 10/134 [00:00<00:04, 27.70it/s]"
     ]
    },
    {
     "name": "stdout",
     "output_type": "stream",
     "text": [
      "Epoch 1/1\n",
      "270/270 [==============================] - 0s 192us/step - loss: 0.5605\n",
      "Epoch 1/1\n",
      "367/367 [==============================] - 0s 188us/step - loss: 0.6018\n"
     ]
    },
    {
     "name": "stderr",
     "output_type": "stream",
     "text": [
      "\r",
      "  9%|▉         | 12/134 [00:00<00:05, 22.81it/s]"
     ]
    },
    {
     "name": "stdout",
     "output_type": "stream",
     "text": [
      "Epoch 1/1\n",
      "166/166 [==============================] - 0s 214us/step - loss: 0.6875\n",
      "Epoch 1/1\n",
      "166/166 [==============================] - 0s 221us/step - loss: 0.6837\n",
      "Epoch 1/1\n",
      "166/166 [==============================] - 0s 204us/step - loss: 0.6890\n"
     ]
    },
    {
     "name": "stderr",
     "output_type": "stream",
     "text": [
      "\r",
      " 11%|█         | 15/134 [00:00<00:04, 23.99it/s]"
     ]
    },
    {
     "name": "stdout",
     "output_type": "stream",
     "text": [
      "Epoch 1/1\n",
      "137/137 [==============================] - 0s 223us/step - loss: 0.7160\n",
      "Epoch 1/1\n",
      "167/167 [==============================] - 0s 208us/step - loss: 0.7565\n",
      "Epoch 1/1\n",
      "507/507 [==============================] - 0s 180us/step - loss: 0.6790\n"
     ]
    },
    {
     "name": "stderr",
     "output_type": "stream",
     "text": [
      "\r",
      " 13%|█▎        | 18/134 [00:00<00:05, 22.11it/s]"
     ]
    },
    {
     "name": "stdout",
     "output_type": "stream",
     "text": [
      "Epoch 1/1\n",
      "276/276 [==============================] - 0s 183us/step - loss: 0.5947\n",
      "Epoch 1/1\n",
      "290/290 [==============================] - 0s 196us/step - loss: 0.6336\n"
     ]
    },
    {
     "name": "stderr",
     "output_type": "stream",
     "text": [
      "\r",
      " 15%|█▍        | 20/134 [00:00<00:05, 20.73it/s]"
     ]
    },
    {
     "name": "stdout",
     "output_type": "stream",
     "text": [
      "Epoch 1/1\n",
      "206/206 [==============================] - 0s 201us/step - loss: 0.6317\n",
      "Epoch 1/1\n",
      "254/254 [==============================] - 0s 182us/step - loss: 0.6782\n",
      "Epoch 1/1\n",
      "129/129 [==============================] - 0s 235us/step - loss: 0.6557\n"
     ]
    },
    {
     "name": "stderr",
     "output_type": "stream",
     "text": [
      "\r",
      " 17%|█▋        | 23/134 [00:00<00:05, 21.76it/s]"
     ]
    },
    {
     "name": "stdout",
     "output_type": "stream",
     "text": [
      "Epoch 1/1\n",
      "166/166 [==============================] - 0s 215us/step - loss: 0.7249\n",
      "Epoch 1/1\n",
      "146/146 [==============================] - 0s 215us/step - loss: 0.6740\n",
      "Epoch 1/1\n",
      "533/533 [==============================] - 0s 185us/step - loss: 0.5545\n"
     ]
    },
    {
     "name": "stderr",
     "output_type": "stream",
     "text": [
      "\r",
      " 19%|█▉        | 26/134 [00:01<00:05, 20.29it/s]"
     ]
    },
    {
     "name": "stdout",
     "output_type": "stream",
     "text": [
      "Epoch 1/1\n",
      "298/298 [==============================] - 0s 193us/step - loss: 0.7075\n",
      "Epoch 1/1\n",
      "175/175 [==============================] - 0s 204us/step - loss: 0.7190\n",
      "Epoch 1/1\n",
      "144/144 [==============================] - 0s 217us/step - loss: 0.6832\n"
     ]
    },
    {
     "name": "stderr",
     "output_type": "stream",
     "text": [
      "\r",
      " 22%|██▏       | 29/134 [00:01<00:04, 21.13it/s]"
     ]
    },
    {
     "name": "stdout",
     "output_type": "stream",
     "text": [
      "Epoch 1/1\n",
      "146/146 [==============================] - 0s 224us/step - loss: 0.6740\n",
      "Epoch 1/1\n",
      "408/408 [==============================] - 0s 187us/step - loss: 0.6840\n",
      "Epoch 1/1\n",
      "392/392 [==============================] - 0s 197us/step - loss: 0.7142\n"
     ]
    },
    {
     "name": "stderr",
     "output_type": "stream",
     "text": [
      "\r",
      " 24%|██▍       | 32/134 [00:01<00:05, 19.17it/s]"
     ]
    },
    {
     "name": "stdout",
     "output_type": "stream",
     "text": [
      "Epoch 1/1\n",
      "252/252 [==============================] - 0s 194us/step - loss: 0.6822\n",
      "Epoch 1/1\n",
      "148/148 [==============================] - 0s 190us/step - loss: 0.7188\n",
      "Epoch 1/1\n",
      "471/471 [==============================] - 0s 182us/step - loss: 0.6379\n"
     ]
    },
    {
     "name": "stderr",
     "output_type": "stream",
     "text": [
      "\r",
      " 26%|██▌       | 35/134 [00:01<00:05, 18.78it/s]"
     ]
    },
    {
     "name": "stdout",
     "output_type": "stream",
     "text": [
      "Epoch 1/1\n",
      "476/476 [==============================] - 0s 183us/step - loss: 0.5824\n",
      "Epoch 1/1\n",
      "231/231 [==============================] - 0s 206us/step - loss: 0.6541\n"
     ]
    },
    {
     "name": "stderr",
     "output_type": "stream",
     "text": [
      "\r",
      " 28%|██▊       | 37/134 [00:01<00:05, 17.27it/s]"
     ]
    },
    {
     "name": "stdout",
     "output_type": "stream",
     "text": [
      "Epoch 1/1\n",
      "600/600 [==============================] - 0s 181us/step - loss: 0.5550\n",
      "Epoch 1/1\n",
      "288/288 [==============================] - 0s 182us/step - loss: 0.6942\n"
     ]
    },
    {
     "name": "stderr",
     "output_type": "stream",
     "text": [
      "\r",
      " 29%|██▉       | 39/134 [00:01<00:06, 15.35it/s]"
     ]
    },
    {
     "name": "stdout",
     "output_type": "stream",
     "text": [
      "Epoch 1/1\n",
      "240/240 [==============================] - 0s 197us/step - loss: 0.6686\n",
      "Epoch 1/1\n",
      "261/261 [==============================] - 0s 196us/step - loss: 0.6626\n"
     ]
    },
    {
     "name": "stderr",
     "output_type": "stream",
     "text": [
      "\r",
      " 31%|███       | 41/134 [00:02<00:05, 16.46it/s]"
     ]
    },
    {
     "name": "stdout",
     "output_type": "stream",
     "text": [
      "Epoch 1/1\n",
      "544/544 [==============================] - 0s 179us/step - loss: 0.6823\n",
      "Epoch 1/1\n",
      "266/266 [==============================] - 0s 194us/step - loss: 0.6800\n"
     ]
    },
    {
     "name": "stderr",
     "output_type": "stream",
     "text": [
      "\r",
      " 32%|███▏      | 43/134 [00:02<00:05, 15.32it/s]"
     ]
    },
    {
     "name": "stdout",
     "output_type": "stream",
     "text": [
      "Epoch 1/1\n",
      "132/132 [==============================] - 0s 229us/step - loss: 0.6819\n",
      "Epoch 1/1\n",
      "303/303 [==============================] - 0s 189us/step - loss: 0.6866\n",
      "Epoch 1/1\n",
      "303/303 [==============================] - 0s 186us/step - loss: 0.5887\n"
     ]
    },
    {
     "name": "stderr",
     "output_type": "stream",
     "text": [
      "\r",
      " 34%|███▍      | 46/134 [00:02<00:05, 16.54it/s]"
     ]
    },
    {
     "name": "stdout",
     "output_type": "stream",
     "text": [
      "Epoch 1/1\n",
      "372/372 [==============================] - 0s 185us/step - loss: 0.6780\n",
      "Epoch 1/1\n",
      "606/606 [==============================] - 0s 180us/step - loss: 0.6621\n"
     ]
    },
    {
     "name": "stderr",
     "output_type": "stream",
     "text": [
      "\r",
      " 36%|███▌      | 48/134 [00:02<00:05, 14.42it/s]"
     ]
    },
    {
     "name": "stdout",
     "output_type": "stream",
     "text": [
      "Epoch 1/1\n",
      "388/388 [==============================] - 0s 194us/step - loss: 0.6455\n",
      "Epoch 1/1\n",
      "160/160 [==============================] - 0s 188us/step - loss: 0.6942\n"
     ]
    },
    {
     "name": "stderr",
     "output_type": "stream",
     "text": [
      "\r",
      " 37%|███▋      | 50/134 [00:02<00:05, 15.43it/s]"
     ]
    },
    {
     "name": "stdout",
     "output_type": "stream",
     "text": [
      "Epoch 1/1\n",
      "368/368 [==============================] - 0s 188us/step - loss: 0.6708\n",
      "Epoch 1/1\n",
      "229/229 [==============================] - 0s 200us/step - loss: 0.7037\n"
     ]
    },
    {
     "name": "stderr",
     "output_type": "stream",
     "text": [
      "\r",
      " 39%|███▉      | 52/134 [00:02<00:05, 15.87it/s]"
     ]
    },
    {
     "name": "stdout",
     "output_type": "stream",
     "text": [
      "Epoch 1/1\n",
      "144/144 [==============================] - 0s 206us/step - loss: 0.6050\n",
      "Epoch 1/1\n",
      "813/813 [==============================] - 0s 182us/step - loss: 0.6469\n"
     ]
    },
    {
     "name": "stderr",
     "output_type": "stream",
     "text": [
      "\r",
      " 40%|████      | 54/134 [00:02<00:05, 14.06it/s]"
     ]
    },
    {
     "name": "stdout",
     "output_type": "stream",
     "text": [
      "Epoch 1/1\n",
      "192/192 [==============================] - 0s 194us/step - loss: 0.6125\n",
      "Epoch 1/1\n",
      "194/194 [==============================] - 0s 212us/step - loss: 0.6960\n",
      "Epoch 1/1\n",
      "144/144 [==============================] - 0s 204us/step - loss: 0.6029\n"
     ]
    },
    {
     "name": "stderr",
     "output_type": "stream",
     "text": [
      "\r",
      " 43%|████▎     | 57/134 [00:03<00:04, 16.41it/s]"
     ]
    },
    {
     "name": "stdout",
     "output_type": "stream",
     "text": [
      "Epoch 1/1\n",
      "244/244 [==============================] - 0s 193us/step - loss: 0.6679\n",
      "Epoch 1/1\n",
      "412/412 [==============================] - 0s 182us/step - loss: 0.6870\n"
     ]
    },
    {
     "name": "stderr",
     "output_type": "stream",
     "text": [
      "\r",
      " 44%|████▍     | 59/134 [00:03<00:04, 16.28it/s]"
     ]
    },
    {
     "name": "stdout",
     "output_type": "stream",
     "text": [
      "Epoch 1/1\n",
      "182/182 [==============================] - 0s 194us/step - loss: 0.6321\n",
      "Epoch 1/1\n",
      "168/168 [==============================] - 0s 214us/step - loss: 0.6884\n",
      "Epoch 1/1\n",
      "238/238 [==============================] - 0s 192us/step - loss: 0.6164\n"
     ]
    },
    {
     "name": "stderr",
     "output_type": "stream",
     "text": [
      "\r",
      " 46%|████▋     | 62/134 [00:03<00:03, 18.16it/s]"
     ]
    },
    {
     "name": "stdout",
     "output_type": "stream",
     "text": [
      "Epoch 1/1\n",
      "184/184 [==============================] - 0s 196us/step - loss: 0.7606\n",
      "Epoch 1/1\n",
      "380/380 [==============================] - 0s 183us/step - loss: 0.6841\n"
     ]
    },
    {
     "name": "stderr",
     "output_type": "stream",
     "text": [
      "\r",
      " 48%|████▊     | 64/134 [00:03<00:03, 18.23it/s]"
     ]
    },
    {
     "name": "stdout",
     "output_type": "stream",
     "text": [
      "Epoch 1/1\n",
      "584/584 [==============================] - 0s 186us/step - loss: 0.6741\n",
      "Epoch 1/1\n",
      "148/148 [==============================] - 0s 206us/step - loss: 0.6869\n"
     ]
    },
    {
     "name": "stderr",
     "output_type": "stream",
     "text": [
      "\r",
      " 49%|████▉     | 66/134 [00:03<00:04, 16.75it/s]"
     ]
    },
    {
     "name": "stdout",
     "output_type": "stream",
     "text": [
      "Epoch 1/1\n",
      "233/233 [==============================] - 0s 204us/step - loss: 0.5807\n",
      "Epoch 1/1\n",
      "136/136 [==============================] - 0s 212us/step - loss: 0.5188\n",
      "Epoch 1/1\n",
      "284/284 [==============================] - 0s 184us/step - loss: 0.6410\n"
     ]
    },
    {
     "name": "stderr",
     "output_type": "stream",
     "text": [
      "\r",
      " 51%|█████▏    | 69/134 [00:03<00:03, 18.17it/s]"
     ]
    },
    {
     "name": "stdout",
     "output_type": "stream",
     "text": [
      "Epoch 1/1\n",
      "372/372 [==============================] - 0s 186us/step - loss: 0.6135\n",
      "Epoch 1/1\n",
      "176/176 [==============================] - 0s 200us/step - loss: 0.6834\n"
     ]
    },
    {
     "name": "stderr",
     "output_type": "stream",
     "text": [
      "\r",
      " 53%|█████▎    | 71/134 [00:03<00:03, 18.31it/s]"
     ]
    },
    {
     "name": "stdout",
     "output_type": "stream",
     "text": [
      "Epoch 1/1\n",
      "338/338 [==============================] - 0s 189us/step - loss: 0.6570\n",
      "Epoch 1/1\n",
      "143/143 [==============================] - 0s 204us/step - loss: 0.6828\n",
      "Epoch 1/1\n",
      "260/260 [==============================] - 0s 204us/step - loss: 0.6456\n"
     ]
    },
    {
     "name": "stderr",
     "output_type": "stream",
     "text": [
      "\r",
      " 55%|█████▌    | 74/134 [00:03<00:03, 18.80it/s]"
     ]
    },
    {
     "name": "stdout",
     "output_type": "stream",
     "text": [
      "Epoch 1/1\n",
      "132/132 [==============================] - 0s 235us/step - loss: 0.6794\n",
      "Epoch 1/1\n",
      "162/162 [==============================] - 0s 216us/step - loss: 0.7155\n",
      "Epoch 1/1\n",
      "359/359 [==============================] - 0s 199us/step - loss: 0.6104\n"
     ]
    },
    {
     "name": "stderr",
     "output_type": "stream",
     "text": [
      "\r",
      " 57%|█████▋    | 77/134 [00:04<00:02, 19.48it/s]"
     ]
    },
    {
     "name": "stdout",
     "output_type": "stream",
     "text": [
      "Epoch 1/1\n",
      "138/138 [==============================] - 0s 221us/step - loss: 0.6640\n",
      "Epoch 1/1\n",
      "138/138 [==============================] - 0s 217us/step - loss: 0.7101\n",
      "Epoch 1/1\n",
      "212/212 [==============================] - 0s 196us/step - loss: 0.6544\n"
     ]
    },
    {
     "name": "stderr",
     "output_type": "stream",
     "text": [
      "\r",
      " 60%|█████▉    | 80/134 [00:04<00:02, 21.49it/s]"
     ]
    },
    {
     "name": "stdout",
     "output_type": "stream",
     "text": [
      "Epoch 1/1\n",
      "144/144 [==============================] - 0s 208us/step - loss: 0.6988\n",
      "Epoch 1/1\n",
      "180/180 [==============================] - 0s 195us/step - loss: 0.7254\n",
      "Epoch 1/1\n",
      "404/404 [==============================] - 0s 183us/step - loss: 0.6074\n"
     ]
    },
    {
     "name": "stderr",
     "output_type": "stream",
     "text": [
      "\r",
      " 62%|██████▏   | 83/134 [00:04<00:02, 21.31it/s]"
     ]
    },
    {
     "name": "stdout",
     "output_type": "stream",
     "text": [
      "Epoch 1/1\n",
      "285/285 [==============================] - 0s 185us/step - loss: 0.6755\n",
      "Epoch 1/1\n",
      "466/466 [==============================] - 0s 182us/step - loss: 0.7006\n",
      "Epoch 1/1\n",
      "392/392 [==============================] - 0s 190us/step - loss: 0.6777\n"
     ]
    },
    {
     "name": "stderr",
     "output_type": "stream",
     "text": [
      "\r",
      " 64%|██████▍   | 86/134 [00:04<00:02, 18.37it/s]"
     ]
    },
    {
     "name": "stdout",
     "output_type": "stream",
     "text": [
      "Epoch 1/1\n",
      "233/233 [==============================] - 0s 201us/step - loss: 0.6472\n",
      "Epoch 1/1\n",
      "286/286 [==============================] - 0s 179us/step - loss: 0.6646\n"
     ]
    },
    {
     "name": "stderr",
     "output_type": "stream",
     "text": [
      "\r",
      " 66%|██████▌   | 88/134 [00:04<00:02, 18.75it/s]"
     ]
    },
    {
     "name": "stdout",
     "output_type": "stream",
     "text": [
      "Epoch 1/1\n",
      "616/616 [==============================] - 0s 186us/step - loss: 0.6195\n",
      "Epoch 1/1\n",
      "147/147 [==============================] - 0s 203us/step - loss: 0.6660\n"
     ]
    },
    {
     "name": "stderr",
     "output_type": "stream",
     "text": [
      "\r",
      " 67%|██████▋   | 90/134 [00:04<00:02, 16.81it/s]"
     ]
    },
    {
     "name": "stdout",
     "output_type": "stream",
     "text": [
      "Epoch 1/1\n",
      "321/321 [==============================] - 0s 228us/step - loss: 0.5264\n",
      "Epoch 1/1\n",
      "274/274 [==============================] - 0s 193us/step - loss: 0.6585\n"
     ]
    },
    {
     "name": "stderr",
     "output_type": "stream",
     "text": [
      "\r",
      " 69%|██████▊   | 92/134 [00:04<00:02, 16.39it/s]"
     ]
    },
    {
     "name": "stdout",
     "output_type": "stream",
     "text": [
      "Epoch 1/1\n",
      "132/132 [==============================] - 0s 228us/step - loss: 0.6896\n",
      "Epoch 1/1\n",
      "169/169 [==============================] - 0s 211us/step - loss: 0.6902\n",
      "Epoch 1/1\n",
      "159/159 [==============================] - 0s 187us/step - loss: 0.5925\n",
      "Epoch 1/1\n",
      "160/160 [==============================] - 0s 184us/step - loss: 0.7138\n"
     ]
    },
    {
     "name": "stderr",
     "output_type": "stream",
     "text": [
      "\r",
      " 72%|███████▏  | 96/134 [00:05<00:01, 19.05it/s]"
     ]
    },
    {
     "name": "stdout",
     "output_type": "stream",
     "text": [
      "Epoch 1/1\n",
      "404/404 [==============================] - 0s 188us/step - loss: 0.6835\n",
      "Epoch 1/1\n",
      "251/251 [==============================] - 0s 187us/step - loss: 0.6828\n",
      "Epoch 1/1\n",
      "168/168 [==============================] - 0s 206us/step - loss: 0.5442\n"
     ]
    },
    {
     "name": "stderr",
     "output_type": "stream",
     "text": [
      "\r",
      " 74%|███████▍  | 99/134 [00:05<00:01, 18.91it/s]"
     ]
    },
    {
     "name": "stdout",
     "output_type": "stream",
     "text": [
      "Epoch 1/1\n",
      "136/136 [==============================] - 0s 218us/step - loss: 0.6742\n",
      "Epoch 1/1\n",
      "192/192 [==============================] - 0s 191us/step - loss: 0.6015\n",
      "Epoch 1/1\n",
      "200/200 [==============================] - 0s 205us/step - loss: 0.6961\n"
     ]
    },
    {
     "name": "stderr",
     "output_type": "stream",
     "text": [
      "\r",
      " 76%|███████▌  | 102/134 [00:05<00:01, 20.76it/s]"
     ]
    },
    {
     "name": "stdout",
     "output_type": "stream",
     "text": [
      "Epoch 1/1\n",
      "260/260 [==============================] - 0s 204us/step - loss: 0.7293\n",
      "Epoch 1/1\n",
      "205/205 [==============================] - 0s 191us/step - loss: 0.7148\n",
      "Epoch 1/1\n",
      "421/421 [==============================] - 0s 190us/step - loss: 0.6751\n"
     ]
    },
    {
     "name": "stderr",
     "output_type": "stream",
     "text": [
      "\r",
      " 78%|███████▊  | 105/134 [00:05<00:01, 19.47it/s]"
     ]
    },
    {
     "name": "stdout",
     "output_type": "stream",
     "text": [
      "Epoch 1/1\n",
      "421/421 [==============================] - 0s 193us/step - loss: 0.6693\n",
      "Epoch 1/1\n",
      "640/640 [==============================] - 0s 174us/step - loss: 0.5325\n",
      "Epoch 1/1\n",
      "143/143 [==============================] - 0s 215us/step - loss: 0.7159\n"
     ]
    },
    {
     "name": "stderr",
     "output_type": "stream",
     "text": [
      "\r",
      " 81%|████████  | 108/134 [00:05<00:01, 17.05it/s]"
     ]
    },
    {
     "name": "stdout",
     "output_type": "stream",
     "text": [
      "Epoch 1/1\n",
      "335/335 [==============================] - 0s 193us/step - loss: 0.6464\n",
      "Epoch 1/1\n",
      "325/325 [==============================] - 0s 199us/step - loss: 0.6304\n"
     ]
    },
    {
     "name": "stderr",
     "output_type": "stream",
     "text": [
      "\r",
      " 82%|████████▏ | 110/134 [00:05<00:01, 16.43it/s]"
     ]
    },
    {
     "name": "stdout",
     "output_type": "stream",
     "text": [
      "Epoch 1/1\n",
      "261/261 [==============================] - 0s 194us/step - loss: 0.6887\n",
      "Epoch 1/1\n",
      "180/180 [==============================] - 0s 246us/step - loss: 0.7023\n",
      "Epoch 1/1\n",
      "200/200 [==============================] - 0s 252us/step - loss: 0.6908\n"
     ]
    },
    {
     "name": "stderr",
     "output_type": "stream",
     "text": [
      "\r",
      " 84%|████████▍ | 113/134 [00:06<00:01, 17.36it/s]"
     ]
    },
    {
     "name": "stdout",
     "output_type": "stream",
     "text": [
      "Epoch 1/1\n",
      "498/498 [==============================] - 0s 204us/step - loss: 0.5832\n",
      "Epoch 1/1\n",
      "508/508 [==============================] - 0s 198us/step - loss: 0.6915\n"
     ]
    },
    {
     "name": "stderr",
     "output_type": "stream",
     "text": [
      "\r",
      " 86%|████████▌ | 115/134 [00:06<00:01, 14.07it/s]"
     ]
    },
    {
     "name": "stdout",
     "output_type": "stream",
     "text": [
      "Epoch 1/1\n",
      "219/219 [==============================] - 0s 201us/step - loss: 0.7442\n",
      "Epoch 1/1\n",
      "188/188 [==============================] - 0s 202us/step - loss: 0.6231\n",
      "Epoch 1/1\n",
      "516/516 [==============================] - 0s 198us/step - loss: 0.6976\n"
     ]
    },
    {
     "name": "stderr",
     "output_type": "stream",
     "text": [
      "\r",
      " 88%|████████▊ | 118/134 [00:06<00:01, 14.56it/s]"
     ]
    },
    {
     "name": "stdout",
     "output_type": "stream",
     "text": [
      "Epoch 1/1\n",
      "194/194 [==============================] - 0s 228us/step - loss: 0.6874\n",
      "Epoch 1/1\n",
      "308/308 [==============================] - 0s 194us/step - loss: 0.6991\n"
     ]
    },
    {
     "name": "stderr",
     "output_type": "stream",
     "text": [
      "\r",
      " 90%|████████▉ | 120/134 [00:06<00:00, 15.60it/s]"
     ]
    },
    {
     "name": "stdout",
     "output_type": "stream",
     "text": [
      "Epoch 1/1\n",
      "308/308 [==============================] - 0s 199us/step - loss: 0.6977\n",
      "Epoch 1/1\n",
      "360/360 [==============================] - 0s 199us/step - loss: 0.6243\n"
     ]
    },
    {
     "name": "stderr",
     "output_type": "stream",
     "text": [
      "\r",
      " 91%|█████████ | 122/134 [00:06<00:00, 15.32it/s]"
     ]
    },
    {
     "name": "stdout",
     "output_type": "stream",
     "text": [
      "Epoch 1/1\n",
      "457/457 [==============================] - 0s 190us/step - loss: 0.7020\n",
      "Epoch 1/1\n",
      "236/236 [==============================] - 0s 197us/step - loss: 0.6803\n"
     ]
    },
    {
     "name": "stderr",
     "output_type": "stream",
     "text": [
      "\r",
      " 93%|█████████▎| 124/134 [00:06<00:00, 15.13it/s]"
     ]
    },
    {
     "name": "stdout",
     "output_type": "stream",
     "text": [
      "Epoch 1/1\n",
      "164/164 [==============================] - 0s 218us/step - loss: 0.5438\n",
      "Epoch 1/1\n",
      "266/266 [==============================] - 0s 196us/step - loss: 0.6802\n",
      "Epoch 1/1\n",
      "297/297 [==============================] - 0s 200us/step - loss: 0.5000\n"
     ]
    },
    {
     "name": "stderr",
     "output_type": "stream",
     "text": [
      "\r",
      " 95%|█████████▍| 127/134 [00:06<00:00, 16.30it/s]"
     ]
    },
    {
     "name": "stdout",
     "output_type": "stream",
     "text": [
      "Epoch 1/1\n",
      "319/319 [==============================] - 0s 200us/step - loss: 0.6937\n",
      "Epoch 1/1\n",
      "174/174 [==============================] - 0s 217us/step - loss: 0.6163\n"
     ]
    },
    {
     "name": "stderr",
     "output_type": "stream",
     "text": [
      "\r",
      " 96%|█████████▋| 129/134 [00:07<00:00, 17.02it/s]"
     ]
    },
    {
     "name": "stdout",
     "output_type": "stream",
     "text": [
      "Epoch 1/1\n",
      "236/236 [==============================] - 0s 214us/step - loss: 0.6566\n",
      "Epoch 1/1\n",
      "166/166 [==============================] - 0s 222us/step - loss: 0.6419\n",
      "Epoch 1/1\n",
      "195/195 [==============================] - 0s 229us/step - loss: 0.6460\n"
     ]
    },
    {
     "name": "stderr",
     "output_type": "stream",
     "text": [
      "\r",
      " 99%|█████████▊| 132/134 [00:07<00:00, 18.25it/s]"
     ]
    },
    {
     "name": "stdout",
     "output_type": "stream",
     "text": [
      "Epoch 1/1\n",
      "158/158 [==============================] - 0s 198us/step - loss: 0.6807\n",
      "Epoch 1/1\n",
      "54/54 [==============================] - 0s 264us/step - loss: 0.5663\n"
     ]
    },
    {
     "name": "stderr",
     "output_type": "stream",
     "text": [
      "\r",
      "100%|██████████| 134/134 [00:07<00:00, 18.55it/s]"
     ]
    },
    {
     "name": "stdout",
     "output_type": "stream",
     "text": [
      "CPU times: user 24min 44s, sys: 16.3 s, total: 25min\n",
      "Wall time: 25min 1s\n"
     ]
    },
    {
     "name": "stderr",
     "output_type": "stream",
     "text": [
      "\n"
     ]
    }
   ],
   "source": [
    "%%time\n",
    "from tqdm import tqdm\n",
    "\n",
    "EPOCHS = 2\n",
    "from random import shuffle\n",
    "\n",
    "all_keys = list(tasks.keys())\n",
    "\n",
    "for i in range(EPOCHS):\n",
    "    print('Epoch ', i)\n",
    "    for x in tqdm(all_keys):\n",
    "        models_mtl[x].fit(X_train[x], y_train[x], verbose=1)"
   ]
  },
  {
   "cell_type": "code",
   "execution_count": 137,
   "metadata": {},
   "outputs": [
    {
     "name": "stderr",
     "output_type": "stream",
     "text": [
      "100%|██████████| 134/134 [12:56<00:00,  5.79s/it]\n"
     ]
    }
   ],
   "source": [
    "y_mtl = []\n",
    "yhat_mtl = []\n",
    "\n",
    "yhats = dict()\n",
    "\n",
    "for x in tqdm(X_test.keys()):\n",
    "    yhat_mlp = models_mtl[x].predict(X_test[x])\n",
    "    yhats[x] = list()\n",
    "    yhats[x].append(yhat_mlp)\n",
    "    \n",
    "    y_mtl.append(y_test[x].ravel())\n",
    "    yhat_mtl.append(yhat_mlp.ravel())"
   ]
  },
  {
   "cell_type": "code",
   "execution_count": 140,
   "metadata": {},
   "outputs": [],
   "source": [
    "concat_y_mtl = np.concatenate(y_mtl)\n",
    "concat_yhat_mtl = np.concatenate(yhat_mtl)"
   ]
  },
  {
   "cell_type": "code",
   "execution_count": 173,
   "metadata": {},
   "outputs": [],
   "source": [
    "# count = 0\n",
    "# for key in y_test.keys():\n",
    "# #     print(y_test[key].shape)\n",
    "#     count += y_test[key].shape[0]\n",
    "# count"
   ]
  },
  {
   "cell_type": "code",
   "execution_count": 174,
   "metadata": {},
   "outputs": [
    {
     "data": {
      "text/plain": [
       "array([0, 1, 1, ..., 1, 1, 1])"
      ]
     },
     "execution_count": 174,
     "metadata": {},
     "output_type": "execute_result"
    }
   ],
   "source": [
    "concat_yhat_mtl_rounded = np.round(concat_yhat_mtl)\n",
    "concat_yhat_mtl_rounded = concat_yhat_mtl_rounded.astype('int64')\n",
    "concat_yhat_mtl_rounded"
   ]
  },
  {
   "cell_type": "code",
   "execution_count": null,
   "metadata": {},
   "outputs": [],
   "source": []
  },
  {
   "cell_type": "markdown",
   "metadata": {},
   "source": [
    "## [20 points] Report the results using AUC, BEDROC, and Enrichment factor. These metrics are easily calculated using the RDKit scoring library. Discuss the results (you will need to look up each evaluation metric to interpret the result). You may be interested in page 6 of the following document: https://www.dropbox.com/s/6je37ml475vg3ep/Srinivas2018ImplictDescriptorUnderReview.pdf?dl=0"
   ]
  },
  {
   "cell_type": "code",
   "execution_count": 149,
   "metadata": {},
   "outputs": [
    {
     "name": "stdout",
     "output_type": "stream",
     "text": [
      "0.6256637168141593\n"
     ]
    }
   ],
   "source": [
    "from sklearn.metrics import accuracy_score\n",
    "\n",
    "print(accuracy_score(concat_y_mtl, concat_yhat_mtl_rounded))"
   ]
  },
  {
   "cell_type": "code",
   "execution_count": 150,
   "metadata": {},
   "outputs": [
    {
     "name": "stdout",
     "output_type": "stream",
     "text": [
      "              precision    recall  f1-score   support\n",
      "\n",
      "           0       0.53      0.43      0.48      3552\n",
      "           1       0.67      0.75      0.71      5488\n",
      "\n",
      "    accuracy                           0.63      9040\n",
      "   macro avg       0.60      0.59      0.59      9040\n",
      "weighted avg       0.62      0.63      0.62      9040\n",
      "\n"
     ]
    }
   ],
   "source": [
    "from sklearn import metrics\n",
    "\n",
    "print(metrics.classification_report(concat_y_mtl, concat_yhat_mtl_rounded))"
   ]
  },
  {
   "cell_type": "code",
   "execution_count": 151,
   "metadata": {},
   "outputs": [
    {
     "name": "stdout",
     "output_type": "stream",
     "text": [
      "0.7088280846670107\n"
     ]
    }
   ],
   "source": [
    "print(metrics.f1_score(concat_y_mtl, concat_yhat_mtl_rounded))"
   ]
  },
  {
   "cell_type": "code",
   "execution_count": 152,
   "metadata": {},
   "outputs": [
    {
     "name": "stdout",
     "output_type": "stream",
     "text": [
      "[[1537 2015]\n",
      " [1369 4119]]\n"
     ]
    }
   ],
   "source": [
    "print(metrics.confusion_matrix(concat_y_mtl, concat_yhat_mtl_rounded))"
   ]
  },
  {
   "cell_type": "code",
   "execution_count": 153,
   "metadata": {},
   "outputs": [],
   "source": [
    "df_fp = df.copy()\n",
    "\n",
    "morganfingerprints = list()\n",
    "atomfingerprints = list()\n",
    "\n",
    "morganfingerprints = [smilesToMorganFingerprint_asarray(df_fp['smiles'].iloc[i]) for i in range(len(df_fp))]\n",
    "atomfingerprints = [smilesToAtomFingerprint_asarray(df_fp['smiles'].iloc[i]) for i in range(len(df_fp))]"
   ]
  },
  {
   "cell_type": "code",
   "execution_count": 154,
   "metadata": {},
   "outputs": [
    {
     "data": {
      "text/plain": [
       "176400"
      ]
     },
     "execution_count": 154,
     "metadata": {},
     "output_type": "execute_result"
    }
   ],
   "source": [
    "len(morganfingerprints)"
   ]
  },
  {
   "cell_type": "code",
   "execution_count": 155,
   "metadata": {},
   "outputs": [],
   "source": [
    "df_fp['morganfingerprints'] = morganfingerprints\n",
    "df_fp['atomfingerprints'] = atomfingerprints"
   ]
  },
  {
   "cell_type": "code",
   "execution_count": 156,
   "metadata": {},
   "outputs": [
    {
     "data": {
      "text/html": [
       "<div>\n",
       "<style scoped>\n",
       "    .dataframe tbody tr th:only-of-type {\n",
       "        vertical-align: middle;\n",
       "    }\n",
       "\n",
       "    .dataframe tbody tr th {\n",
       "        vertical-align: top;\n",
       "    }\n",
       "\n",
       "    .dataframe thead th {\n",
       "        text-align: right;\n",
       "    }\n",
       "</style>\n",
       "<table border=\"1\" class=\"dataframe\">\n",
       "  <thead>\n",
       "    <tr style=\"text-align: right;\">\n",
       "      <th></th>\n",
       "      <th>molecule</th>\n",
       "      <th>ic50</th>\n",
       "      <th>units</th>\n",
       "      <th>smiles</th>\n",
       "      <th>target</th>\n",
       "      <th>active</th>\n",
       "      <th>morganfingerprints</th>\n",
       "      <th>atomfingerprints</th>\n",
       "    </tr>\n",
       "  </thead>\n",
       "  <tbody>\n",
       "    <tr>\n",
       "      <th>0</th>\n",
       "      <td>CHEMBL278261</td>\n",
       "      <td>870.00</td>\n",
       "      <td>nM</td>\n",
       "      <td>CN(Cc1c[nH]c2nc(N)nc(N)c12)c3cccc4ccccc34</td>\n",
       "      <td>CHEMBL828662</td>\n",
       "      <td>0</td>\n",
       "      <td>[0, 0, 0, 0, 0, 0, 0, 0, 0, 0, 0, 0, 0, 0, 0, ...</td>\n",
       "      <td>[1, 0, 0, 0, 0, 0, 0, 0, 0, 0, 0, 0, 0, 0, 0, ...</td>\n",
       "    </tr>\n",
       "    <tr>\n",
       "      <th>1</th>\n",
       "      <td>CHEMBL142081</td>\n",
       "      <td>57.94</td>\n",
       "      <td>nM</td>\n",
       "      <td>COc1ccccc1Sc2ccc3nc(N)nc(N)c3n2</td>\n",
       "      <td>CHEMBL830839</td>\n",
       "      <td>1</td>\n",
       "      <td>[1, 1, 0, 0, 0, 0, 0, 0, 0, 0, 0, 0, 0, 0, 0, ...</td>\n",
       "      <td>[0, 0, 0, 0, 0, 0, 0, 0, 0, 0, 0, 0, 0, 0, 0, ...</td>\n",
       "    </tr>\n",
       "    <tr>\n",
       "      <th>2</th>\n",
       "      <td>CHEMBL121319</td>\n",
       "      <td>97.00</td>\n",
       "      <td>nM</td>\n",
       "      <td>Nc1nc(N)c2CC(CNc3cc(Cl)ccc3Cl)CCc2n1</td>\n",
       "      <td>CHEMBL828662</td>\n",
       "      <td>1</td>\n",
       "      <td>[0, 0, 0, 0, 0, 0, 0, 0, 0, 0, 0, 0, 0, 0, 0, ...</td>\n",
       "      <td>[1, 1, 0, 0, 1, 1, 1, 0, 1, 0, 0, 0, 0, 0, 0, ...</td>\n",
       "    </tr>\n",
       "    <tr>\n",
       "      <th>3</th>\n",
       "      <td>CHEMBL121319</td>\n",
       "      <td>97.01</td>\n",
       "      <td>nM</td>\n",
       "      <td>Nc1nc(N)c2CC(CNc3cc(Cl)ccc3Cl)CCc2n1</td>\n",
       "      <td>CHEMBL830839</td>\n",
       "      <td>1</td>\n",
       "      <td>[0, 0, 0, 0, 0, 0, 0, 0, 0, 0, 0, 0, 0, 0, 0, ...</td>\n",
       "      <td>[1, 1, 0, 0, 1, 1, 1, 0, 1, 0, 0, 0, 0, 0, 0, ...</td>\n",
       "    </tr>\n",
       "    <tr>\n",
       "      <th>4</th>\n",
       "      <td>CHEMBL299174</td>\n",
       "      <td>14.00</td>\n",
       "      <td>nM</td>\n",
       "      <td>COc1ccc(N(C)Cc2ccc3nc(N)nc(N)c3n2)c(OC)c1</td>\n",
       "      <td>CHEMBL828662</td>\n",
       "      <td>1</td>\n",
       "      <td>[1, 0, 0, 0, 0, 0, 0, 0, 0, 0, 0, 0, 0, 0, 0, ...</td>\n",
       "      <td>[0, 0, 0, 0, 1, 0, 0, 0, 0, 0, 0, 0, 1, 0, 0, ...</td>\n",
       "    </tr>\n",
       "  </tbody>\n",
       "</table>\n",
       "</div>"
      ],
      "text/plain": [
       "       molecule    ic50 units                                     smiles  \\\n",
       "0  CHEMBL278261  870.00    nM  CN(Cc1c[nH]c2nc(N)nc(N)c12)c3cccc4ccccc34   \n",
       "1  CHEMBL142081   57.94    nM            COc1ccccc1Sc2ccc3nc(N)nc(N)c3n2   \n",
       "2  CHEMBL121319   97.00    nM       Nc1nc(N)c2CC(CNc3cc(Cl)ccc3Cl)CCc2n1   \n",
       "3  CHEMBL121319   97.01    nM       Nc1nc(N)c2CC(CNc3cc(Cl)ccc3Cl)CCc2n1   \n",
       "4  CHEMBL299174   14.00    nM  COc1ccc(N(C)Cc2ccc3nc(N)nc(N)c3n2)c(OC)c1   \n",
       "\n",
       "         target  active                                 morganfingerprints  \\\n",
       "0  CHEMBL828662       0  [0, 0, 0, 0, 0, 0, 0, 0, 0, 0, 0, 0, 0, 0, 0, ...   \n",
       "1  CHEMBL830839       1  [1, 1, 0, 0, 0, 0, 0, 0, 0, 0, 0, 0, 0, 0, 0, ...   \n",
       "2  CHEMBL828662       1  [0, 0, 0, 0, 0, 0, 0, 0, 0, 0, 0, 0, 0, 0, 0, ...   \n",
       "3  CHEMBL830839       1  [0, 0, 0, 0, 0, 0, 0, 0, 0, 0, 0, 0, 0, 0, 0, ...   \n",
       "4  CHEMBL828662       1  [1, 0, 0, 0, 0, 0, 0, 0, 0, 0, 0, 0, 0, 0, 0, ...   \n",
       "\n",
       "                                    atomfingerprints  \n",
       "0  [1, 0, 0, 0, 0, 0, 0, 0, 0, 0, 0, 0, 0, 0, 0, ...  \n",
       "1  [0, 0, 0, 0, 0, 0, 0, 0, 0, 0, 0, 0, 0, 0, 0, ...  \n",
       "2  [1, 1, 0, 0, 1, 1, 1, 0, 1, 0, 0, 0, 0, 0, 0, ...  \n",
       "3  [1, 1, 0, 0, 1, 1, 1, 0, 1, 0, 0, 0, 0, 0, 0, ...  \n",
       "4  [0, 0, 0, 0, 1, 0, 0, 0, 0, 0, 0, 0, 1, 0, 0, ...  "
      ]
     },
     "execution_count": 156,
     "metadata": {},
     "output_type": "execute_result"
    }
   ],
   "source": [
    "df_fp.head()"
   ]
  },
  {
   "cell_type": "code",
   "execution_count": 157,
   "metadata": {},
   "outputs": [],
   "source": [
    "# df_fp.to_csv('./df_fp.csv')"
   ]
  },
  {
   "cell_type": "code",
   "execution_count": 158,
   "metadata": {},
   "outputs": [
    {
     "data": {
      "text/plain": [
       "array([1, 1, 1, 1, 1, 0, 1, 1, 1, 1, 1, 0, 1, 0, 0, 0, 1, 0, 1, 1, 0, 1,\n",
       "       1, 0, 1, 0, 1, 1, 1, 1, 0, 1, 1, 1, 0, 1])"
      ]
     },
     "execution_count": 158,
     "metadata": {},
     "output_type": "execute_result"
    }
   ],
   "source": [
    "y_mtl[0]"
   ]
  },
  {
   "cell_type": "code",
   "execution_count": 159,
   "metadata": {},
   "outputs": [
    {
     "data": {
      "text/plain": [
       "array([0.46918872, 0.61203426, 0.5563969 , 0.45621616, 0.5242559 ,\n",
       "       0.48616567, 0.4920755 , 0.5449638 , 0.63418925, 0.6173152 ,\n",
       "       0.46479815, 0.4868079 , 0.61104035, 0.50377744, 0.5089835 ,\n",
       "       0.5553215 , 0.56907636, 0.5146651 , 0.47349542, 0.51964337,\n",
       "       0.56390756, 0.53943276, 0.5869937 , 0.5376816 , 0.51786584,\n",
       "       0.47411597, 0.5212734 , 0.61203426, 0.53998965, 0.49513307,\n",
       "       0.4901135 , 0.5715004 , 0.5946566 , 0.61662847, 0.5703798 ,\n",
       "       0.48038748], dtype=float32)"
      ]
     },
     "execution_count": 159,
     "metadata": {},
     "output_type": "execute_result"
    }
   ],
   "source": [
    "yhat_mtl[0]"
   ]
  },
  {
   "cell_type": "code",
   "execution_count": 161,
   "metadata": {},
   "outputs": [
    {
     "name": "stdout",
     "output_type": "stream",
     "text": [
      "[0.46918872 0.61203426 0.5563969  0.45621616 0.5242559  0.48616567\n",
      " 0.4920755  0.5449638  0.63418925 0.6173152  0.46479815 0.4868079\n",
      " 0.61104035 0.50377744 0.5089835  0.5553215  0.56907636 0.5146651\n",
      " 0.47349542 0.51964337 0.56390756 0.53943276 0.5869937  0.5376816\n",
      " 0.51786584 0.47411597 0.5212734  0.61203426 0.53998965 0.49513307\n",
      " 0.4901135  0.5715004  0.5946566  0.61662847 0.5703798  0.48038748]\n",
      "36\n"
     ]
    }
   ],
   "source": [
    "for y_hat, y_og in zip(yhat_mtl, y_mtl):\n",
    "    print(y_hat)\n",
    "    print(len(y_hat))\n",
    "    break"
   ]
  },
  {
   "cell_type": "markdown",
   "metadata": {},
   "source": [
    "### Useful part below"
   ]
  },
  {
   "cell_type": "code",
   "execution_count": 163,
   "metadata": {},
   "outputs": [],
   "source": [
    "data_score = {'y_hat': yhat_mtl[55], 'y_og': y_mtl[55]}\n",
    "df_score = pd.DataFrame(data=data_score)\n",
    "# param: scores: ordered list with descending similarity containing active/inactive information\n",
    "df_score = df_score.sort_values(by='y_hat', ascending=False)\n",
    "rdkit_score = list()\n",
    "\n",
    "for i in range(len(df_score)):\n",
    "    rdkit_score.append([df_score['y_hat'].iloc[i], df_score['y_og'].iloc[i]])\n",
    "\n",
    "    "
   ]
  },
  {
   "cell_type": "code",
   "execution_count": 166,
   "metadata": {},
   "outputs": [],
   "source": [
    "from rdkit.ML.Scoring.Scoring import CalcAUC, CalcBEDROC\n",
    "\n",
    "def get_scores(y_original, y_predict):\n",
    "    data_score = {'y_original': y_original, 'y_predict': y_predict}\n",
    "    # put them into dataframe, easier to sort\n",
    "    df_score = pd.DataFrame(data=data_score)\n",
    "    df_score = df_score.sort_values(by='y_predict', ascending=False)\n",
    "    \n",
    "    rdkit_score = list()\n",
    "    for i in range(len(df_score)):\n",
    "        rdkit_score.append([df_score['y_original'].iloc[i], df_score['y_predict'].iloc[i]])\n",
    "    \n",
    "    return rdkit_score\n",
    "\n",
    "def cal_auc(y_mtl, yhat_mtl):\n",
    "    auc_list = list()\n",
    "    for y_orig, y_pred in zip(y_mtl, yhat_mtl):\n",
    "        rdkit_score = get_scores(y_orig, y_pred)\n",
    "        auc = CalcAUC(rdkit_score, 0)\n",
    "        auc_list.append(auc)\n",
    "    \n",
    "    return auc_list"
   ]
  },
  {
   "cell_type": "code",
   "execution_count": 167,
   "metadata": {},
   "outputs": [
    {
     "data": {
      "text/plain": [
       "[0.650909090909091,\n",
       " 0.6551724137931035,\n",
       " 0.3421052631578947,\n",
       " 0.43537414965986404,\n",
       " 0.786967418546366,\n",
       " 0.7673611111111112,\n",
       " 0.7272727272727273,\n",
       " 0.5868055555555556,\n",
       " 0.4902597402597402,\n",
       " 0.5097222222222222,\n",
       " 0.7439903846153847,\n",
       " 0.7316239316239316,\n",
       " 0.780612244897959,\n",
       " 0.7474489795918369,\n",
       " 0.5437665782493368,\n",
       " 0.3954248366013072,\n",
       " 0.6931818181818181,\n",
       " 0.6147079521463759,\n",
       " 0.48631578947368426,\n",
       " 0.4464285714285714,\n",
       " 0.5845864661654135,\n",
       " 0.5695695695695696,\n",
       " 0.9074074074074074,\n",
       " 0.5668934240362812,\n",
       " 0.6444444444444445,\n",
       " 0.703373819163293,\n",
       " 0.5014285714285713,\n",
       " 0.4088541666666667,\n",
       " 0.4529411764705883,\n",
       " 0.5178571428571428,\n",
       " 0.5310778914240756,\n",
       " 0.4689387402933564,\n",
       " 0.6476476476476476,\n",
       " 0.5133333333333333,\n",
       " 0.5816326530612245,\n",
       " 0.5990180032733224,\n",
       " 0.6396761133603238,\n",
       " 0.668607359105729,\n",
       " 0.6106951871657754,\n",
       " 0.5571095571095571,\n",
       " 0.7423076923076923,\n",
       " 0.8042534722222224,\n",
       " 0.6541176470588235,\n",
       " 0.6527777777777778,\n",
       " 0.5218295218295218,\n",
       " 0.7774699907663897,\n",
       " 0.7634259259259255,\n",
       " 0.5231568016614745,\n",
       " 0.49469496021220155,\n",
       " 0.56,\n",
       " 0.468671679197995,\n",
       " 0.5151515151515151,\n",
       " 0.5833333333333333,\n",
       " 0.733151803948264,\n",
       " 0.7115749525616697,\n",
       " 0.4812925170068027,\n",
       " 0.5266666666666666,\n",
       " 0.4347319347319346,\n",
       " 0.4436701509872243,\n",
       " 0.6706349206349207,\n",
       " 0.5835777126099706,\n",
       " 0.5714285714285714,\n",
       " 0.4718045112781955,\n",
       " 0.465,\n",
       " 0.4996168582375478,\n",
       " 0.43910256410256404,\n",
       " 0.8177777777777777,\n",
       " 0.4226190476190476,\n",
       " 0.6399358460304732,\n",
       " 0.5571120689655171,\n",
       " 0.6383442265795207,\n",
       " 0.6427738927738927,\n",
       " 0.5811688311688312,\n",
       " 0.41456582633053224,\n",
       " 0.3680555555555556,\n",
       " 0.6798941798941798,\n",
       " 0.6849078341013826,\n",
       " 0.31196581196581197,\n",
       " 0.512,\n",
       " 0.8250000000000001,\n",
       " 0.34472049689441,\n",
       " 0.7365384615384616,\n",
       " 0.7635281385281385,\n",
       " 0.7316053511705686,\n",
       " 0.645029239766082,\n",
       " 0.6612159329140459,\n",
       " 0.6979949874686717,\n",
       " 0.6140195208518191,\n",
       " 0.7896288588276101,\n",
       " 0.6538461538461539,\n",
       " 0.5978835978835979,\n",
       " 0.6358024691358023,\n",
       " 0.6578947368421052,\n",
       " 0.5303030303030303,\n",
       " 0.43727598566308246,\n",
       " 0.46969696969696967,\n",
       " 0.7836865253898437,\n",
       " 0.5918367346938775,\n",
       " 0.8285714285714286,\n",
       " 0.778846153846154,\n",
       " 0.7522522522522522,\n",
       " 0.8165584415584415,\n",
       " 0.5392156862745098,\n",
       " 0.5513513513513514,\n",
       " 0.6058170685036355,\n",
       " 0.7217757367011097,\n",
       " 0.6882557901209266,\n",
       " 0.4201388888888889,\n",
       " 0.7712045616535993,\n",
       " 0.8457912457912456,\n",
       " 0.48496732026143785,\n",
       " 0.6428571428571429,\n",
       " 0.7745571658615136,\n",
       " 0.5819721718088323,\n",
       " 0.6141025641025641,\n",
       " 0.41644562334217505,\n",
       " 0.4369747899159664,\n",
       " 0.5897619047619046,\n",
       " 0.6720430107526881,\n",
       " 0.4317528735632183,\n",
       " 0.520933424845573,\n",
       " 0.6600215517241379,\n",
       " 0.6021505376344086,\n",
       " 0.6137499999999999,\n",
       " 0.5935483870967742,\n",
       " 0.4809437386569872,\n",
       " 0.589090909090909,\n",
       " 0.6278772378516624,\n",
       " 0.611764705882353,\n",
       " 0.30612244897959184,\n",
       " 0.4083333333333333,\n",
       " 0.6555023923444976,\n",
       " 0.37084398976982097,\n",
       " 0.4]"
      ]
     },
     "execution_count": 167,
     "metadata": {},
     "output_type": "execute_result"
    }
   ],
   "source": [
    "auc_list = cal_auc(y_mtl, yhat_mtl)\n",
    "auc_list"
   ]
  },
  {
   "cell_type": "code",
   "execution_count": 172,
   "metadata": {},
   "outputs": [
    {
     "data": {
      "text/plain": [
       "<matplotlib.axes._subplots.AxesSubplot at 0x1abb312400>"
      ]
     },
     "execution_count": 172,
     "metadata": {},
     "output_type": "execute_result"
    },
    {
     "data": {
      "image/png": "[encoded data removed]",
      "text/plain": [
       "<Figure size 432x288 with 1 Axes>"
      ]
     },
     "metadata": {
      "needs_background": "light"
     },
     "output_type": "display_data"
    }
   ],
   "source": [
    "import seaborn as sns\n",
    "\n",
    "sns_data = pd.DataFrame(data=auc_list, columns=['auc'])\n",
    "plt.title('MorganFingerprints AUC')\n",
    "sns.boxplot(data=sns_data['auc'], width=0.4)"
   ]
  },
  {
   "cell_type": "code",
   "execution_count": null,
   "metadata": {},
   "outputs": [],
   "source": []
  }
 ],
 "metadata": {
  "kernelspec": {
   "display_name": "Python 3",
   "language": "python",
   "name": "python3"
  },
  "language_info": {
   "codemirror_mode": {
    "name": "ipython",
    "version": 3
   },
   "file_extension": ".py",
   "mimetype": "text/x-python",
   "name": "python",
   "nbconvert_exporter": "python",
   "pygments_lexer": "ipython3",
   "version": "3.6.10"
  }
 },
 "nbformat": 4,
 "nbformat_minor": 2
}
